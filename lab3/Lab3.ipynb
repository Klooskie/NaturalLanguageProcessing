{
 "cells": [
  {
   "cell_type": "code",
   "execution_count": 1,
   "metadata": {},
   "outputs": [],
   "source": [
    "import glob\n",
    "import regex\n",
    "import Levenshtein\n",
    "import numpy as np\n",
    "import matplotlib.pyplot as plt\n",
    "import pandas as pd\n",
    "from elasticsearch import Elasticsearch\n",
    "from elasticsearch.helpers import parallel_bulk, bulk\n",
    "from bisect import bisect\n",
    "from spacy.tokenizer import Tokenizer\n",
    "from spacy.lang.pl import Polish"
   ]
  },
  {
   "cell_type": "code",
   "execution_count": 2,
   "metadata": {},
   "outputs": [
    {
     "data": {
      "text/plain": [
       "['../lab1/ustawy/1993_599.txt',\n",
       " '../lab1/ustawy/1993_602.txt',\n",
       " '../lab1/ustawy/1993_645.txt',\n",
       " '../lab1/ustawy/1993_646.txt',\n",
       " '../lab1/ustawy/1994_150.txt']"
      ]
     },
     "execution_count": 2,
     "metadata": {},
     "output_type": "execute_result"
    }
   ],
   "source": [
    "PATH = '../lab1/ustawy/'\n",
    "file_names = sorted(glob.glob(PATH + \"*\"))\n",
    "file_names[:5]"
   ]
  },
  {
   "cell_type": "code",
   "execution_count": 3,
   "metadata": {},
   "outputs": [],
   "source": [
    "law_acts =[]\n",
    "for file_name in file_names:\n",
    "    with open(file_name, \"r\", encoding=\"utf-8\") as f:\n",
    "        law_acts.append(f.read().lower())"
   ]
  },
  {
   "cell_type": "markdown",
   "metadata": {},
   "source": [
    "# Zadanie 1\n",
    "\n",
    "Tokenizacja każdego projektu ustawy przy użyciu tokenizera spacy"
   ]
  },
  {
   "cell_type": "code",
   "execution_count": 4,
   "metadata": {},
   "outputs": [],
   "source": [
    "lang = Polish()\n",
    "tokenizer = Tokenizer(lang.vocab)"
   ]
  },
  {
   "cell_type": "code",
   "execution_count": 5,
   "metadata": {},
   "outputs": [
    {
     "name": "stdout",
     "output_type": "stream",
     "text": [
      "CPU times: user 38.2 s, sys: 624 ms, total: 38.8 s\n",
      "Wall time: 39.2 s\n"
     ]
    }
   ],
   "source": [
    "%%time\n",
    "tokens_per_act = []\n",
    "\n",
    "for law_act in law_acts:\n",
    "    tokens_per_act.append(tokenizer(law_act))"
   ]
  },
  {
   "cell_type": "markdown",
   "metadata": {},
   "source": [
    "# Zadanie 2\n",
    "\n",
    "Obliczenie słownika częstotliwości występowania tokenów w poszczególnych projektach ustaw"
   ]
  },
  {
   "cell_type": "code",
   "execution_count": 6,
   "metadata": {},
   "outputs": [
    {
     "name": "stdout",
     "output_type": "stream",
     "text": [
      "CPU times: user 11.1 s, sys: 308 ms, total: 11.4 s\n",
      "Wall time: 11.4 s\n"
     ]
    }
   ],
   "source": [
    "%%time\n",
    "frequency_list_per_act = []\n",
    "\n",
    "for tokens in tokens_per_act:\n",
    "    unique_tokens, counts = np.unique([token.string.strip() for token in tokens], return_counts=True)\n",
    "    frequency_list = {unique_token: count for unique_token, count in zip(unique_tokens, counts)}\n",
    "    frequency_list_per_act.append(frequency_list)"
   ]
  },
  {
   "cell_type": "markdown",
   "metadata": {},
   "source": [
    "# Zadanie 3\n",
    "\n",
    "Agregacja wyników zadania 2 w celu uzyskania słownika częstotliwości występowania tokenów we wszystkich dokumentach"
   ]
  },
  {
   "cell_type": "code",
   "execution_count": 7,
   "metadata": {},
   "outputs": [
    {
     "name": "stdout",
     "output_type": "stream",
     "text": [
      "CPU times: user 976 ms, sys: 3.96 ms, total: 980 ms\n",
      "Wall time: 980 ms\n"
     ]
    }
   ],
   "source": [
    "%%time\n",
    "global_frequency = {}\n",
    "\n",
    "for frequency_list in frequency_list_per_act:\n",
    "    for token, count in frequency_list.items():\n",
    "        prev_count = global_frequency.get(token, 0)\n",
    "        global_frequency[token] = prev_count + count"
   ]
  },
  {
   "cell_type": "markdown",
   "metadata": {},
   "source": [
    "# Zadanie 4\n",
    "\n",
    "Odrzucenie tokenów krótszych niż 2 znaki, lub zawierających nie litery"
   ]
  },
  {
   "cell_type": "code",
   "execution_count": 8,
   "metadata": {},
   "outputs": [
    {
     "name": "stdout",
     "output_type": "stream",
     "text": [
      "CPU times: user 85 ms, sys: 144 µs, total: 85.2 ms\n",
      "Wall time: 89 ms\n"
     ]
    }
   ],
   "source": [
    "%%time\n",
    "new_global_frequency = {}\n",
    "\n",
    "for token, count in global_frequency.items():\n",
    "    if token.isalpha() and len(token) >= 2:\n",
    "        new_global_frequency[token] = count\n",
    "global_frequency = new_global_frequency"
   ]
  },
  {
   "cell_type": "code",
   "execution_count": 9,
   "metadata": {},
   "outputs": [
    {
     "data": {
      "text/plain": [
       "6045"
      ]
     },
     "execution_count": 9,
     "metadata": {},
     "output_type": "execute_result"
    }
   ],
   "source": [
    "global_frequency['być']"
   ]
  },
  {
   "cell_type": "markdown",
   "metadata": {},
   "source": [
    "# Zadanie 5"
   ]
  },
  {
   "cell_type": "code",
   "execution_count": 10,
   "metadata": {},
   "outputs": [
    {
     "data": {
      "text/plain": [
       "[('akcesoria', 5),\n",
       " ('akcyzowych', 334),\n",
       " ('akcyzowym', 67),\n",
       " ('akcyzy', 471),\n",
       " ('akcyzą', 40)]"
      ]
     },
     "execution_count": 10,
     "metadata": {},
     "output_type": "execute_result"
    }
   ],
   "source": [
    "items = list(global_frequency.items())\n",
    "items[:5]"
   ]
  },
  {
   "cell_type": "markdown",
   "metadata": {},
   "source": [
    "Listę tokenów sortuję zgodnie z kluczem składającym się z liczby przeciwnej do liczby wystąpień tokenu i pisowni tokenu. Pierwsza część zapewnia ułożenie tokenów od najczęściej występujących, a druga alfabetyczne posortowanie tokenów występujących tyle samo razy"
   ]
  },
  {
   "cell_type": "code",
   "execution_count": 11,
   "metadata": {},
   "outputs": [
    {
     "data": {
      "text/plain": [
       "[('do', 60402), ('na', 50395), ('lub', 45625), ('nr', 45125), ('się', 44137)]"
      ]
     },
     "execution_count": 11,
     "metadata": {},
     "output_type": "execute_result"
    }
   ],
   "source": [
    "items.sort(key=lambda item: (-item[1], item[0]))\n",
    "items[:5]"
   ]
  },
  {
   "cell_type": "code",
   "execution_count": 12,
   "metadata": {},
   "outputs": [
    {
     "data": {
      "image/png": "[encoded data removed]",
      "text/plain": [
       "<Figure size 576x432 with 1 Axes>"
      ]
     },
     "metadata": {
      "needs_background": "light"
     },
     "output_type": "display_data"
    },
    {
     "name": "stdout",
     "output_type": "stream",
     "text": [
      "CPU times: user 1.84 s, sys: 32.2 ms, total: 1.87 s\n",
      "Wall time: 1.93 s\n"
     ]
    }
   ],
   "source": [
    "%%time\n",
    "plt.figure(figsize=(8, 6))\n",
    "plt.yscale('log')\n",
    "plt.scatter(list(range(len(items))), [item[1] for item in items], s=1)\n",
    "plt.title('Tokens occurrences')\n",
    "plt.xlabel('Token rank')\n",
    "plt.ylabel('Number of occurences')\n",
    "plt.show()"
   ]
  },
  {
   "cell_type": "markdown",
   "metadata": {},
   "source": [
    "# Zadanie 6\n",
    "\n",
    "Najpierw wczytuje i sortuje wszystkie formy słów dostępne w polimorfiku"
   ]
  },
  {
   "cell_type": "code",
   "execution_count": 13,
   "metadata": {},
   "outputs": [
    {
     "name": "stdout",
     "output_type": "stream",
     "text": [
      "CPU times: user 13.8 s, sys: 2.84 s, total: 16.6 s\n",
      "Wall time: 18 s\n"
     ]
    }
   ],
   "source": [
    "%%time\n",
    "MORFOLOGIK_PATH = '../polimorfologik-2.1/polimorfologik-2.1.txt'\n",
    "morfologik_words =[]\n",
    "with open(MORFOLOGIK_PATH, \"r\", encoding=\"utf-8\") as f:\n",
    "    line = f.readline()\n",
    "    while line:\n",
    "        morfologik_words.append(line.split(';')[1].lower())\n",
    "        line = f.readline()\n",
    "morfologik_words = sorted(np.unique(morfologik_words))"
   ]
  },
  {
   "cell_type": "code",
   "execution_count": 14,
   "metadata": {},
   "outputs": [
    {
     "data": {
      "text/plain": [
       "['abażuru', 'abażury', 'abażurze', 'abażurów', 'abb']"
      ]
     },
     "execution_count": 14,
     "metadata": {},
     "output_type": "execute_result"
    }
   ],
   "source": [
    "morfologik_words[300:305]"
   ]
  },
  {
   "cell_type": "markdown",
   "metadata": {},
   "source": [
    "Binsearchem sprawdzam, które z tokenów nie występują w słowniku"
   ]
  },
  {
   "cell_type": "code",
   "execution_count": 15,
   "metadata": {},
   "outputs": [],
   "source": [
    "def is_in_list(listt, x):\n",
    "    index = bisect(listt, x)\n",
    "    if index == 0:\n",
    "        return False\n",
    "    return listt[index-1] == x"
   ]
  },
  {
   "cell_type": "code",
   "execution_count": 16,
   "metadata": {},
   "outputs": [
    {
     "name": "stdout",
     "output_type": "stream",
     "text": [
      "CPU times: user 313 ms, sys: 112 µs, total: 313 ms\n",
      "Wall time: 314 ms\n"
     ]
    },
    {
     "data": {
      "text/plain": [
       "[('gryzaczki', 1),\n",
       " ('kabelkowe', 1),\n",
       " ('odpodatkowania', 1),\n",
       " ('sww', 72),\n",
       " ('wadociągowych', 1),\n",
       " ('iv', 148),\n",
       " ('ix', 27),\n",
       " ('uchybionych', 1),\n",
       " ('vi', 87),\n",
       " ('vii', 64)]"
      ]
     },
     "execution_count": 16,
     "metadata": {},
     "output_type": "execute_result"
    }
   ],
   "source": [
    "%%time\n",
    "missing_items = [item for item in global_frequency.items() if not is_in_list(morfologik_words, item[0])]\n",
    "missing_items[:10]"
   ]
  },
  {
   "cell_type": "markdown",
   "metadata": {},
   "source": [
    "# Zadanie 7\n",
    "\n",
    "Wyświetlenie 30 najczęściej występujących słów, których nie ma w słowniku. Znów używam sortowania wg klucza opisanego w zadaniu 5 "
   ]
  },
  {
   "cell_type": "code",
   "execution_count": 17,
   "metadata": {},
   "outputs": [
    {
     "data": {
      "text/plain": [
       "[('gmo', 192),\n",
       " ('skw', 184),\n",
       " ('sa', 182),\n",
       " ('ex', 155),\n",
       " ('iv', 148),\n",
       " ('ike', 116),\n",
       " ('vi', 87),\n",
       " ('kn', 84),\n",
       " ('cn', 77),\n",
       " ('uke', 74),\n",
       " ('ure', 74),\n",
       " ('sww', 72),\n",
       " ('vii', 64),\n",
       " ('phs', 52),\n",
       " ('udt', 52),\n",
       " ('remediacji', 51),\n",
       " ('bswsg', 42),\n",
       " ('bswp', 39),\n",
       " ('viii', 34),\n",
       " ('pkwiu', 29),\n",
       " ('fep', 27),\n",
       " ('ix', 27),\n",
       " ('pcn', 27),\n",
       " ('ose', 26),\n",
       " ('uokik', 26),\n",
       " ('doręczeń', 25),\n",
       " ('frd', 25),\n",
       " ('plk', 25),\n",
       " ('inulinowego', 24),\n",
       " ('xi', 24)]"
      ]
     },
     "execution_count": 17,
     "metadata": {},
     "output_type": "execute_result"
    }
   ],
   "source": [
    "missing_items.sort(key=lambda item: (-item[1], item[0]))\n",
    "missing_items[:30]"
   ]
  },
  {
   "cell_type": "markdown",
   "metadata": {},
   "source": [
    "# Zadanie 8\n",
    "\n",
    "Znalezienie 30 słów spoza słownika, które występują dokładnie 5 razy (korzystam z posortowanej wcześniej listy, więc otrzymam alfabetycznie posortowane słowa)"
   ]
  },
  {
   "cell_type": "code",
   "execution_count": 18,
   "metadata": {},
   "outputs": [
    {
     "data": {
      "text/plain": [
       "[('agave', 5),\n",
       " ('ami', 5),\n",
       " ('anonimizacji', 5),\n",
       " ('badawczorozwojowych', 5),\n",
       " ('dostosowań', 5),\n",
       " ('iib', 5),\n",
       " ('izobutyl', 5),\n",
       " ('jed', 5),\n",
       " ('ktrej', 5),\n",
       " ('najmnie', 5),\n",
       " ('naliczeń', 5),\n",
       " ('nawodnień', 5),\n",
       " ('nawozw', 5),\n",
       " ('nfośigw', 5),\n",
       " ('nusp', 5),\n",
       " ('odgazowywacze', 5),\n",
       " ('odwzorowań', 5),\n",
       " ('ośc', 5),\n",
       " ('poddziałań', 5),\n",
       " ('ponadzakładowym', 5),\n",
       " ('pozaaptecznego', 5),\n",
       " ('ppkt', 5),\n",
       " ('przepisw', 5),\n",
       " ('próbobiorców', 5),\n",
       " ('regazyfikacyjnego', 5),\n",
       " ('rekapitalizacyjnej', 5),\n",
       " ('rozmnożeń', 5),\n",
       " ('sanitarnoepidemiologicznych', 5),\n",
       " ('sposb', 5),\n",
       " ('teryto', 5)]"
      ]
     },
     "execution_count": 18,
     "metadata": {},
     "output_type": "execute_result"
    }
   ],
   "source": [
    "missing_items_with_5_occurences = [missing_item for missing_item in missing_items if missing_item[1] == 5]\n",
    "missing_items_with_5_occurences[:30]"
   ]
  },
  {
   "cell_type": "markdown",
   "metadata": {},
   "source": [
    "# Zadanie 9\n",
    "\n",
    "Szukam potencjalnych poprawek słów na początek filtrując wszystkie wyrazy z listy częstotliwości aby ich odległość Levenshtein'a od wyrazu poprawianego nie była większa niż 5 i aby na pewno należały do morfologika. Następnie sortuje poprawki według klucza log(liczba_wystąpień_tokenu) / odległość_tokenu_od_słowa_poprawianego. Taki klucz pozwala brać pod uwagę nieco bardziej wyrazy występujące często, przy zachowaniu dużego spadku istotności dla wyrazów mocno różniących się od wyrazów poprawianych. Zapisuję jako wynik 3 najlepsze wg opisanego klucza poprawki."
   ]
  },
  {
   "cell_type": "code",
   "execution_count": 19,
   "metadata": {},
   "outputs": [],
   "source": [
    "def calculate_best_corrections(missing_word, max_distance=5, corrections_no=3):\n",
    "    potential_corrections = list(filter(\n",
    "        lambda item: is_in_list(morfologik_words, item[0]) and Levenshtein.distance(item[0], missing_word) <= max_distance, \n",
    "        items))\n",
    "    best_corrections = sorted(\n",
    "        potential_corrections, \n",
    "        key=lambda item: (np.log(item[1]) / Levenshtein.distance(missing_word, item[0]), item[0]), \n",
    "        reverse=True\n",
    "    )\n",
    "    return best_corrections[:corrections_no]"
   ]
  },
  {
   "cell_type": "code",
   "execution_count": 20,
   "metadata": {},
   "outputs": [
    {
     "data": {
      "text/plain": [
       "[('rok', 1181), ('roku', 3123), ('do', 60402)]"
      ]
     },
     "execution_count": 20,
     "metadata": {},
     "output_type": "execute_result"
    }
   ],
   "source": [
    "calculate_best_corrections('urok')"
   ]
  },
  {
   "cell_type": "code",
   "execution_count": 21,
   "metadata": {},
   "outputs": [
    {
     "data": {
      "text/plain": [
       "{('agave', 5): [('na', 50395), ('oraz', 33184), ('nie', 22965)],\n",
       " ('ami', 5): [('ani', 430), ('dni', 3237), ('mi', 56)],\n",
       " ('anonimizacji', 5): [('aktualizacji', 155),\n",
       "  ('lokalizacji', 117),\n",
       "  ('mobilizacji', 44)],\n",
       " ('badawczorozwojowych', 5): [],\n",
       " ('dostosowań', 5): [('dostosować', 30),\n",
       "  ('postępowań', 192),\n",
       "  ('stosować', 172)],\n",
       " ('iib', 5): [('ii', 342), ('iii', 244), ('lub', 45625)],\n",
       " ('izobutyl', 5): [('izby', 1001), ('osoby', 3578), ('kwoty', 1856)],\n",
       " ('jed', 5): [('jej', 3695), ('je', 645), ('od', 16690)],\n",
       " ('ktrej', 5): [('której', 7473), ('które', 4029), ('tej', 2948)],\n",
       " ('najmnie', 5): [('najmniej', 2384), ('najmie', 42), ('nadanie', 221)],\n",
       " ('naliczeń', 5): [('odliczeń', 113), ('zaliczek', 89), ('nie', 22965)],\n",
       " ('nawodnień', 5): [('zgodnie', 2630), ('najmniej', 2384), ('narodowej', 846)],\n",
       " ('nawozw', 5): [('nawozu', 134), ('nawozy', 112), ('nawozów', 89)],\n",
       " ('nfośigw', 5): [('nie', 22965), ('niż', 6436), ('środków', 3906)],\n",
       " ('nusp', 5): [('na', 50395), ('lub', 45625), ('nr', 45125)],\n",
       " ('odgazowywacze', 5): [('opracowywanie', 154),\n",
       "  ('opracowywane', 4),\n",
       "  ('odnotowywane', 3)],\n",
       " ('odwzorowań', 5): [('odszkodowań', 53), ('odmowa', 155), ('odwołań', 53)],\n",
       " ('ośc', 5): [('od', 16690), ('do', 60402), ('na', 50395)],\n",
       " ('poddziałań', 5): [('działań', 708), ('podziału', 533), ('oddziału', 443)],\n",
       " ('ponadzakładowym', 5): [('zakładowym', 57),\n",
       "  ('pokładowym', 3),\n",
       "  ('ponadplanowym', 1)],\n",
       " ('pozaaptecznego', 5): [('ostatecznego', 72),\n",
       "  ('bezpiecznego', 72),\n",
       "  ('bezskutecznego', 24)],\n",
       " ('ppkt', 5): [('pkt', 19125), ('po', 13552), ('jest', 13066)],\n",
       " ('przepisw', 5): [('przepisy', 5634), ('przepisów', 4710), ('przepis', 1624)],\n",
       " ('próbobiorców', 5): [('odbiorców', 82),\n",
       "  ('spadkobierców', 36),\n",
       "  ('biorców', 9)],\n",
       " ('regazyfikacyjnego', 5): [('kwalifikacyjnego', 65),\n",
       "  ('identyfikacyjnego', 30),\n",
       "  ('rehabilitacyjnego', 20)],\n",
       " ('rekapitalizacyjnej', 5): [('resocjalizacyjnej', 6),\n",
       "  ('kanalizacyjnej', 6),\n",
       "  ('rekapitalizacji', 4)],\n",
       " ('rozmnożeń', 5): [('może', 11430), ('rozumie', 1005), ('rozwoju', 793)],\n",
       " ('sanitarnoepidemiologicznych', 5): [],\n",
       " ('sposb', 5): [('sposób', 4186), ('po', 13552), ('sposobu', 555)],\n",
       " ('teryto', 5): [('tego', 3936), ('tryb', 2436), ('których', 17959)]}"
      ]
     },
     "execution_count": 21,
     "metadata": {},
     "output_type": "execute_result"
    }
   ],
   "source": [
    "missing_items_with_5_occurences_corrections = {}\n",
    "for missing_item in missing_items_with_5_occurences[:30]:\n",
    "    missing_items_with_5_occurences_corrections[missing_item] = calculate_best_corrections(missing_item[0])\n",
    "missing_items_with_5_occurences_corrections"
   ]
  },
  {
   "cell_type": "markdown",
   "metadata": {},
   "source": [
    "# Zadanie 10\n",
    "\n",
    "Tworzę index"
   ]
  },
  {
   "cell_type": "code",
   "execution_count": 22,
   "metadata": {},
   "outputs": [],
   "source": [
    "es = Elasticsearch()"
   ]
  },
  {
   "cell_type": "code",
   "execution_count": 23,
   "metadata": {},
   "outputs": [
    {
     "data": {
      "text/plain": [
       "{'acknowledged': True, 'shards_acknowledged': True, 'index': 'custom_index'}"
      ]
     },
     "execution_count": 23,
     "metadata": {},
     "output_type": "execute_result"
    }
   ],
   "source": [
    "es.indices.create(\n",
    "    index=\"custom_index\",\n",
    "    body={\n",
    "        \"settings\": {\n",
    "            \"analysis\": {\n",
    "                \"analyzer\": {\n",
    "                  \"custom_analyzer\": {\n",
    "                      \"type\": \"custom\",\n",
    "                      \"tokenizer\": \"standard\",\n",
    "                      \"filter\": [\"morfologik_stem\", \"lowercase\"]\n",
    "                    }\n",
    "                }\n",
    "            }\n",
    "        },\n",
    "        \"mappings\": {\n",
    "            \"properties\": {\n",
    "                \"morfologik_word\": {\n",
    "                    \"type\": \"text\",\n",
    "                    \"analyzer\": \"custom_analyzer\"\n",
    "                }\n",
    "            }\n",
    "        }\n",
    "    }\n",
    ")"
   ]
  },
  {
   "cell_type": "code",
   "execution_count": 24,
   "metadata": {},
   "outputs": [],
   "source": [
    "# es.indices.delete(index=\"custom_index\")"
   ]
  },
  {
   "cell_type": "markdown",
   "metadata": {},
   "source": [
    "Przygotowuję operacje dodawania wyrazów do indeksu korzystając z helpera bulk, bez niego dodawanie zajęłoby mi około 6 godzin "
   ]
  },
  {
   "cell_type": "code",
   "execution_count": 25,
   "metadata": {},
   "outputs": [],
   "source": [
    "def morfologik_words_gen():\n",
    "    for word in morfologik_words:\n",
    "         yield {\n",
    "                \"_index\": \"custom_index\",\n",
    "                \"morfologik_word\": word,\n",
    "            }\n",
    "        \n",
    "parallel_bulk_additions = parallel_bulk(es, morfologik_words_gen())"
   ]
  },
  {
   "cell_type": "code",
   "execution_count": 26,
   "metadata": {},
   "outputs": [
    {
     "name": "stdout",
     "output_type": "stream",
     "text": [
      "CPU times: user 4min 49s, sys: 13.1 s, total: 5min 2s\n",
      "Wall time: 4min 59s\n"
     ]
    }
   ],
   "source": [
    "%%time\n",
    "for success, info in parallel_bulk_additions:\n",
    "    if not success:\n",
    "        print('A document failed:', info)"
   ]
  },
  {
   "cell_type": "markdown",
   "metadata": {},
   "source": [
    "Wyszukuję korzystając z fuzzy query słowa najbardziej odpowiadające słowom spoza morfologika, zapisuje po 3 z najwyższym scorem"
   ]
  },
  {
   "cell_type": "code",
   "execution_count": 27,
   "metadata": {},
   "outputs": [
    {
     "data": {
      "text/plain": [
       "{('agave', 5): ['agape', 'agato', 'agaw'],\n",
       " ('ami', 5): ['abb-ami', 'abs-ami', 'adn-ami'],\n",
       " ('anonimizacji', 5): [],\n",
       " ('badawczorozwojowych', 5): [],\n",
       " ('dostosowań', 5): ['dostosowaliśmy', 'dostosowane', 'dostosowanego'],\n",
       " ('iib', 5): ['bicie', 'bili', 'bity'],\n",
       " ('izobutyl', 5): ['izobutan', 'izobutanach', 'izobutanami'],\n",
       " ('jed', 5): ['bed', 'jej', 'jen'],\n",
       " ('ktrej', 5): ['krojach', 'krojem', 'krojom'],\n",
       " ('najmnie', 5): ['najemnie', 'najmanie', 'najmniej'],\n",
       " ('naliczeń', 5): ['naliczki', 'naliczek', 'naliczka'],\n",
       " ('nawodnień', 5): ['nienawodniająca', 'nienawodniające', 'nienawodniającego'],\n",
       " ('nawozw', 5): ['nawozowi', 'nawiewem', 'nawiewowi'],\n",
       " ('nfośigw', 5): [],\n",
       " ('nusp', 5): ['kuso', 'nasi', 'naszych'],\n",
       " ('odgazowywacze', 5): [],\n",
       " ('odwzorowań', 5): ['nieodwzorowana', 'nieodwzorowane', 'nieodwzorowanego'],\n",
       " ('ośc', 5): ['kościom', 'kośćmi', 'lężenia'],\n",
       " ('poddziałań', 5): ['nieoddziałania', 'nieoddziałanie', 'nieoddziałaniem'],\n",
       " ('ponadzakładowym', 5): [],\n",
       " ('pozaaptecznego', 5): [],\n",
       " ('ppkt', 5): ['pakcie', 'pakta', 'paktami'],\n",
       " ('przepisw', 5): ['przepisowi', 'przepisowo', 'przepici'],\n",
       " ('próbobiorców', 5): [],\n",
       " ('regazyfikacyjnego', 5): [],\n",
       " ('rekapitalizacyjnej', 5): [],\n",
       " ('rozmnożeń', 5): ['rozmnoży', 'rozmnożą', 'rozmnożę'],\n",
       " ('sanitarnoepidemiologicznych', 5): [],\n",
       " ('sposb', 5): ['sporo', 'spora', 'spory'],\n",
       " ('teryto', 5): ['korycie', 'koryt', 'koryta']}"
      ]
     },
     "execution_count": 27,
     "metadata": {},
     "output_type": "execute_result"
    }
   ],
   "source": [
    "missing_items_with_5_occurences_es_corrections = {}\n",
    "for missing_item in missing_items_with_5_occurences[:30]:\n",
    "    hits = es.search(\n",
    "        body={\n",
    "            \"query\": {\n",
    "                \"fuzzy\": {\n",
    "                    \"morfologik_word\": {\n",
    "                        \"value\": missing_item[0],\n",
    "                        \"fuzziness\": 10\n",
    "                    } \n",
    "                }\n",
    "            }\n",
    "        },\n",
    "        index=\"custom_index\"\n",
    "    )[\"hits\"][\"hits\"][:3]\n",
    "    missing_items_with_5_occurences_es_corrections[missing_item] = [hit[\"_source\"][\"morfologik_word\"] for hit in hits]\n",
    "missing_items_with_5_occurences_es_corrections"
   ]
  },
  {
   "cell_type": "markdown",
   "metadata": {},
   "source": [
    "# Zadanie 11 i 12"
   ]
  },
  {
   "cell_type": "code",
   "execution_count": 28,
   "metadata": {},
   "outputs": [
    {
     "data": {
      "text/html": [
       "<div>\n",
       "<style scoped>\n",
       "    .dataframe tbody tr th:only-of-type {\n",
       "        vertical-align: middle;\n",
       "    }\n",
       "\n",
       "    .dataframe tbody tr th {\n",
       "        vertical-align: top;\n",
       "    }\n",
       "\n",
       "    .dataframe thead th {\n",
       "        text-align: right;\n",
       "    }\n",
       "</style>\n",
       "<table border=\"1\" class=\"dataframe\">\n",
       "  <thead>\n",
       "    <tr style=\"text-align: right;\">\n",
       "      <th></th>\n",
       "      <th>ES fuzzy corrections</th>\n",
       "      <th>My corrections</th>\n",
       "    </tr>\n",
       "  </thead>\n",
       "  <tbody>\n",
       "    <tr>\n",
       "      <th>agave</th>\n",
       "      <td>agape;  agato;  agaw</td>\n",
       "      <td>na;  oraz;  nie</td>\n",
       "    </tr>\n",
       "    <tr>\n",
       "      <th>ami</th>\n",
       "      <td>abb-ami;  abs-ami;  adn-ami</td>\n",
       "      <td>ani;  dni;  mi</td>\n",
       "    </tr>\n",
       "    <tr>\n",
       "      <th>anonimizacji</th>\n",
       "      <td></td>\n",
       "      <td>aktualizacji;  lokalizacji;  mobilizacji</td>\n",
       "    </tr>\n",
       "    <tr>\n",
       "      <th>badawczorozwojowych</th>\n",
       "      <td></td>\n",
       "      <td></td>\n",
       "    </tr>\n",
       "    <tr>\n",
       "      <th>dostosowań</th>\n",
       "      <td>dostosowaliśmy;  dostosowane;  dostosowanego</td>\n",
       "      <td>dostosować;  postępowań;  stosować</td>\n",
       "    </tr>\n",
       "    <tr>\n",
       "      <th>iib</th>\n",
       "      <td>bicie;  bili;  bity</td>\n",
       "      <td>ii;  iii;  lub</td>\n",
       "    </tr>\n",
       "    <tr>\n",
       "      <th>izobutyl</th>\n",
       "      <td>izobutan;  izobutanach;  izobutanami</td>\n",
       "      <td>izby;  osoby;  kwoty</td>\n",
       "    </tr>\n",
       "    <tr>\n",
       "      <th>jed</th>\n",
       "      <td>bed;  jej;  jen</td>\n",
       "      <td>jej;  je;  od</td>\n",
       "    </tr>\n",
       "    <tr>\n",
       "      <th>ktrej</th>\n",
       "      <td>krojach;  krojem;  krojom</td>\n",
       "      <td>której;  które;  tej</td>\n",
       "    </tr>\n",
       "    <tr>\n",
       "      <th>najmnie</th>\n",
       "      <td>najemnie;  najmanie;  najmniej</td>\n",
       "      <td>najmniej;  najmie;  nadanie</td>\n",
       "    </tr>\n",
       "    <tr>\n",
       "      <th>naliczeń</th>\n",
       "      <td>naliczki;  naliczek;  naliczka</td>\n",
       "      <td>odliczeń;  zaliczek;  nie</td>\n",
       "    </tr>\n",
       "    <tr>\n",
       "      <th>nawodnień</th>\n",
       "      <td>nienawodniająca;  nienawodniające;  nienawodni...</td>\n",
       "      <td>zgodnie;  najmniej;  narodowej</td>\n",
       "    </tr>\n",
       "    <tr>\n",
       "      <th>nawozw</th>\n",
       "      <td>nawozowi;  nawiewem;  nawiewowi</td>\n",
       "      <td>nawozu;  nawozy;  nawozów</td>\n",
       "    </tr>\n",
       "    <tr>\n",
       "      <th>nfośigw</th>\n",
       "      <td></td>\n",
       "      <td>nie;  niż;  środków</td>\n",
       "    </tr>\n",
       "    <tr>\n",
       "      <th>nusp</th>\n",
       "      <td>kuso;  nasi;  naszych</td>\n",
       "      <td>na;  lub;  nr</td>\n",
       "    </tr>\n",
       "    <tr>\n",
       "      <th>odgazowywacze</th>\n",
       "      <td></td>\n",
       "      <td>opracowywanie;  opracowywane;  odnotowywane</td>\n",
       "    </tr>\n",
       "    <tr>\n",
       "      <th>odwzorowań</th>\n",
       "      <td>nieodwzorowana;  nieodwzorowane;  nieodwzorowa...</td>\n",
       "      <td>odszkodowań;  odmowa;  odwołań</td>\n",
       "    </tr>\n",
       "    <tr>\n",
       "      <th>ośc</th>\n",
       "      <td>kościom;  kośćmi;  lężenia</td>\n",
       "      <td>od;  do;  na</td>\n",
       "    </tr>\n",
       "    <tr>\n",
       "      <th>poddziałań</th>\n",
       "      <td>nieoddziałania;  nieoddziałanie;  nieoddziałaniem</td>\n",
       "      <td>działań;  podziału;  oddziału</td>\n",
       "    </tr>\n",
       "    <tr>\n",
       "      <th>ponadzakładowym</th>\n",
       "      <td></td>\n",
       "      <td>zakładowym;  pokładowym;  ponadplanowym</td>\n",
       "    </tr>\n",
       "    <tr>\n",
       "      <th>pozaaptecznego</th>\n",
       "      <td></td>\n",
       "      <td>ostatecznego;  bezpiecznego;  bezskutecznego</td>\n",
       "    </tr>\n",
       "    <tr>\n",
       "      <th>ppkt</th>\n",
       "      <td>pakcie;  pakta;  paktami</td>\n",
       "      <td>pkt;  po;  jest</td>\n",
       "    </tr>\n",
       "    <tr>\n",
       "      <th>przepisw</th>\n",
       "      <td>przepisowi;  przepisowo;  przepici</td>\n",
       "      <td>przepisy;  przepisów;  przepis</td>\n",
       "    </tr>\n",
       "    <tr>\n",
       "      <th>próbobiorców</th>\n",
       "      <td></td>\n",
       "      <td>odbiorców;  spadkobierców;  biorców</td>\n",
       "    </tr>\n",
       "    <tr>\n",
       "      <th>regazyfikacyjnego</th>\n",
       "      <td></td>\n",
       "      <td>kwalifikacyjnego;  identyfikacyjnego;  rehabil...</td>\n",
       "    </tr>\n",
       "    <tr>\n",
       "      <th>rekapitalizacyjnej</th>\n",
       "      <td></td>\n",
       "      <td>resocjalizacyjnej;  kanalizacyjnej;  rekapital...</td>\n",
       "    </tr>\n",
       "    <tr>\n",
       "      <th>rozmnożeń</th>\n",
       "      <td>rozmnoży;  rozmnożą;  rozmnożę</td>\n",
       "      <td>może;  rozumie;  rozwoju</td>\n",
       "    </tr>\n",
       "    <tr>\n",
       "      <th>sanitarnoepidemiologicznych</th>\n",
       "      <td></td>\n",
       "      <td></td>\n",
       "    </tr>\n",
       "    <tr>\n",
       "      <th>sposb</th>\n",
       "      <td>sporo;  spora;  spory</td>\n",
       "      <td>sposób;  po;  sposobu</td>\n",
       "    </tr>\n",
       "    <tr>\n",
       "      <th>teryto</th>\n",
       "      <td>korycie;  koryt;  koryta</td>\n",
       "      <td>tego;  tryb;  których</td>\n",
       "    </tr>\n",
       "  </tbody>\n",
       "</table>\n",
       "</div>"
      ],
      "text/plain": [
       "                                                          ES fuzzy corrections  \\\n",
       "agave                                                     agape;  agato;  agaw   \n",
       "ami                                                abb-ami;  abs-ami;  adn-ami   \n",
       "anonimizacji                                                                     \n",
       "badawczorozwojowych                                                              \n",
       "dostosowań                        dostosowaliśmy;  dostosowane;  dostosowanego   \n",
       "iib                                                        bicie;  bili;  bity   \n",
       "izobutyl                                  izobutan;  izobutanach;  izobutanami   \n",
       "jed                                                            bed;  jej;  jen   \n",
       "ktrej                                                krojach;  krojem;  krojom   \n",
       "najmnie                                         najemnie;  najmanie;  najmniej   \n",
       "naliczeń                                        naliczki;  naliczek;  naliczka   \n",
       "nawodnień                    nienawodniająca;  nienawodniające;  nienawodni...   \n",
       "nawozw                                         nawozowi;  nawiewem;  nawiewowi   \n",
       "nfośigw                                                                          \n",
       "nusp                                                     kuso;  nasi;  naszych   \n",
       "odgazowywacze                                                                    \n",
       "odwzorowań                   nieodwzorowana;  nieodwzorowane;  nieodwzorowa...   \n",
       "ośc                                                 kościom;  kośćmi;  lężenia   \n",
       "poddziałań                   nieoddziałania;  nieoddziałanie;  nieoddziałaniem   \n",
       "ponadzakładowym                                                                  \n",
       "pozaaptecznego                                                                   \n",
       "ppkt                                                  pakcie;  pakta;  paktami   \n",
       "przepisw                                    przepisowi;  przepisowo;  przepici   \n",
       "próbobiorców                                                                     \n",
       "regazyfikacyjnego                                                                \n",
       "rekapitalizacyjnej                                                               \n",
       "rozmnożeń                                       rozmnoży;  rozmnożą;  rozmnożę   \n",
       "sanitarnoepidemiologicznych                                                      \n",
       "sposb                                                    sporo;  spora;  spory   \n",
       "teryto                                                korycie;  koryt;  koryta   \n",
       "\n",
       "                                                                My corrections  \n",
       "agave                                                          na;  oraz;  nie  \n",
       "ami                                                             ani;  dni;  mi  \n",
       "anonimizacji                          aktualizacji;  lokalizacji;  mobilizacji  \n",
       "badawczorozwojowych                                                             \n",
       "dostosowań                                  dostosować;  postępowań;  stosować  \n",
       "iib                                                             ii;  iii;  lub  \n",
       "izobutyl                                                  izby;  osoby;  kwoty  \n",
       "jed                                                              jej;  je;  od  \n",
       "ktrej                                                     której;  które;  tej  \n",
       "najmnie                                            najmniej;  najmie;  nadanie  \n",
       "naliczeń                                             odliczeń;  zaliczek;  nie  \n",
       "nawodnień                                       zgodnie;  najmniej;  narodowej  \n",
       "nawozw                                               nawozu;  nawozy;  nawozów  \n",
       "nfośigw                                                    nie;  niż;  środków  \n",
       "nusp                                                             na;  lub;  nr  \n",
       "odgazowywacze                      opracowywanie;  opracowywane;  odnotowywane  \n",
       "odwzorowań                                      odszkodowań;  odmowa;  odwołań  \n",
       "ośc                                                               od;  do;  na  \n",
       "poddziałań                                       działań;  podziału;  oddziału  \n",
       "ponadzakładowym                        zakładowym;  pokładowym;  ponadplanowym  \n",
       "pozaaptecznego                    ostatecznego;  bezpiecznego;  bezskutecznego  \n",
       "ppkt                                                           pkt;  po;  jest  \n",
       "przepisw                                        przepisy;  przepisów;  przepis  \n",
       "próbobiorców                               odbiorców;  spadkobierców;  biorców  \n",
       "regazyfikacyjnego            kwalifikacyjnego;  identyfikacyjnego;  rehabil...  \n",
       "rekapitalizacyjnej           resocjalizacyjnej;  kanalizacyjnej;  rekapital...  \n",
       "rozmnożeń                                             może;  rozumie;  rozwoju  \n",
       "sanitarnoepidemiologicznych                                                     \n",
       "sposb                                                    sposób;  po;  sposobu  \n",
       "teryto                                                   tego;  tryb;  których  "
      ]
     },
     "execution_count": 28,
     "metadata": {},
     "output_type": "execute_result"
    }
   ],
   "source": [
    "corrections = {}\n",
    "for item, es_corrections in missing_items_with_5_occurences_es_corrections.items():\n",
    "    corrections[item[0]] = (\";  \".join(es_corrections), \";  \".join([i[0] for i in missing_items_with_5_occurences_corrections[item]]))\n",
    "pd.DataFrame.from_dict(corrections, orient='index', columns=['ES fuzzy corrections', 'My corrections'])"
   ]
  },
  {
   "cell_type": "markdown",
   "metadata": {},
   "source": [
    "(Dataframe pandas wyświetla się paskudnie w pdf'ie, dlatego wrzuciłem screen w plikach zadania)\n",
    "\n",
    "Obie metody wyszukiwania poprawek pozwoliły uzyskać zadowalające wyniki. Każda z nich miała swoje plusy, choć wydaj mi się, że w kontekście tego konkretnego zadania moja metoda dała nieco lepsze rezultaty.\n",
    "\n",
    "Draw conclusions regarding the distribution of words in the corpus:\n",
    "Przeglądając poprawki uzyskane przy pomocy ES widzimy wiele słów, które praktycznie nie występują w naszym korpusie (np. izobutyl-izobutan). Ze względu na sposób działania moja metoda zwraca słowa częściej występujące w projektach ustaw (np. izobutyl-izby).\n",
    "\n",
    "Draw conclusions regarding the number of true misspellings vs. the number of unknown words:\n",
    "Wśród rozpatrywanych słów występują takie, które w oczywisty sposób rozpoznajemy jako literówki (np. sposb, przepisw). Większości literówki wydają się dotyczyć słów, które nie występują rzadko. Z tego względu lepiej radzi sobie z nimi moja metoda znajdywania poprawek. Niestety większość rozpatrywanych słów spoza słownika to słowa błędnie skonstruowane, nieistniejące, albo skróty. Znajdywane dla nich poprawki tylko w niektórych przypadkach wydają się być odpowiednie.\n",
    "\n",
    "Draw conclusions regarding the performance of your method compared to ElasitcSearch:\n",
    "ElasticSearch wymaga długotrwałego setupu (nawet po wykorzystaniu parallel_bulk), ale potem pozwala otrzymywać wyniki bardzo szybko. Moja metoda działa dość szybko (dzięku temu, że najpierw odfiltrowywuje słowa spełniające warunek max_distance, a dopiero później sortuje wg dobrego klucza), choć zauważalnie wolniej niż ES i posiada szybszy setup (przy założeniu, że wykonuje się już przygotowane instrukcje, a nie wymyśla je od nowa).\n",
    "\n",
    "Draw conclusions regarding the results provided by your method compared to ElasticSearch:\n",
    "Wydaje się, że moja metoda uzyskuje lepsze rezultaty, przykładowo poprawka do 'jed' - 'jad', otrzymana przy pomocy ES brzmi dobrze, ale nie uwzględnia tego, że słowo jad raczej nie pojawia się w projektach ustaw, a słowo 'jej' będące korektą zwróconą przez moją metodę wydaje się bardziej prawdopodobną poprawką. Podobnie jest z innymi słowami. Ponadto wyniki uzyskane przy pomocy ES częściej są puste. Prawdopodobnie dopasowywanie parametru fuzziness do konkretnych błędów mogłoby to poprawić, ale spowodowałoby konieczność przerobienia algorytmów na semi-automatyczne (już i tak użyłem dość wysokiej wartości tego parametru - 10).\n",
    "\n",
    "Draw conclusions regarding the validity of the obtained corrections:\n",
    "Wyniki uzyskane przy pomocy mojej metody wydają się być bardziej adekwatne do tego, co może się znaleźć w projektach ustaw."
   ]
  }
 ],
 "metadata": {
  "kernelspec": {
   "display_name": "Python 3",
   "language": "python",
   "name": "python3"
  },
  "language_info": {
   "codemirror_mode": {
    "name": "ipython",
    "version": 3
   },
   "file_extension": ".py",
   "mimetype": "text/x-python",
   "name": "python",
   "nbconvert_exporter": "python",
   "pygments_lexer": "ipython3",
   "version": "3.7.9"
  }
 },
 "nbformat": 4,
 "nbformat_minor": 4
}
