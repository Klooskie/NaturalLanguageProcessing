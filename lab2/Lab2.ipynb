{
 "cells": [
  {
   "cell_type": "code",
   "execution_count": 1,
   "metadata": {},
   "outputs": [],
   "source": [
    "import glob\n",
    "from elasticsearch import Elasticsearch"
   ]
  },
  {
   "cell_type": "markdown",
   "metadata": {},
   "source": [
    "# Zadania 3 i 4\n",
    "\n",
    "stworzenie indexu z customowym analyzerem zawierającym słownik synonimów, polski lematyzator i filtr lowercase"
   ]
  },
  {
   "cell_type": "code",
   "execution_count": 2,
   "metadata": {},
   "outputs": [],
   "source": [
    "es = Elasticsearch()"
   ]
  },
  {
   "cell_type": "code",
   "execution_count": 3,
   "metadata": {},
   "outputs": [
    {
     "data": {
      "text/plain": [
       "{'acknowledged': True, 'shards_acknowledged': True, 'index': 'custom_index'}"
      ]
     },
     "execution_count": 3,
     "metadata": {},
     "output_type": "execute_result"
    }
   ],
   "source": [
    "es.indices.create(\n",
    "    index=\"custom_index\",\n",
    "    body={\n",
    "        \"settings\": {\n",
    "            \"analysis\": {\n",
    "                \"filter\": {\n",
    "                    \"custom_synonym\": {\n",
    "                        \"type\": \"synonym\",\n",
    "                        \"synonyms\": [ \n",
    "                            \"kpk => kodeks postępowania karnego\",\n",
    "                            \"kpc => kodeks postępowania cywilnego\",\n",
    "                            \"kk => kodeks karny\",\n",
    "                            \"kc => kodeks cywilny\"\n",
    "                        ]\n",
    "                    }    \n",
    "                },\n",
    "                \"analyzer\": {\n",
    "                  \"custom_analyzer\": {\n",
    "                      \"type\": \"custom\",\n",
    "                      \"tokenizer\": \"standard\",\n",
    "                      \"filter\": [\"custom_synonym\", \"morfologik_stem\", \"lowercase\"]\n",
    "                    }\n",
    "                }\n",
    "            }\n",
    "        },\n",
    "        \"mappings\": {\n",
    "            \"properties\": {\n",
    "                \"law_act_content\": {\n",
    "                    \"type\": \"text\",\n",
    "                    \"analyzer\": \"custom_analyzer\"\n",
    "                }\n",
    "            }\n",
    "        }\n",
    "    }\n",
    ")"
   ]
  },
  {
   "cell_type": "code",
   "execution_count": 4,
   "metadata": {},
   "outputs": [],
   "source": [
    "# es.indices.delete(index=\"custom_index\")"
   ]
  },
  {
   "cell_type": "markdown",
   "metadata": {},
   "source": [
    "# Zadanie 5\n",
    "\n",
    "wczytanie plików projektów ustaw do indexu"
   ]
  },
  {
   "cell_type": "code",
   "execution_count": 5,
   "metadata": {},
   "outputs": [
    {
     "data": {
      "text/plain": [
       "['../lab1/ustawy/1993_599.txt',\n",
       " '../lab1/ustawy/1993_602.txt',\n",
       " '../lab1/ustawy/1993_645.txt',\n",
       " '../lab1/ustawy/1993_646.txt',\n",
       " '../lab1/ustawy/1994_150.txt']"
      ]
     },
     "execution_count": 5,
     "metadata": {},
     "output_type": "execute_result"
    }
   ],
   "source": [
    "PATH = \"../lab1/ustawy/\"\n",
    "file_names = sorted(glob.glob(PATH + \"*\"))\n",
    "file_names[:5]"
   ]
  },
  {
   "cell_type": "code",
   "execution_count": 6,
   "metadata": {},
   "outputs": [],
   "source": [
    "for file_name in file_names:\n",
    "    with open(file_name, \"r\", encoding=\"utf-8\") as f:\n",
    "        law_act = f.read()\n",
    "        es.create(\"custom_index\", file_name.split(\"/\")[-1][:-4], {\"law_act_content\": law_act})"
   ]
  },
  {
   "cell_type": "markdown",
   "metadata": {},
   "source": [
    "# Zadanie 6\n",
    "\n",
    "Znalezienie liczby wystąpień słowa ustawa w dowolnej formie\n",
    "\n",
    "Najprostszy przypadek - zastosowanie zwykłego match query"
   ]
  },
  {
   "cell_type": "code",
   "execution_count": 7,
   "metadata": {},
   "outputs": [
    {
     "data": {
      "text/plain": [
       "1179"
      ]
     },
     "execution_count": 7,
     "metadata": {},
     "output_type": "execute_result"
    }
   ],
   "source": [
    "es.search(\n",
    "    body={\n",
    "        \"query\": {\n",
    "            \"match\": {\n",
    "                \"law_act_content\": \"ustawa\"\n",
    "            }\n",
    "        }\n",
    "    },\n",
    "    index=\"custom_index\"\n",
    ")[\"hits\"][\"total\"][\"value\"]"
   ]
  },
  {
   "cell_type": "markdown",
   "metadata": {},
   "source": [
    "# Zadanie 7\n",
    "\n",
    "Znalezienie liczby projektów ustaw zawierających frazę \"*kodeks postępowania cywilnego*\" w dowolnej formie, ale ustalonej kolejności\n",
    "\n",
    "Warunek zachowania kolejności bez warunku niezmiennej formy zapewnia wykorzystanie match_phrase query z parametrem slop ustawionym domyślnie na 0"
   ]
  },
  {
   "cell_type": "code",
   "execution_count": 8,
   "metadata": {},
   "outputs": [
    {
     "data": {
      "text/plain": [
       "100"
      ]
     },
     "execution_count": 8,
     "metadata": {},
     "output_type": "execute_result"
    }
   ],
   "source": [
    "es.search(\n",
    "    body={\n",
    "        \"query\": {\n",
    "            \"match_phrase\": {\n",
    "                \"law_act_content\": \"kodeks postępowania cywilnego\"\n",
    "            }\n",
    "        }\n",
    "    },\n",
    "    index=\"custom_index\"\n",
    ")[\"hits\"][\"total\"][\"value\"]"
   ]
  },
  {
   "cell_type": "markdown",
   "metadata": {},
   "source": [
    "# Zadanie 8\n",
    "\n",
    "znalezienie liczby projektów ustaw zawierających słowa \"*wchodzi w życie*\" w dowolnej formie, z maksymalnie 2 dodatkowymi słowami\n",
    "\n",
    "Możliwość pojawienia się 2 dowolnych słów w środku frazy zapewnia użycie match_phrase z parametrem slop = 2"
   ]
  },
  {
   "cell_type": "code",
   "execution_count": 9,
   "metadata": {},
   "outputs": [
    {
     "data": {
      "text/plain": [
       "1175"
      ]
     },
     "execution_count": 9,
     "metadata": {},
     "output_type": "execute_result"
    }
   ],
   "source": [
    "es.search(\n",
    "    body={\n",
    "        \"query\": {\n",
    "            \"match_phrase\": {\n",
    "                \"law_act_content\": {\n",
    "                    \"query\": \"wchodzi w życie\",\n",
    "                    \"slop\": 2\n",
    "                }\n",
    "            }\n",
    "        }\n",
    "    },\n",
    "    index=\"custom_index\"\n",
    ")[\"hits\"][\"total\"][\"value\"]"
   ]
  },
  {
   "cell_type": "markdown",
   "metadata": {},
   "source": [
    "# Zadanie 9 i 10\n",
    "\n",
    "znalezienie 10 dokumentów, które są najbardziej związane ze słowem konstytucja i wypisywanie ich fragmentów zawierających to słowo (max 3)\n",
    "\n",
    "Aby poznać scoring matchów wystarczy użyć zwykłego match query. Dodatkowo aby mieć dostęp do fragmentów dokumentów zawierających to słowo stosuję mechanizm highlightingu, który domyślnie zachowuje zdania, w których zmatchowano słowo konstytucja. Ustawienie parametru highlightera \"order\" na \"score\" powoduje, że otrzymane fragmenty będą posortowane od tych które najbardziej podbijały score, a ustawienie \"number_of_fragments\" na 3 wymusza zachowanie max 3 fragmentów. Parametr size ustawiony na 10 wymusza zwrot dokładnie 10 najlepszych matchy."
   ]
  },
  {
   "cell_type": "code",
   "execution_count": 10,
   "metadata": {},
   "outputs": [
    {
     "name": "stdout",
     "output_type": "stream",
     "text": [
      "1997_629 with score 6.8713923\n",
      "2000_443 with score 6.666975\n",
      "1997_604 with score 6.6366324\n",
      "1996_350 with score 6.6311083\n",
      "1997_642 with score 6.2556105\n",
      "2001_23 with score 6.0630813\n",
      "1996_199 with score 5.9332457\n",
      "1999_688 with score 5.854491\n",
      "1997_681 with score 5.4713526\n",
      "2001_1082 with score 5.4713526\n"
     ]
    }
   ],
   "source": [
    "results = es.search(\n",
    "    body={\n",
    "        \"query\": {\n",
    "            \"match\": {\n",
    "                \"law_act_content\": \"konstytucja\"\n",
    "            }\n",
    "        },\n",
    "        \"highlight\": {\n",
    "            \"fields\": {\n",
    "                \"law_act_content\": {}\n",
    "            },\n",
    "            \"order\": \"score\",\n",
    "            \"number_of_fragments\": 3\n",
    "        },\n",
    "    },\n",
    "    index=\"custom_index\", \n",
    "    size=10\n",
    ")\n",
    "\n",
    "for document in results[\"hits\"][\"hits\"]:\n",
    "    print(document[\"_id\"], \"with score\", document[\"_score\"])"
   ]
  },
  {
   "cell_type": "code",
   "execution_count": 11,
   "metadata": {
    "scrolled": false
   },
   "outputs": [
    {
     "name": "stdout",
     "output_type": "stream",
     "text": [
      "\u001b[1m 1997_629 \u001b[0m:\n",
      "\n",
      "W ustawie  konstytucyjnej z  dnia 23 kwietnia 1992 r. o trybie przygotowania i \n",
      "uchwalenia <em>Konstytucji</em> \n",
      "------------------------------------------------\n",
      "\n",
      "o zmianie ustawy konstytucyjnej o trybie przygotowania\n",
      "           i uchwalenia <em>Konstytucji</em> Rzeczypospolitej \n",
      "------------------------------------------------\n",
      "\n",
      "Do zgłoszenia projektu <em>Konstytucji</em> załącza się wykaz \n",
      "                obywateli popierających zgłoszenie \n",
      "------------------------------------------------\n",
      "\n",
      "\u001b[1m 2000_443 \u001b[0m:\n",
      "\n",
      "umowy międzynarodowej i nie wypełnia przesłanek określonych w art. 89\n",
      "     ust. 1 lub art. 90 <em>Konstytucji</em> \n",
      "------------------------------------------------\n",
      "\n",
      "co do zasadności wyboru\n",
      "  trybu ratyfikacji umowy międzynarodowej, o którym mowa w art. 89 ust. 2\n",
      "  <em>Konstytucji</em> \n",
      "------------------------------------------------\n",
      "\n",
      "międzynarodowej lub załącznika nie\n",
      "     wypełnia przesłanek określonych w art. 89 ust. 1 lub art. 90 <em>Konstytucji</em> \n",
      "------------------------------------------------\n",
      "\n",
      "\u001b[1m 1997_604 \u001b[0m:\n",
      "\n",
      "Jeżeli Trybunał Konstytucyjny wyda orzeczenie o sprzeczności celów partii \n",
      "   politycznej z <em>Konstytucją</em> \n",
      "------------------------------------------------\n",
      "\n",
      "Jeżeli Trybunał Konstytucyjny wyda orzeczenie o sprzeczności z <em>Konstytucją</em>\n",
      "   celów lub działalności \n",
      "------------------------------------------------\n",
      "\n",
      "Ciężar udowodnienia niezgodności z <em>Konstytucją</em> spoczywa\n",
      "                na wnioskodawcy, który w tym \n",
      "------------------------------------------------\n",
      "\n",
      "\u001b[1m 1996_350 \u001b[0m:\n",
      "\n",
      "Za naruszenie <em>Konstytucji</em> lub ustawy, w związku z zajmowanym\n",
      "              stanowiskiem lub w zakresie \n",
      "------------------------------------------------\n",
      "\n",
      "W zakresie określonym w art. 107 <em>Konstytucji</em> odpowiedzialność przed\n",
      "           Trybunałem Stanu ponoszą \n",
      "------------------------------------------------\n",
      "\n",
      "Członkowie Rady Ministrów ponoszą odpowiedzialność przed Trybunałem\n",
      "           Stanu za naruszenie <em>Konstytucji</em> \n",
      "------------------------------------------------\n",
      "\n",
      "\u001b[1m 1997_642 \u001b[0m:\n",
      "\n",
      "wnioskami o:\n",
      "             1) stwierdzenie zgodności ustaw i umów międzynarodowych z\n",
      "               <em>Konstytucją</em> \n",
      "------------------------------------------------\n",
      "\n",
      "stwierdzenie zgodności przepisów prawa wydawanych przez\n",
      "               centralne organy państwowe, z <em>Konstytucją</em> \n",
      "------------------------------------------------\n",
      "\n",
      "ratyfikowanymi\n",
      "               umowami międzynarodowymi i ustawami,\n",
      "             4) stwierdzenie zgodności z <em>Konstytucją</em> \n",
      "------------------------------------------------\n",
      "\n",
      "\u001b[1m 2001_23 \u001b[0m:\n",
      "\n",
      "W Dzienniku Ustaw Rzeczypospolitej Polskiej, zwanym dalej \"Dziennikiem\n",
      "  Ustaw\", ogłasza się:\n",
      "   1) <em>Konstytucję</em> \n",
      "------------------------------------------------\n",
      "\n",
      "akty prawne dotyczące:\n",
      "   1) stanu wojny i zawarcia pokoju,\n",
      "   2) referendum zatwierdzającego zmianę <em>Konstytucji</em> \n",
      "------------------------------------------------\n",
      "\n",
      "ministra, któremu Sejm wyraził wotum nieufności,\n",
      "     h) powoływania lub odwoływania na określone w <em>Konstytucji</em> \n",
      "------------------------------------------------\n",
      "\n",
      "\u001b[1m 1996_199 \u001b[0m:\n",
      "\n",
      "Prezydent Rzeczypospolitej Polskiej zarządza poddanie <em>Konstytucji</em> pod referendum\n",
      "   w trybie określonym \n",
      "------------------------------------------------\n",
      "\n",
      "Przyjęcie w referendum <em>Konstytucji</em> następuje wówczas, gdy opowiedziała \n",
      "   się za nią większość biorących \n",
      "------------------------------------------------\n",
      "\n",
      "2c i art. 9-11 ustawy konstytucyjnej z dnia 23 kwietnia \n",
      "1992 r. o trybie przygotowania i uchwalenia <em>Konstytucji</em> \n",
      "------------------------------------------------\n",
      "\n",
      "\u001b[1m 1999_688 \u001b[0m:\n",
      "\n",
      "Projekt ustawy nie może dotyczyć spraw, dla których <em>Konstytucja</em>\n",
      "Rzeczypospolitej Polskiej zastrzega wyłączną \n",
      "------------------------------------------------\n",
      "\n",
      "Projekt ustawy wniesiony do Marszałka Sejmu powinien odpowiadać wymogom\n",
      "  zawartym w <em>Konstytucji</em> i Regulaminie \n",
      "------------------------------------------------\n",
      "\n",
      "postępowania w sprawie wykonywania inicjatywy\n",
      "ustawodawczej przez obywateli, o której mowa w art. 118 ust. 2 <em>Konstytucji</em> \n",
      "------------------------------------------------\n",
      "\n",
      "\u001b[1m 1997_681 \u001b[0m:\n",
      "\n",
      "Rzecznik Praw Dziecka, zwany dalej Rzecznikiem, stoi na straży praw dziecka\n",
      "  określonych w <em>Konstytucji</em> \n",
      "------------------------------------------------\n",
      "\n",
      "uroczyście, że przy wykonywaniu powierzonych mi obowiązków\n",
      "     Rzecznika Praw Dziecka dochowam wierności <em>Konstytucji</em> \n",
      "------------------------------------------------\n",
      "\n",
      "\u001b[1m 2001_1082 \u001b[0m:\n",
      "\n",
      "Krajowa Rada Sądownictwa, zwana dalej \"Radą\", realizuje cele określone w\n",
      "  <em>Konstytucji</em> Rzeczypospolitej \n",
      "------------------------------------------------\n",
      "\n",
      ") podejmuje uchwały w sprawach wystąpienia do Trybunału Konstytucyjnego o\n",
      "     zbadanie zgodności z <em>Konstytucją</em> \n",
      "------------------------------------------------\n",
      "\n"
     ]
    }
   ],
   "source": [
    "for document in results[\"hits\"][\"hits\"]:\n",
    "    print('\\033[1m', document[\"_id\"], \"\\033[0m:\\n\")\n",
    "    for fragment in document[\"highlight\"][\"law_act_content\"]:\n",
    "        print(fragment, \"\\n------------------------------------------------\\n\")\n"
   ]
  },
  {
   "cell_type": "code",
   "execution_count": null,
   "metadata": {},
   "outputs": [],
   "source": []
  }
 ],
 "metadata": {
  "kernelspec": {
   "display_name": "Python 3",
   "language": "python",
   "name": "python3"
  },
  "language_info": {
   "codemirror_mode": {
    "name": "ipython",
    "version": 3
   },
   "file_extension": ".py",
   "mimetype": "text/x-python",
   "name": "python",
   "nbconvert_exporter": "python",
   "pygments_lexer": "ipython3",
   "version": "3.7.6"
  }
 },
 "nbformat": 4,
 "nbformat_minor": 4
}
