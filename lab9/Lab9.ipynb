{
 "cells": [
  {
   "cell_type": "code",
   "execution_count": 1,
   "metadata": {},
   "outputs": [],
   "source": [
    "import numpy as np\n",
    "import glob\n",
    "import requests\n",
    "import matplotlib.pyplot as plt\n",
    "from bs4 import BeautifulSoup"
   ]
  },
  {
   "cell_type": "code",
   "execution_count": 2,
   "metadata": {},
   "outputs": [
    {
     "data": {
      "text/plain": [
       "['../lab1/ustawy/1993_599.txt',\n",
       " '../lab1/ustawy/1993_602.txt',\n",
       " '../lab1/ustawy/1993_645.txt',\n",
       " '../lab1/ustawy/1993_646.txt',\n",
       " '../lab1/ustawy/1994_150.txt']"
      ]
     },
     "execution_count": 2,
     "metadata": {},
     "output_type": "execute_result"
    }
   ],
   "source": [
    "PATH = '../lab1/ustawy/'\n",
    "file_names = sorted(glob.glob(PATH + \"*\"))\n",
    "file_names[:5]"
   ]
  },
  {
   "cell_type": "code",
   "execution_count": 3,
   "metadata": {},
   "outputs": [],
   "source": [
    "law_acts =[]\n",
    "for file_name in file_names:\n",
    "    with open(file_name, \"r\", encoding=\"utf-8\") as f:\n",
    "        law_acts.append(f.read())"
   ]
  },
  {
   "cell_type": "markdown",
   "metadata": {},
   "source": [
    "# Zadanie 4\n",
    "\n",
    "Wybranie 50 największych projektów ustaw"
   ]
  },
  {
   "cell_type": "code",
   "execution_count": 4,
   "metadata": {},
   "outputs": [],
   "source": [
    "law_acts.sort(key=(lambda a: -len(a)))\n",
    "law_acts = law_acts[:50]"
   ]
  },
  {
   "cell_type": "markdown",
   "metadata": {},
   "source": [
    "# Zadanie 5\n",
    "\n",
    "Wyznaczenie wyrażeń, których wszystkie słowa zaczynają się z dużej litery i nie znajdują się na początku zdania. Na początek wykorzystuję tagger do podziału dokumentów na tokeny składające się z pary (lemat, oryginalne słowo)."
   ]
  },
  {
   "cell_type": "code",
   "execution_count": 5,
   "metadata": {},
   "outputs": [
    {
     "name": "stdout",
     "output_type": "stream",
     "text": [
      "CPU times: user 4.04 s, sys: 437 ms, total: 4.47 s\n",
      "Wall time: 28min 38s\n"
     ]
    }
   ],
   "source": [
    "%%time\n",
    "tokens_per_act = []\n",
    "\n",
    "for law_act in law_acts:\n",
    "    response_lines = requests.post('http://localhost:9200', law_act.encode('utf-8')).content.decode('utf-8').split('\\n')\n",
    "    tokens = []\n",
    "    word = ''\n",
    "    for line in response_lines:\n",
    "        line_words = line.split('\\t')\n",
    "        if line_words[0] != '':\n",
    "            word = line_words[0]\n",
    "        elif len(line_words) >= 2:\n",
    "            tokens.append((line_words[1].strip(), word))\n",
    "    tokens_per_act.append(tokens)"
   ]
  },
  {
   "cell_type": "code",
   "execution_count": 6,
   "metadata": {},
   "outputs": [
    {
     "name": "stdout",
     "output_type": "stream",
     "text": [
      "[('dziennik', 'Dz'), ('.', '.'), ('ustawa', 'U'), ('.', '.'), ('z', 'z')]\n",
      "[('dziennik', 'Dz'), ('.', '.'), ('ustawa', 'U'), ('.', '.'), ('z', 'z')]\n"
     ]
    }
   ],
   "source": [
    "print(tokens_per_act[0][:5])\n",
    "print(tokens_per_act[1][:5])"
   ]
  },
  {
   "cell_type": "markdown",
   "metadata": {},
   "source": [
    "Następnie dzielę dokumenty na zdania. Podziału na zdania dokonuje na podstawie wystąpień znaku '.'. Zapisuję listy tokenów występujących w każdym zdaniu."
   ]
  },
  {
   "cell_type": "code",
   "execution_count": 7,
   "metadata": {},
   "outputs": [
    {
     "name": "stdout",
     "output_type": "stream",
     "text": [
      "CPU times: user 662 ms, sys: 31.7 ms, total: 694 ms\n",
      "Wall time: 691 ms\n"
     ]
    }
   ],
   "source": [
    "%%time\n",
    "tokens_per_sentence = []\n",
    "for tokens in tokens_per_act:\n",
    "    sentence_tokens = []\n",
    "    for token in tokens:\n",
    "        if token[0] != '.':\n",
    "            sentence_tokens.append(token)\n",
    "        elif len(sentence_tokens) > 0:\n",
    "                tokens_per_sentence.append(sentence_tokens)\n",
    "                sentence_tokens = []"
   ]
  },
  {
   "cell_type": "code",
   "execution_count": 8,
   "metadata": {},
   "outputs": [
    {
     "data": {
      "text/plain": [
       "[[('dziennik', 'Dz')],\n",
       " [('ustawa', 'U')],\n",
       " [('z', 'z'), ('1998', '1998'), ('rok', 'r')],\n",
       " [('numer', 'Nr'), ('106', '106'), (',', ','), ('pozycja', 'poz')],\n",
       " [('668', '668'),\n",
       "  ('ustawa', 'USTAWA'),\n",
       "  ('z', 'z'),\n",
       "  ('dzień', 'dnia'),\n",
       "  ('24', '24'),\n",
       "  ('lipiec', 'lipca'),\n",
       "  ('1998', '1998'),\n",
       "  ('rok', 'r')]]"
      ]
     },
     "execution_count": 8,
     "metadata": {},
     "output_type": "execute_result"
    }
   ],
   "source": [
    "tokens_per_sentence[:5]"
   ]
  },
  {
   "cell_type": "markdown",
   "metadata": {},
   "source": [
    "Następinie wyznaczam entries (szukane wyrażenia) w każdym ze zdań osobno."
   ]
  },
  {
   "cell_type": "code",
   "execution_count": 9,
   "metadata": {},
   "outputs": [
    {
     "name": "stdout",
     "output_type": "stream",
     "text": [
      "CPU times: user 713 ms, sys: 11.3 ms, total: 724 ms\n",
      "Wall time: 722 ms\n"
     ]
    }
   ],
   "source": [
    "%%time\n",
    "entries_per_sentence = []\n",
    "for sentence_tokens in tokens_per_sentence:\n",
    "    sentence_entries = []\n",
    "    entry = []\n",
    "    for token in sentence_tokens[1:]:\n",
    "        if token[1][0].isupper():\n",
    "            lemma = token[0][0].upper() + token[0][1:]\n",
    "            entry.append(lemma)\n",
    "        elif len(entry) > 0:\n",
    "            sentence_entries.append(entry)\n",
    "            entry=[]\n",
    "    entries_per_sentence.append(sentence_entries)"
   ]
  },
  {
   "cell_type": "code",
   "execution_count": 10,
   "metadata": {},
   "outputs": [
    {
     "data": {
      "text/plain": [
       "[[], [], [], [], [['Ustawa']], [], [], [], [], []]"
      ]
     },
     "execution_count": 10,
     "metadata": {},
     "output_type": "execute_result"
    }
   ],
   "source": [
    "entries_per_sentence[:10]"
   ]
  },
  {
   "cell_type": "markdown",
   "metadata": {},
   "source": [
    "Spłaszczam listę wyrażeń."
   ]
  },
  {
   "cell_type": "code",
   "execution_count": 11,
   "metadata": {},
   "outputs": [
    {
     "data": {
      "text/plain": [
       "['Ustawa',\n",
       " 'Minister',\n",
       " 'Minister Sprawa Wewnętrzny',\n",
       " 'Minister',\n",
       " 'Minister Sprawa Wewnętrzny']"
      ]
     },
     "execution_count": 11,
     "metadata": {},
     "output_type": "execute_result"
    }
   ],
   "source": [
    "entries = sum(entries_per_sentence, [])\n",
    "entries = [' '.join(entry_words) for entry_words in entries]\n",
    "entries[:5]"
   ]
  },
  {
   "cell_type": "markdown",
   "metadata": {},
   "source": [
    "# Zadanie 6\n",
    "\n",
    "Obliczenie listy częstotliwości występowania znalezionych wyrażeń i wyświetlenie 50 najczęściej występujących"
   ]
  },
  {
   "cell_type": "code",
   "execution_count": 12,
   "metadata": {},
   "outputs": [
    {
     "name": "stdout",
     "output_type": "stream",
     "text": [
      "CPU times: user 11.2 ms, sys: 0 ns, total: 11.2 ms\n",
      "Wall time: 11 ms\n"
     ]
    }
   ],
   "source": [
    "%%time\n",
    "entries_counter = {}\n",
    "for entry in entries:\n",
    "    entries_counter[entry] = entries_counter.get(entry, 0) + 1"
   ]
  },
  {
   "cell_type": "code",
   "execution_count": 13,
   "metadata": {},
   "outputs": [
    {
     "name": "stdout",
     "output_type": "stream",
     "text": [
      "\u001b[1mNumer\u001b[0m (3956)\n",
      "\u001b[1mRzeczpospolita Polski\u001b[0m (613)\n",
      "\u001b[1mKodeks\u001b[0m (517)\n",
      "\u001b[1mPolicja\u001b[0m (397)\n",
      "\u001b[1mSkarb Państwo\u001b[0m (349)\n",
      "\u001b[1mPrawo\u001b[0m (330)\n",
      "\u001b[1mKasa Chory\u001b[0m (284)\n",
      "\u001b[1mMinister\u001b[0m (276)\n",
      "\u001b[1mStraż Graniczny\u001b[0m (268)\n",
      "\u001b[1mUnia Europejski\u001b[0m (260)\n",
      "\u001b[1mRada Minister\u001b[0m (255)\n",
      "\u001b[1mZ\u001b[0m (231)\n",
      "\u001b[1mPaństwowy Straż Pożarny\u001b[0m (218)\n",
      "\u001b[1mTimes\u001b[0m (206)\n",
      "\u001b[1mZakład\u001b[0m (196)\n",
      "\u001b[1mZmiana\u001b[0m (190)\n",
      "\u001b[1mRada\u001b[0m (176)\n",
      "\u001b[1mFundusz\u001b[0m (164)\n",
      "\u001b[1mSprawiedliwość\u001b[0m (164)\n",
      "\u001b[1mAzot\u001b[0m (162)\n",
      "\u001b[1mPaństwowy Komisja Wyborczy\u001b[0m (161)\n",
      "\u001b[1mRozdział\u001b[0m (151)\n",
      "\u001b[1mTIR\u001b[0m (151)\n",
      "\u001b[1mUrząd Patentowy\u001b[0m (151)\n",
      "\u001b[1mPozostały\u001b[0m (146)\n",
      "\u001b[1mMinister Sprawiedliwość\u001b[0m (144)\n",
      "\u001b[1mPrezes Urząd\u001b[0m (144)\n",
      "\u001b[1mTkanina\u001b[0m (141)\n",
      "\u001b[1mMinister Obrona Narodowy\u001b[0m (139)\n",
      "\u001b[1mZnak\u001b[0m (138)\n",
      "\u001b[1mI\u001b[0m (132)\n",
      "\u001b[1mObrona Narodowy\u001b[0m (124)\n",
      "\u001b[1mUrząd Ochrona Państwo\u001b[0m (118)\n",
      "\u001b[1mFinanse\u001b[0m (116)\n",
      "\u001b[1mPrezes Rada Minister\u001b[0m (115)\n",
      "\u001b[1mEFTA\u001b[0m (114)\n",
      "\u001b[1mNawóz\u001b[0m (111)\n",
      "\u001b[1mP2O5\u001b[0m (110)\n",
      "\u001b[1mWolny Handel\u001b[0m (105)\n",
      "\u001b[1mCZ\u001b[0m (104)\n",
      "\u001b[1mWSP\u001b[0m (104)\n",
      "\u001b[1mMinister Finanse\u001b[0m (101)\n",
      "\u001b[1mPrzepis\u001b[0m (101)\n",
      "\u001b[1mII\u001b[0m (98)\n",
      "\u001b[1mBiuro\u001b[0m (97)\n",
      "\u001b[1mKomisja\u001b[0m (97)\n",
      "\u001b[1mEuropejski Obszar Gospodarczy\u001b[0m (95)\n",
      "\u001b[1mEuropejski Porozumienie\u001b[0m (95)\n",
      "\u001b[1mMaszyna\u001b[0m (94)\n",
      "\u001b[1mOrdynacja\u001b[0m (94)\n"
     ]
    }
   ],
   "source": [
    "top_entries = sorted(list(entries_counter.items()), key=(lambda x: (-x[1], x[0])))[:50]\n",
    "for e in top_entries:\n",
    "    print(f'\\033[1m{e[0]}\\033[0m ({e[1]})')"
   ]
  },
  {
   "cell_type": "markdown",
   "metadata": {},
   "source": [
    "# Zadanie 7\n",
    "\n",
    "Znalezienie named entities za pomocą linera udostępnianego przez Clarin przy użyciu szczegółowych kategorii"
   ]
  },
  {
   "cell_type": "code",
   "execution_count": 14,
   "metadata": {},
   "outputs": [],
   "source": [
    "clarin_url = \"http://ws.clarin-pl.eu/nlprest2/base/process\""
   ]
  },
  {
   "cell_type": "code",
   "execution_count": 15,
   "metadata": {},
   "outputs": [],
   "source": [
    "def prepare_json(text):\n",
    "    return {\n",
    "        'lpmn': 'any2txt|wcrft2|liner2({\"model\":\"n82\"})',\n",
    "        'text': text, \n",
    "        'user': \"moj@adres.mail\"\n",
    "    }"
   ]
  },
  {
   "cell_type": "code",
   "execution_count": 16,
   "metadata": {},
   "outputs": [],
   "source": [
    "def extract_entities_from_response(beautified_response):\n",
    "    lexemes_and_annotations = beautified_response.findAll(['lex', 'ann'])\n",
    "\n",
    "    entities = []\n",
    "\n",
    "    current_entity, current_entity_class, current_entity_value = [], None, None\n",
    "    for lexeme_or_annotation in lexemes_and_annotations:\n",
    "        if lexeme_or_annotation.name == 'lex':\n",
    "            lexeme = lexeme_or_annotation\n",
    "            lexeme_value = str(lexeme.find('base').next_sibling)\n",
    "            continue\n",
    "        \n",
    "        annotation = lexeme_or_annotation\n",
    "        annotation_value = int(annotation.text)\n",
    "        # ommit annotations with value of 0\n",
    "        if annotation_value == 0:\n",
    "            continue\n",
    "        full_class = annotation['chan']\n",
    "        # extend entity if it did not change\n",
    "        if full_class == current_entity_class and annotation_value == current_entity_value:\n",
    "            current_entity.append(lexeme_value)\n",
    "            continue\n",
    "        # save entity if new one started and if its not None\n",
    "        if current_entity_class is not None:\n",
    "            entity = ' '.join(current_entity)\n",
    "            coarse_class = '_'.join(current_entity_class.split('_')[:2])\n",
    "            entities.append((entity, current_entity_class, coarse_class))\n",
    "        # start new entity\n",
    "        current_entity, current_entity_class, current_entity_value = [lexeme_value], full_class, annotation_value\n",
    "\n",
    "    # save last entity if its not None\n",
    "    if current_entity_class is not None:\n",
    "        entity = ' '.join(current_entity)\n",
    "        coarse_class = '_'.join(current_entity_class.split('_')[:2])\n",
    "        entities.append((entity, current_entity_class, coarse_class))   \n",
    "    \n",
    "    return entities"
   ]
  },
  {
   "cell_type": "code",
   "execution_count": 17,
   "metadata": {},
   "outputs": [
    {
     "name": "stdout",
     "output_type": "stream",
     "text": [
      "..................................................CPU times: user 6min 17s, sys: 2.85 s, total: 6min 20s\n",
      "Wall time: 3h 40min 51s\n"
     ]
    }
   ],
   "source": [
    "%%time\n",
    "entities_per_act = []\n",
    "\n",
    "for law_act in law_acts:\n",
    "    response = requests.post(clarin_url, json=prepare_json(law_act)).content\n",
    "    beautified_response = BeautifulSoup(response)\n",
    "    entities_per_act.append(extract_entities_from_response(beautified_response))\n",
    "    print('.', end='')"
   ]
  },
  {
   "cell_type": "code",
   "execution_count": 19,
   "metadata": {},
   "outputs": [],
   "source": [
    "entities = sum(entities_per_act, [])"
   ]
  },
  {
   "cell_type": "code",
   "execution_count": 20,
   "metadata": {},
   "outputs": [
    {
     "data": {
      "text/plain": [
       "[('Dzieje_(Apostolskie) . u . Dzieje_(Apostolskie) . u .',\n",
       "  'nam_pro_media_periodic',\n",
       "  'nam_pro'),\n",
       " ('fundusz praca', 'nam_org_institution', 'nam_org'),\n",
       " ('fundusz gwarantowany świadczenie pracowniczy',\n",
       "  'nam_org_organization',\n",
       "  'nam_org'),\n",
       " ('ordynacja podatkowy', 'nam_pro_title_document', 'nam_pro'),\n",
       " ('Dzieje_(Apostolskie) . u .', 'nam_pro_media_periodic', 'nam_pro')]"
      ]
     },
     "execution_count": 20,
     "metadata": {},
     "output_type": "execute_result"
    }
   ],
   "source": [
    "entities[:5]"
   ]
  },
  {
   "cell_type": "markdown",
   "metadata": {},
   "source": [
    "# Zadanie 8\n",
    "\n",
    "Wyświetlenie histogramu znalezionych entities głównych kategorii"
   ]
  },
  {
   "cell_type": "code",
   "execution_count": 21,
   "metadata": {},
   "outputs": [],
   "source": [
    "coarse_classes_counter = {}\n",
    "for entity in entities:\n",
    "    coarse_classes_counter[entity[2]] = coarse_classes_counter.get(entity[2], 0) + 1"
   ]
  },
  {
   "cell_type": "code",
   "execution_count": 22,
   "metadata": {},
   "outputs": [
    {
     "data": {
      "image/png": "[encoded data removed]",
      "text/plain": [
       "<Figure size 720x432 with 1 Axes>"
      ]
     },
     "metadata": {
      "needs_background": "light"
     },
     "output_type": "display_data"
    }
   ],
   "source": [
    "plt.figure(figsize=(10, 6))\n",
    "plt.bar(coarse_classes_counter.keys(), coarse_classes_counter.values())\n",
    "plt.show()"
   ]
  },
  {
   "cell_type": "markdown",
   "metadata": {},
   "source": [
    "# Zadanie 9\n",
    "\n",
    "Wyświetlenie 10 najczęściej występujących nazw własnych dla każdej z głównych kategorii"
   ]
  },
  {
   "cell_type": "code",
   "execution_count": 23,
   "metadata": {},
   "outputs": [
    {
     "name": "stdout",
     "output_type": "stream",
     "text": [
      "\u001b[1mnam_pro:\u001b[0m\n",
      "  Dzieje_(Apostolskie) . u . (463)\n",
      "  dziennik . u . (66)\n",
      "  sprawa (48)\n",
      "  wewnętrzny (48)\n",
      "  Dzieje_(Apostolskie) . u . Dzieje_(Apostolskie) . u . (33)\n",
      "  ordynacja podatkowy (29)\n",
      "  monitor Polska (23)\n",
      "  konwencja (18)\n",
      "  natura 2000 (14)\n",
      "  kodeks postępowanie cywilny (13)\n",
      "\u001b[1mnam_org:\u001b[0m\n",
      "  unia europejski (184)\n",
      "  skarb państwo (146)\n",
      "  urząd ochrona państwo (109)\n",
      "  prezes rad minister (90)\n",
      "  EFTA (87)\n",
      "  europejski porozumienie o Wolny handel (85)\n",
      "  prezes urząd (81)\n",
      "  minister finanse (80)\n",
      "  rada minister (65)\n",
      "  minister obrona narodowy (51)\n",
      "\u001b[1mnam_liv:\u001b[0m\n",
      "  kasa chora (66)\n",
      "  gospodarka (21)\n",
      "  żywnościowy (15)\n",
      "  Art (9)\n",
      "  kasa chora kasa chora (8)\n",
      "  azot (7)\n",
      "  główny inspektor farmaceutyczny (6)\n",
      "  główny lekarz weterynaria (6)\n",
      "  kasa (6)\n",
      "  miedź (6)\n",
      "\u001b[1mnam_loc:\u001b[0m\n",
      "  rzeczpospolita polski (354)\n",
      "  polski (57)\n",
      "  rzeczpospolita (57)\n",
      "  rzeczpospolita Polska (43)\n",
      "  rzeczpospolita polski rzeczpospolita polski (30)\n",
      "  Polska (23)\n",
      "  nawóz (19)\n",
      "  warszawa (18)\n",
      "  Londyn (6)\n",
      "  rzeczpospolita polski rzeczpospolita polski rzeczpospolita polski (6)\n",
      "\u001b[1mnam_adj:\u001b[0m\n",
      "  polski (64)\n",
      "  wojewódzki (12)\n",
      "  europejski (9)\n",
      "  polski polski polski (7)\n",
      "  polski polski (6)\n",
      "  internetowy (3)\n",
      "  afrykański (2)\n",
      "  europejski europejski (2)\n",
      "  wojewódzki wojewódzki (2)\n",
      "  ateński (1)\n",
      "\u001b[1mnam_oth:\u001b[0m\n",
      "  złoty (104)\n",
      "  euro (81)\n",
      "  PESEL (12)\n",
      "  euro euro (10)\n",
      "  złoty złoty (8)\n",
      "  ecu (4)\n",
      "  minister edukacja narodowy (4)\n",
      "  złoty złoty złoty złoty (3)\n",
      "  NIP (2)\n",
      "  fus (2)\n",
      "\u001b[1mnam_eve:\u001b[0m\n",
      "  maksymalny limit pozostałość (4)\n",
      "  euro (3)\n",
      "  R5 recykling (1)\n",
      "  euro euro (1)\n",
      "  europejski kart społeczny (1)\n",
      "  kodeks morski (1)\n",
      "  międzynarodowy fundusz (1)\n",
      "  narodowy rachunek zdrowie (1)\n",
      "  nawóz PK (1)\n",
      "\u001b[1mnam_fac:\u001b[0m\n",
      "  mangan (8)\n",
      "  narodowy (5)\n",
      "  obrona (5)\n",
      "  molibden (4)\n",
      "  zasłużony dawca przeszczep (4)\n",
      "  MN (3)\n",
      "  NIP (2)\n",
      "  kancelaria senat (2)\n",
      "  nawóz (2)\n",
      "  straża graniczny (2)\n"
     ]
    }
   ],
   "source": [
    "coarse_classes_entities = {}\n",
    "for entity in entities:\n",
    "    coarse_classes_entities[entity[2]] = coarse_classes_entities.get(entity[2], []) + [entity[0]]\n",
    "for coarse_class, entities_list in coarse_classes_entities.items():\n",
    "    print(f'\\033[1m{coarse_class}:\\033[0m')\n",
    "    entities_counter = {}\n",
    "    for entity in entities_list:\n",
    "        entities_counter[entity] = entities_counter.get(entity, 0) + 1\n",
    "    top_entities = sorted(list(entities_counter.items()), key=(lambda x: (-x[1], x[0])))[:10]\n",
    "    for e in top_entities:\n",
    "        print(' ', e[0], f'({e[1]})')"
   ]
  },
  {
   "cell_type": "markdown",
   "metadata": {},
   "source": [
    "# Zadanie 10\n",
    "\n",
    "Wyświetlenie 50 najczęściej występujących nazw własnych"
   ]
  },
  {
   "cell_type": "code",
   "execution_count": 24,
   "metadata": {},
   "outputs": [
    {
     "name": "stdout",
     "output_type": "stream",
     "text": [
      "\u001b[1mDzieje_(Apostolskie) . u .\u001b[0m nam_pro_media_periodic (463)\n",
      "\u001b[1mrzeczpospolita polski\u001b[0m nam_loc_gpe_country (354)\n",
      "\u001b[1munia europejski\u001b[0m nam_org_organization (183)\n",
      "\u001b[1mskarb państwo\u001b[0m nam_org_institution (146)\n",
      "\u001b[1murząd ochrona państwo\u001b[0m nam_org_institution (109)\n",
      "\u001b[1mzłoty\u001b[0m nam_oth_currency (104)\n",
      "\u001b[1mprezes rad minister\u001b[0m nam_org_institution (90)\n",
      "\u001b[1mEFTA\u001b[0m nam_org_organization (87)\n",
      "\u001b[1meuropejski porozumienie o Wolny handel\u001b[0m nam_org_company (85)\n",
      "\u001b[1meuro\u001b[0m nam_oth_currency (81)\n",
      "\u001b[1mprezes urząd\u001b[0m nam_org_institution (81)\n",
      "\u001b[1mminister finanse\u001b[0m nam_org_institution (80)\n",
      "\u001b[1mdziennik . u .\u001b[0m nam_pro_media_periodic (66)\n",
      "\u001b[1mkasa chora\u001b[0m nam_liv_person (66)\n",
      "\u001b[1mrada minister\u001b[0m nam_org_institution (65)\n",
      "\u001b[1mpolski\u001b[0m nam_adj_country (64)\n",
      "\u001b[1mpolski\u001b[0m nam_loc_gpe_country (57)\n",
      "\u001b[1mrzeczpospolita\u001b[0m nam_loc_gpe_country (57)\n",
      "\u001b[1mminister obrona narodowy\u001b[0m nam_org_institution (51)\n",
      "\u001b[1mminister skarb państwo\u001b[0m nam_org_institution (49)\n",
      "\u001b[1mminister zdrowie i opieka społeczny\u001b[0m nam_org_institution (49)\n",
      "\u001b[1msprawa\u001b[0m nam_pro_title (48)\n",
      "\u001b[1mwewnętrzny\u001b[0m nam_org_institution (48)\n",
      "\u001b[1mwewnętrzny\u001b[0m nam_pro_title (48)\n",
      "\u001b[1mrzeczpospolita Polska\u001b[0m nam_loc_gpe_country (43)\n",
      "\u001b[1mpolski\u001b[0m nam_org_institution (42)\n",
      "\u001b[1mi administracja\u001b[0m nam_org_institution (41)\n",
      "\u001b[1mminister sprawa\u001b[0m nam_org_institution (40)\n",
      "\u001b[1murząd patentowy\u001b[0m nam_org_institution (37)\n",
      "\u001b[1mpaństwowy straża pożarny\u001b[0m nam_org_organization (36)\n",
      "\u001b[1mkrajowy związek kasa chora\u001b[0m nam_org_organization (34)\n",
      "\u001b[1mszef urząd ochrona państwo\u001b[0m nam_org_institution (34)\n",
      "\u001b[1mDzieje_(Apostolskie) . u . Dzieje_(Apostolskie) . u .\u001b[0m nam_pro_media_periodic (33)\n",
      "\u001b[1mrzeczpospolita polski rzeczpospolita polski\u001b[0m nam_loc_gpe_country (30)\n",
      "\u001b[1mordynacja podatkowy\u001b[0m nam_pro_title_document (29)\n",
      "\u001b[1meuropejski obszar gospodarczy\u001b[0m nam_org_company (28)\n",
      "\u001b[1mminister sprawiedliwość\u001b[0m nam_org_institution (28)\n",
      "\u001b[1mkomisja europejski\u001b[0m nam_org_institution (27)\n",
      "\u001b[1mfundusz\u001b[0m nam_org_organization (26)\n",
      "\u001b[1mzakład ubezpieczenie społeczny\u001b[0m nam_org_institution (26)\n",
      "\u001b[1mPolska\u001b[0m nam_loc_gpe_country (23)\n",
      "\u001b[1mminister sprawa wewnętrzny i administracja\u001b[0m nam_org_institution (23)\n",
      "\u001b[1mmonitor Polska\u001b[0m nam_pro_title (23)\n",
      "\u001b[1mfundusz\u001b[0m nam_org_institution (22)\n",
      "\u001b[1mgospodarka\u001b[0m nam_liv_person (21)\n",
      "\u001b[1mkrajowy związek kasa\u001b[0m nam_org_organization (21)\n",
      "\u001b[1mprezes fundusz\u001b[0m nam_org_institution (21)\n",
      "\u001b[1msłużba więzienny\u001b[0m nam_org_institution (21)\n",
      "\u001b[1murząd oficjalny publikacja wspólnota europejski\u001b[0m nam_org_institution (21)\n",
      "\u001b[1m\"\u001b[0m nam_org_institution (20)\n"
     ]
    }
   ],
   "source": [
    "entities_counter = {}\n",
    "for entity in entities:\n",
    "    key = (entity[0], entity[1])\n",
    "    entities_counter[key] = entities_counter.get(key, 0) + 1\n",
    "top_entities = sorted(list(entities_counter.items()), key=(lambda x: (-x[1], x[0])))[:50]\n",
    "for e in top_entities:\n",
    "    print(f'\\033[1m{e[0][0]}\\033[0m {e[0][1]} ({e[1]})')"
   ]
  },
  {
   "cell_type": "markdown",
   "metadata": {},
   "source": [
    "# Zadanie 11\n",
    "\n",
    "1. Which of the method (counting expressions with capital letters vs. NER) worked better for the task concerned with identification of the proper names?\n",
    "\n",
    "Identyfikacja nazw własnych przy pomocy zliczania wyrażeń z dużej litery dała średnie wyniki. Najpopularniejszą znalezioną nazwą własną było słowo numer, ze względu na częstość występowania skrótu Nr z dużej litery w tekstach ustaw. Wiele kolejnych znalezionych nazw własnych jest jednak w porządku np. Rzeczpospolita Polska, Skarb Państwa, Kasa Chorych itp. Około połowa znalezionych nazw to rzeczywiście konkretne i pełne nazwy własne, część została ucięta (np. Prawo,  Zakład, Rada itp.), co prawdopodobnie spowodowane było sposobem wykrywania zdań. Wykorzystanie dedykowanego narzędzia (NER) pozwoliło uzyskać znacząco lepsze efekty. Zdecydowania większość znalezionych nazw własnych jest poprawna (Rzeczpospolita Polska, Unia Europejska, prezes rady ministrów itp.). Zdarzają się pojedyncze błędy intepretacji skrótów (np. najczęściej występujące Dzieje_(Apostolskie).u., będące misinterpretacją Dziennika Ustaw) oraz pojedyncze niepełne nazwy własne (np. i administracja, wewnętrzny). Ogólnie NER poradził sobie lepiej od wcześniejszej metody, ale wykrywanie na podstawie występowania dużych liter też daje niezłe wyniki.\n",
    "\n",
    "2. What are the drawbacks of the method based on capital letters?\n",
    "\n",
    "- Trudność w wykryciu początku i końca zdania\n",
    "- Częste wykrycia tylko fragmentów nazw własnych\n",
    "- Brak wykrywania nazw własnych nie zaczynających się z dużej litery\n",
    "- Wystarczy jedna mała litera w środku wyrażenia (np. 'i'), żeby uniemożliwić wykrycie pełnej nazwy (np. Wydział Informatyki, Elektroniki i Telekomunikacji)\n",
    "\n",
    "3. What are the drawbacks of the method based on NER?\n",
    "\n",
    "- Zdarzające się misinterpretacje skrótów\n",
    "- Bardzo długi czas przetwarzania tekstów wejściowych\n",
    "- Dziwny format danych zwrotnych (konieczność niewygodnego parsingu, zwłaszcza problemy gdy konkretne słowo zostaje przyporządkowane do więcej niż jednej nazwy własnej, ponadto numerki w annotacjach nie są unikatowe dla kategorii, więc nie da się łatwo pogrupować po kluczu złożonym z kategorii i numerku)\n",
    "\n",
    "4. Which of the coarse-grained NER groups has the best and which has the worst results? Try to justify this observation.\n",
    "\n",
    "Najgorsze znalezione wyrażenia występują dla kategorii głównej nam_pro. Są kiepskie głównie przez występowanie źle zinterpretowanych skrótów (Dzieje_(Apostolskie) . u ., Dzieje_(Apostolskie) . u . Dzieje_(Apostolskie) . u .) oraz występowanie fragmentów nazw własnych (sprawa, wewnętrzny).\n",
    "Najlepsze według mnie wyniki występują dla kategorii głównej nam_org. Wszystkie znalezione tam nazwy własne są poprawne oraz wszystkie są dobrze zaklasyfikowane - są to nazwy organizacji czy instytucji. Nawet znalazła się tam EFTA, czyli skrót reprezentujący Europejskie Stowarzyszenie Wolnego Handlu.\n",
    "\n",
    "5. Do you think NER is sufficient for identifying different occurrences of the same entity (i.e. consider \"USA\" and \"Stany Zjednoczone\" and \"Stany Zjednoczone Ameryki Północnej\") ? If not, can you suggest an algorithm or a tool that would be able to group such names together?\n",
    "\n",
    "NER nie radzi sobie najlepiej z grupowaniem nazw własnych oznaczających to samo. Przykładowo dla kategorii nam_loc znaleziono rzeczpospolita polski (354), polski (57), rzeczpospolita (57), rzeczpospolita Polska (43), rzeczpospolita polski rzeczpospolita polski (30), Polska (23), a dla kategorii nam_adj polski, polski polski polski, polski polski. Żeby pogrupować nazwy własne oznaczające to samo możnaby wykorzystać np. embeding word2vec i sprawdzić, czy występują wyrażenia z tym samym embedingiem. Ewentualnie możnaby próbować wrzucić znalezione wyrażenia w wordnet i badać czy niektóre występują w tych samych synsetach.\n",
    "\n",
    "6. Can you think of a real world problem that would benefit the most from application of Named Entity Recognition algorithm?\n",
    "\n",
    "- Badanie popularności firm na podstawie wystąpień ich nazw w tweetach\n",
    "- Znajdywanie najpopularniejszych miejsc na wakacje na podstawie wystąpień ich nazw w tweetach z okresu letniego\n",
    "- Znajdywanie instytucji wymagających reform ze względu na ich zbyt częste występowanie w ustawach\n"
   ]
  }
 ],
 "metadata": {
  "kernelspec": {
   "display_name": "Python 3",
   "language": "python",
   "name": "python3"
  },
  "language_info": {
   "codemirror_mode": {
    "name": "ipython",
    "version": 3
   },
   "file_extension": ".py",
   "mimetype": "text/x-python",
   "name": "python",
   "nbconvert_exporter": "python",
   "pygments_lexer": "ipython3",
   "version": "3.7.9"
  }
 },
 "nbformat": 4,
 "nbformat_minor": 4
}
