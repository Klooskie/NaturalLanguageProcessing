{
 "cells": [
  {
   "cell_type": "code",
   "execution_count": 1,
   "metadata": {},
   "outputs": [],
   "source": [
    "import numpy as np\n",
    "import glob\n",
    "import requests\n",
    "import graphviz as gv\n",
    "from nltk.corpus import wordnet"
   ]
  },
  {
   "cell_type": "code",
   "execution_count": 2,
   "metadata": {},
   "outputs": [],
   "source": [
    "BASE_URL = 'http://api.slowosiec.clarin-pl.eu/plwordnet-api/'\n",
    "\n",
    "def perform_get_query(url):\n",
    "    return requests.get(BASE_URL + url).json()"
   ]
  },
  {
   "cell_type": "markdown",
   "metadata": {},
   "source": [
    "# Zadanie 3\n",
    "\n",
    "Aby znaleźć wszystkie znaczenia rzeczownika 'szkoda' wypisałem pary zawierające opis sensu rzeczownika 'szkoda' i synonimy tego słowa powiązane z wybranym sensem"
   ]
  },
  {
   "cell_type": "code",
   "execution_count": 3,
   "metadata": {},
   "outputs": [],
   "source": [
    "def get_senses_given_noun(lexeme):\n",
    "    return perform_get_query(f'senses/search?lemma={lexeme}&&&partOfSpeech=noun')['content']\n",
    "\n",
    "def get_synset_given_sense_id(sense_id):\n",
    "    return perform_get_query(f'senses/{sense_id}/synset')\n",
    "\n",
    "def get_senses_given_synset_id(synset_id):\n",
    "    return perform_get_query(f'synsets/{synset_id}/senses')"
   ]
  },
  {
   "cell_type": "code",
   "execution_count": 4,
   "metadata": {},
   "outputs": [],
   "source": [
    "def get_synonyms_given_sense_id(sense_id):\n",
    "    synset_id = get_synset_given_sense_id(sense_id)['id']\n",
    "    synset_senses = get_senses_given_synset_id(synset_id)\n",
    "    return [sense['lemma']['word'] for sense in synset_senses]"
   ]
  },
  {
   "cell_type": "code",
   "execution_count": 5,
   "metadata": {},
   "outputs": [
    {
     "data": {
      "text/plain": [
       "[('plWN miejsca i umiejscowienie', ['szkoda']),\n",
       " ('plWN posiadanie i jego zmiana',\n",
       "  ['strata', 'utrata', 'szkoda', 'uszczerbek'])]"
      ]
     },
     "execution_count": 5,
     "metadata": {},
     "output_type": "execute_result"
    }
   ],
   "source": [
    "meanings = []\n",
    "senses = get_senses_given_noun('szkoda')\n",
    "for sense in senses:\n",
    "    description = sense['domain']['description']\n",
    "    synonyms = get_synonyms_given_sense_id(sense['id'])\n",
    "    meanings.append((description, synonyms))\n",
    "meanings"
   ]
  },
  {
   "cell_type": "markdown",
   "metadata": {},
   "source": [
    "# Zadanie 4"
   ]
  },
  {
   "cell_type": "markdown",
   "metadata": {},
   "source": [
    "Utworzenie grafu domknięcia relacji hipernimi dla frazy 'wypadek drogowy'"
   ]
  },
  {
   "cell_type": "code",
   "execution_count": 6,
   "metadata": {},
   "outputs": [],
   "source": [
    "def get_senses_given_lexeme(lexeme):\n",
    "    return perform_get_query(f'senses/search?lemma={lexeme}')['content']\n",
    "\n",
    "def get_relations_to_given_synset_id(synset_id):\n",
    "    return perform_get_query(f'synsets/{synset_id}/relations/to')"
   ]
  },
  {
   "cell_type": "code",
   "execution_count": 7,
   "metadata": {},
   "outputs": [
    {
     "data": {
      "text/plain": [
       "[(410901, 410902, 'hiperonimia'),\n",
       " (3982, 410901, 'hiperonimia'),\n",
       " (27419, 3982, 'hiperonimia'),\n",
       " (6526, 27419, 'hiperonimia')]"
      ]
     },
     "execution_count": 7,
     "metadata": {},
     "output_type": "execute_result"
    }
   ],
   "source": [
    "first_sense = get_senses_given_lexeme('wypadek drogowy')[0]\n",
    "first_sense_synset_id = get_synset_given_sense_id(first_sense['id'])['id']\n",
    "\n",
    "synsets_relations = []\n",
    "visited_synsets = []\n",
    "synsets_ids = [first_sense_synset_id]\n",
    "\n",
    "while len(synsets_ids) != 0:\n",
    "    synset_id = synsets_ids.pop(0)\n",
    "    visited_synsets.append(synset_id)\n",
    "    relations_to_synset = get_relations_to_given_synset_id(synset_id)\n",
    "    for relation in relations_to_synset:\n",
    "        relation_name = relation['relation']['name']\n",
    "        if relation_name != 'hiperonimia':\n",
    "            continue\n",
    "        corresponding_synset_id = relation['synsetFrom']['id']\n",
    "        synsets_relations.append((corresponding_synset_id, synset_id, relation_name))\n",
    "        if corresponding_synset_id in visited_synsets:\n",
    "            continue\n",
    "        synsets_ids.append(corresponding_synset_id)\n",
    "\n",
    "synsets_relations"
   ]
  },
  {
   "cell_type": "markdown",
   "metadata": {},
   "source": [
    "Utworzenie grafu z synsetami jako wierzchołki\n",
    "\n",
    "<b>synonimy są pogrupowane w 1 wierzchołek (podobnie we wszystkich późniejszych grafach)</b>"
   ]
  },
  {
   "cell_type": "code",
   "execution_count": 8,
   "metadata": {},
   "outputs": [],
   "source": [
    "def get_synonyms_given_synset_id(synset_id):\n",
    "    synset_senses = get_senses_given_synset_id(synset_id)\n",
    "    return [sense['lemma']['word'] for sense in synset_senses]"
   ]
  },
  {
   "cell_type": "code",
   "execution_count": 9,
   "metadata": {},
   "outputs": [],
   "source": [
    "def get_synsets_graph(synsets, synsets_relations):\n",
    "    words_per_sysnet = {synset_id: get_synonyms_given_synset_id(synset_id) for synset_id in synsets}\n",
    "    synsets_labels = {synset_id: str(synset_id)+'\\n'+'\\n'.join(words_per_sysnet[synset_id]) for synset_id in synsets}\n",
    "    synset_nodes = list(synsets_labels.values())\n",
    "    synset_nodes_relations = []\n",
    "    for synset_1, synset_2, relation_type in synsets_relations:\n",
    "        synset_nodes_relations.append((synsets_labels[synset_1], synsets_labels[synset_2], relation_type))\n",
    "    return synset_nodes, synset_nodes_relations"
   ]
  },
  {
   "cell_type": "code",
   "execution_count": 10,
   "metadata": {},
   "outputs": [],
   "source": [
    "def generate_graph(nodes, relations):\n",
    "    g = gv.Digraph(format=\"svg\")\n",
    "    for node in nodes:\n",
    "        g.node(str(node))\n",
    "    for relation in relations:\n",
    "        g.edge(str(relation[0]), str(relation[1]), label=relation[2])\n",
    "    return g"
   ]
  },
  {
   "cell_type": "code",
   "execution_count": 11,
   "metadata": {},
   "outputs": [
    {
     "data": {
      "image/svg+xml": [
       "<?xml version=\"1.0\" encoding=\"UTF-8\" standalone=\"no\"?>\n",
       "<!DOCTYPE svg PUBLIC \"-//W3C//DTD SVG 1.1//EN\"\n",
       " \"http://www.w3.org/Graphics/SVG/1.1/DTD/svg11.dtd\">\n",
       "<!-- Generated by graphviz version 2.43.0 (0)\n",
       " -->\n",
       "<!-- Title: %3 Pages: 1 -->\n",
       "<svg width=\"347pt\" height=\"544pt\"\n",
       " viewBox=\"0.00 0.00 347.41 544.34\" xmlns=\"http://www.w3.org/2000/svg\" xmlns:xlink=\"http://www.w3.org/1999/xlink\">\n",
       "<g id=\"graph0\" class=\"graph\" transform=\"scale(1 1) rotate(0) translate(4 540.34)\">\n",
       "<title>%3</title>\n",
       "<polygon fill=\"white\" stroke=\"transparent\" points=\"-4,4 -4,-540.34 343.41,-540.34 343.41,4 -4,4\"/>\n",
       "<!-- 410902\n",
       "wypadek drogowy -->\n",
       "<g id=\"node1\" class=\"node\">\n",
       "<title>410902\n",
       "wypadek drogowy</title>\n",
       "<ellipse fill=\"none\" stroke=\"black\" cx=\"169.71\" cy=\"-26.87\" rx=\"103.48\" ry=\"26.74\"/>\n",
       "<text text-anchor=\"middle\" x=\"169.71\" y=\"-30.67\" font-family=\"Times,serif\" font-size=\"14.00\">410902</text>\n",
       "<text text-anchor=\"middle\" x=\"169.71\" y=\"-15.67\" font-family=\"Times,serif\" font-size=\"14.00\">wypadek drogowy</text>\n",
       "</g>\n",
       "<!-- 410901\n",
       "wypadek komunikacyjny -->\n",
       "<g id=\"node2\" class=\"node\">\n",
       "<title>410901\n",
       "wypadek komunikacyjny</title>\n",
       "<ellipse fill=\"none\" stroke=\"black\" cx=\"169.71\" cy=\"-131.61\" rx=\"135.11\" ry=\"26.74\"/>\n",
       "<text text-anchor=\"middle\" x=\"169.71\" y=\"-135.41\" font-family=\"Times,serif\" font-size=\"14.00\">410901</text>\n",
       "<text text-anchor=\"middle\" x=\"169.71\" y=\"-120.41\" font-family=\"Times,serif\" font-size=\"14.00\">wypadek komunikacyjny</text>\n",
       "</g>\n",
       "<!-- 410901\n",
       "wypadek komunikacyjny&#45;&gt;410902\n",
       "wypadek drogowy -->\n",
       "<g id=\"edge1\" class=\"edge\">\n",
       "<title>410901\n",
       "wypadek komunikacyjny&#45;&gt;410902\n",
       "wypadek drogowy</title>\n",
       "<path fill=\"none\" stroke=\"black\" d=\"M169.71,-104.68C169.71,-92.4 169.71,-77.51 169.71,-64.12\"/>\n",
       "<polygon fill=\"black\" stroke=\"black\" points=\"173.21,-63.79 169.71,-53.79 166.21,-63.79 173.21,-63.79\"/>\n",
       "<text text-anchor=\"middle\" x=\"212.71\" y=\"-75.54\" font-family=\"Times,serif\" font-size=\"14.00\">hiperonimia</text>\n",
       "</g>\n",
       "<!-- 3982\n",
       "wypadek -->\n",
       "<g id=\"node3\" class=\"node\">\n",
       "<title>3982\n",
       "wypadek</title>\n",
       "<ellipse fill=\"none\" stroke=\"black\" cx=\"169.71\" cy=\"-236.35\" rx=\"56.64\" ry=\"26.74\"/>\n",
       "<text text-anchor=\"middle\" x=\"169.71\" y=\"-240.15\" font-family=\"Times,serif\" font-size=\"14.00\">3982</text>\n",
       "<text text-anchor=\"middle\" x=\"169.71\" y=\"-225.15\" font-family=\"Times,serif\" font-size=\"14.00\">wypadek</text>\n",
       "</g>\n",
       "<!-- 3982\n",
       "wypadek&#45;&gt;410901\n",
       "wypadek komunikacyjny -->\n",
       "<g id=\"edge2\" class=\"edge\">\n",
       "<title>3982\n",
       "wypadek&#45;&gt;410901\n",
       "wypadek komunikacyjny</title>\n",
       "<path fill=\"none\" stroke=\"black\" d=\"M169.71,-209.42C169.71,-197.14 169.71,-182.25 169.71,-168.86\"/>\n",
       "<polygon fill=\"black\" stroke=\"black\" points=\"173.21,-168.53 169.71,-158.53 166.21,-168.53 173.21,-168.53\"/>\n",
       "<text text-anchor=\"middle\" x=\"212.71\" y=\"-180.28\" font-family=\"Times,serif\" font-size=\"14.00\">hiperonimia</text>\n",
       "</g>\n",
       "<!-- 27419\n",
       "zdarzenie oceniane negatywnie -->\n",
       "<g id=\"node4\" class=\"node\">\n",
       "<title>27419\n",
       "zdarzenie oceniane negatywnie</title>\n",
       "<ellipse fill=\"none\" stroke=\"black\" cx=\"169.71\" cy=\"-341.09\" rx=\"169.91\" ry=\"26.74\"/>\n",
       "<text text-anchor=\"middle\" x=\"169.71\" y=\"-344.89\" font-family=\"Times,serif\" font-size=\"14.00\">27419</text>\n",
       "<text text-anchor=\"middle\" x=\"169.71\" y=\"-329.89\" font-family=\"Times,serif\" font-size=\"14.00\">zdarzenie oceniane negatywnie</text>\n",
       "</g>\n",
       "<!-- 27419\n",
       "zdarzenie oceniane negatywnie&#45;&gt;3982\n",
       "wypadek -->\n",
       "<g id=\"edge3\" class=\"edge\">\n",
       "<title>27419\n",
       "zdarzenie oceniane negatywnie&#45;&gt;3982\n",
       "wypadek</title>\n",
       "<path fill=\"none\" stroke=\"black\" d=\"M169.71,-314.16C169.71,-301.88 169.71,-286.99 169.71,-273.6\"/>\n",
       "<polygon fill=\"black\" stroke=\"black\" points=\"173.21,-273.27 169.71,-263.27 166.21,-273.27 173.21,-273.27\"/>\n",
       "<text text-anchor=\"middle\" x=\"212.71\" y=\"-285.02\" font-family=\"Times,serif\" font-size=\"14.00\">hiperonimia</text>\n",
       "</g>\n",
       "<!-- 6526\n",
       "wydarzenie\n",
       "historia\n",
       "wypadek\n",
       "zdarzenie -->\n",
       "<g id=\"node5\" class=\"node\">\n",
       "<title>6526\n",
       "wydarzenie\n",
       "historia\n",
       "wypadek\n",
       "zdarzenie</title>\n",
       "<ellipse fill=\"none\" stroke=\"black\" cx=\"169.71\" cy=\"-477.65\" rx=\"69.09\" ry=\"58.88\"/>\n",
       "<text text-anchor=\"middle\" x=\"169.71\" y=\"-503.95\" font-family=\"Times,serif\" font-size=\"14.00\">6526</text>\n",
       "<text text-anchor=\"middle\" x=\"169.71\" y=\"-488.95\" font-family=\"Times,serif\" font-size=\"14.00\">wydarzenie</text>\n",
       "<text text-anchor=\"middle\" x=\"169.71\" y=\"-473.95\" font-family=\"Times,serif\" font-size=\"14.00\">historia</text>\n",
       "<text text-anchor=\"middle\" x=\"169.71\" y=\"-458.95\" font-family=\"Times,serif\" font-size=\"14.00\">wypadek</text>\n",
       "<text text-anchor=\"middle\" x=\"169.71\" y=\"-443.95\" font-family=\"Times,serif\" font-size=\"14.00\">zdarzenie</text>\n",
       "</g>\n",
       "<!-- 6526\n",
       "wydarzenie\n",
       "historia\n",
       "wypadek\n",
       "zdarzenie&#45;&gt;27419\n",
       "zdarzenie oceniane negatywnie -->\n",
       "<g id=\"edge4\" class=\"edge\">\n",
       "<title>6526\n",
       "wydarzenie\n",
       "historia\n",
       "wypadek\n",
       "zdarzenie&#45;&gt;27419\n",
       "zdarzenie oceniane negatywnie</title>\n",
       "<path fill=\"none\" stroke=\"black\" d=\"M169.71,-418.8C169.71,-405 169.71,-390.66 169.71,-378.17\"/>\n",
       "<polygon fill=\"black\" stroke=\"black\" points=\"173.21,-378.15 169.71,-368.15 166.21,-378.15 173.21,-378.15\"/>\n",
       "<text text-anchor=\"middle\" x=\"212.71\" y=\"-389.76\" font-family=\"Times,serif\" font-size=\"14.00\">hiperonimia</text>\n",
       "</g>\n",
       "</g>\n",
       "</svg>\n"
      ],
      "text/plain": [
       "<graphviz.dot.Digraph at 0x7f6aef007d50>"
      ]
     },
     "execution_count": 11,
     "metadata": {},
     "output_type": "execute_result"
    }
   ],
   "source": [
    "generate_graph(*get_synsets_graph(visited_synsets, synsets_relations))"
   ]
  },
  {
   "cell_type": "markdown",
   "metadata": {},
   "source": [
    "# Zadanie 5\n",
    "\n",
    "Znalezienie bezpośrednich hiponimów słowa wypadek (senseNumber 1)"
   ]
  },
  {
   "cell_type": "code",
   "execution_count": 12,
   "metadata": {},
   "outputs": [],
   "source": [
    "def get_sense_given_noun_and_number(noun, number):\n",
    "    senses = get_senses_given_noun(noun)\n",
    "    for sense in senses:\n",
    "        if sense['senseNumber'] == number:\n",
    "            return sense"
   ]
  },
  {
   "cell_type": "code",
   "execution_count": 13,
   "metadata": {},
   "outputs": [],
   "source": [
    "wypadek_1_sense_id = get_sense_given_noun_and_number('wypadek', 1)['id']\n",
    "wypadek_1_synset_id = get_synset_given_sense_id(wypadek_1_sense_id)['id']"
   ]
  },
  {
   "cell_type": "code",
   "execution_count": 14,
   "metadata": {},
   "outputs": [
    {
     "data": {
      "text/plain": [
       "[34688, 34689, 258635, 258639, 389170, 410901, 411618]"
      ]
     },
     "execution_count": 14,
     "metadata": {},
     "output_type": "execute_result"
    }
   ],
   "source": [
    "wypadek_relations = get_relations_to_given_synset_id(wypadek_1_synset_id)\n",
    "hyponyms_synsets_ids = []\n",
    "for relation in wypadek_relations:\n",
    "    if relation['relation']['name'] == 'hiponimia':\n",
    "        hyponyms_synsets_ids.append(relation['synsetFrom']['id'])\n",
    "hyponyms_synsets_ids"
   ]
  },
  {
   "cell_type": "code",
   "execution_count": 15,
   "metadata": {},
   "outputs": [
    {
     "data": {
      "text/plain": [
       "['zawał',\n",
       " 'tąpnięcie',\n",
       " 'katastrofa',\n",
       " 'wykolejenie',\n",
       " 'zakrztuszenie',\n",
       " 'zachłyśnięcie',\n",
       " 'wypadek komunikacyjny',\n",
       " 'katastrofa budowlana']"
      ]
     },
     "execution_count": 15,
     "metadata": {},
     "output_type": "execute_result"
    }
   ],
   "source": [
    "hyponyms = sum([get_synonyms_given_synset_id(synset_id) for synset_id in hyponyms_synsets_ids], [])\n",
    "hyponyms"
   ]
  },
  {
   "cell_type": "markdown",
   "metadata": {},
   "source": [
    "# Zadanie 6\n",
    "\n",
    "Znalezienie hiponimów drugiego stopnia (hiponimów hiponimów)"
   ]
  },
  {
   "cell_type": "code",
   "execution_count": 16,
   "metadata": {},
   "outputs": [
    {
     "data": {
      "text/plain": [
       "[37295, 410902]"
      ]
     },
     "execution_count": 16,
     "metadata": {},
     "output_type": "execute_result"
    }
   ],
   "source": [
    "second_order_hyponyms_synsets_ids = []\n",
    "for hyponyms_synset_id in hyponyms_synsets_ids:\n",
    "    relations = get_relations_to_given_synset_id(hyponyms_synset_id)\n",
    "    for relation in relations:\n",
    "        if relation['relation']['name'] == 'hiponimia':\n",
    "            second_order_hyponyms_synsets_ids.append(relation['synsetFrom']['id'])\n",
    "second_order_hyponyms_synsets_ids"
   ]
  },
  {
   "cell_type": "code",
   "execution_count": 17,
   "metadata": {},
   "outputs": [
    {
     "data": {
      "text/plain": [
       "['obwał', 'wypadek drogowy']"
      ]
     },
     "execution_count": 17,
     "metadata": {},
     "output_type": "execute_result"
    }
   ],
   "source": [
    "second_order_hyponyms = sum([get_synonyms_given_synset_id(synset_id) for synset_id in second_order_hyponyms_synsets_ids], [])\n",
    "second_order_hyponyms"
   ]
  },
  {
   "cell_type": "markdown",
   "metadata": {},
   "source": [
    "# Zadanie 7\n",
    "\n",
    "Generacja grafów relacji semantycznych pomiędzy danymi słowami"
   ]
  },
  {
   "cell_type": "code",
   "execution_count": 18,
   "metadata": {},
   "outputs": [],
   "source": [
    "A = {\n",
    "    'szkoda': 2,\n",
    "    'strata': 1, \n",
    "    'uszczerbek': 1, \n",
    "#     'szkoda majątkowa': 1, \n",
    "    'uszczerbek na zdrowiu': 1, \n",
    "    'krzywda': 1, \n",
    "    'niesprawiedliwość': 1, \n",
    "    'nieszczęście': 2\n",
    "}\n",
    "\n",
    "B = {\n",
    "    'wypadek': 1, \n",
    "    'wypadek komunikacyjny': 1, \n",
    "    'kolizja': 2, \n",
    "    'zderzenie': 2, \n",
    "    'kolizja drogowa': 1, \n",
    "    'bezkolizyjny': 2, \n",
    "    'katastrofa budowlana': 1, \n",
    "    'wypadek drogowy': 1\n",
    "}"
   ]
  },
  {
   "cell_type": "code",
   "execution_count": 19,
   "metadata": {},
   "outputs": [],
   "source": [
    "def get_sense_given_lexeme_and_number(lexeme, number):\n",
    "    senses = get_senses_given_lexeme(lexeme)\n",
    "    for sense in senses:\n",
    "        if sense['senseNumber'] == number:\n",
    "            return sense\n",
    "    return None\n",
    "        \n",
    "def get_relations_given_synset_id(synset_id):\n",
    "    return perform_get_query(f'synsets/{synset_id}/relations')"
   ]
  },
  {
   "cell_type": "code",
   "execution_count": 20,
   "metadata": {},
   "outputs": [],
   "source": [
    "def get_synsets_relations_given_lexemes(lexemes_dict):\n",
    "    synset_to_lexem = {}\n",
    "    for word, number in lexemes_dict.items():\n",
    "        word_sense_id = get_sense_given_lexeme_and_number(word, number)['id']\n",
    "        word_synset_id = get_synset_given_sense_id(word_sense_id)['id']\n",
    "        synset_to_lexem[word_synset_id] = synset_to_lexem.get(word_synset_id, []) + [word]\n",
    "        \n",
    "    synsets = list(synset_to_lexem.keys())\n",
    "    \n",
    "    synsets_relations = set()\n",
    "    for synset in synsets:\n",
    "        relations = get_relations_given_synset_id(synset)\n",
    "        for relation in relations:\n",
    "            if relation['synsetFrom']['id'] in synsets and relation['synsetTo']['id'] in synsets:\n",
    "                synsets_relations.add((relation['synsetFrom']['id'], relation['synsetTo']['id'], relation['relation']['name']))\n",
    "\n",
    "    return synsets, synsets_relations"
   ]
  },
  {
   "cell_type": "markdown",
   "metadata": {},
   "source": [
    "## Graf relacji semantycznych pomiędzy leksemami w grupie 1"
   ]
  },
  {
   "cell_type": "code",
   "execution_count": 21,
   "metadata": {},
   "outputs": [
    {
     "data": {
      "image/svg+xml": [
       "<?xml version=\"1.0\" encoding=\"UTF-8\" standalone=\"no\"?>\n",
       "<!DOCTYPE svg PUBLIC \"-//W3C//DTD SVG 1.1//EN\"\n",
       " \"http://www.w3.org/Graphics/SVG/1.1/DTD/svg11.dtd\">\n",
       "<!-- Generated by graphviz version 2.43.0 (0)\n",
       " -->\n",
       "<!-- Title: %3 Pages: 1 -->\n",
       "<svg width=\"527pt\" height=\"377pt\"\n",
       " viewBox=\"0.00 0.00 526.57 377.29\" xmlns=\"http://www.w3.org/2000/svg\" xmlns:xlink=\"http://www.w3.org/1999/xlink\">\n",
       "<g id=\"graph0\" class=\"graph\" transform=\"scale(1 1) rotate(0) translate(4 373.29)\">\n",
       "<title>%3</title>\n",
       "<polygon fill=\"white\" stroke=\"transparent\" points=\"-4,4 -4,-373.29 522.57,-373.29 522.57,4 -4,4\"/>\n",
       "<!-- 3675\n",
       "strata\n",
       "utrata\n",
       "szkoda\n",
       "uszczerbek -->\n",
       "<g id=\"node1\" class=\"node\">\n",
       "<title>3675\n",
       "strata\n",
       "utrata\n",
       "szkoda\n",
       "uszczerbek</title>\n",
       "<ellipse fill=\"none\" stroke=\"black\" cx=\"266.57\" cy=\"-310.6\" rx=\"67.76\" ry=\"58.88\"/>\n",
       "<text text-anchor=\"middle\" x=\"266.57\" y=\"-336.9\" font-family=\"Times,serif\" font-size=\"14.00\">3675</text>\n",
       "<text text-anchor=\"middle\" x=\"266.57\" y=\"-321.9\" font-family=\"Times,serif\" font-size=\"14.00\">strata</text>\n",
       "<text text-anchor=\"middle\" x=\"266.57\" y=\"-306.9\" font-family=\"Times,serif\" font-size=\"14.00\">utrata</text>\n",
       "<text text-anchor=\"middle\" x=\"266.57\" y=\"-291.9\" font-family=\"Times,serif\" font-size=\"14.00\">szkoda</text>\n",
       "<text text-anchor=\"middle\" x=\"266.57\" y=\"-276.9\" font-family=\"Times,serif\" font-size=\"14.00\">uszczerbek</text>\n",
       "</g>\n",
       "<!-- 46769\n",
       "uszczerbek na zdrowiu -->\n",
       "<g id=\"node2\" class=\"node\">\n",
       "<title>46769\n",
       "uszczerbek na zdrowiu</title>\n",
       "<ellipse fill=\"none\" stroke=\"black\" cx=\"126.57\" cy=\"-163.43\" rx=\"126.64\" ry=\"26.74\"/>\n",
       "<text text-anchor=\"middle\" x=\"126.57\" y=\"-167.23\" font-family=\"Times,serif\" font-size=\"14.00\">46769</text>\n",
       "<text text-anchor=\"middle\" x=\"126.57\" y=\"-152.23\" font-family=\"Times,serif\" font-size=\"14.00\">uszczerbek na zdrowiu</text>\n",
       "</g>\n",
       "<!-- 3675\n",
       "strata\n",
       "utrata\n",
       "szkoda\n",
       "uszczerbek&#45;&gt;46769\n",
       "uszczerbek na zdrowiu -->\n",
       "<g id=\"edge6\" class=\"edge\">\n",
       "<title>3675\n",
       "strata\n",
       "utrata\n",
       "szkoda\n",
       "uszczerbek&#45;&gt;46769\n",
       "uszczerbek na zdrowiu</title>\n",
       "<path fill=\"none\" stroke=\"black\" d=\"M200.71,-295.93C166.67,-285.17 128.06,-266.35 107.57,-233.91 101.1,-223.66 102.25,-211.22 106.18,-199.72\"/>\n",
       "<polygon fill=\"black\" stroke=\"black\" points=\"109.47,-200.92 110.02,-190.34 102.99,-198.26 109.47,-200.92\"/>\n",
       "<text text-anchor=\"middle\" x=\"150.57\" y=\"-222.71\" font-family=\"Times,serif\" font-size=\"14.00\">hiperonimia</text>\n",
       "</g>\n",
       "<!-- 1439\n",
       "krzywda\n",
       "niesprawiedliwość -->\n",
       "<g id=\"node3\" class=\"node\">\n",
       "<title>1439\n",
       "krzywda\n",
       "niesprawiedliwość</title>\n",
       "<ellipse fill=\"none\" stroke=\"black\" cx=\"406.57\" cy=\"-163.43\" rx=\"104.8\" ry=\"37.45\"/>\n",
       "<text text-anchor=\"middle\" x=\"406.57\" y=\"-174.73\" font-family=\"Times,serif\" font-size=\"14.00\">1439</text>\n",
       "<text text-anchor=\"middle\" x=\"406.57\" y=\"-159.73\" font-family=\"Times,serif\" font-size=\"14.00\">krzywda</text>\n",
       "<text text-anchor=\"middle\" x=\"406.57\" y=\"-144.73\" font-family=\"Times,serif\" font-size=\"14.00\">niesprawiedliwość</text>\n",
       "</g>\n",
       "<!-- 3675\n",
       "strata\n",
       "utrata\n",
       "szkoda\n",
       "uszczerbek&#45;&gt;1439\n",
       "krzywda\n",
       "niesprawiedliwość -->\n",
       "<g id=\"edge2\" class=\"edge\">\n",
       "<title>3675\n",
       "strata\n",
       "utrata\n",
       "szkoda\n",
       "uszczerbek&#45;&gt;1439\n",
       "krzywda\n",
       "niesprawiedliwość</title>\n",
       "<path fill=\"none\" stroke=\"black\" d=\"M289.24,-255.04C296.15,-242.27 304.62,-229.35 314.57,-218.91 321.3,-211.85 329.13,-205.4 337.34,-199.6\"/>\n",
       "<polygon fill=\"black\" stroke=\"black\" points=\"339.3,-202.5 345.64,-194.02 335.39,-196.69 339.3,-202.5\"/>\n",
       "<text text-anchor=\"middle\" x=\"357.57\" y=\"-222.71\" font-family=\"Times,serif\" font-size=\"14.00\">hiperonimia</text>\n",
       "</g>\n",
       "<!-- 46769\n",
       "uszczerbek na zdrowiu&#45;&gt;3675\n",
       "strata\n",
       "utrata\n",
       "szkoda\n",
       "uszczerbek -->\n",
       "<g id=\"edge4\" class=\"edge\">\n",
       "<title>46769\n",
       "uszczerbek na zdrowiu&#45;&gt;3675\n",
       "strata\n",
       "utrata\n",
       "szkoda\n",
       "uszczerbek</title>\n",
       "<path fill=\"none\" stroke=\"black\" d=\"M162.77,-189.29C174.43,-198.04 187.05,-208.34 197.57,-218.91 207.46,-228.83 217.15,-240.21 226.01,-251.47\"/>\n",
       "<polygon fill=\"black\" stroke=\"black\" points=\"223.42,-253.84 232.3,-259.63 228.96,-249.57 223.42,-253.84\"/>\n",
       "<text text-anchor=\"middle\" x=\"246.07\" y=\"-222.71\" font-family=\"Times,serif\" font-size=\"14.00\">hiponimia</text>\n",
       "</g>\n",
       "<!-- 1439\n",
       "krzywda\n",
       "niesprawiedliwość&#45;&gt;3675\n",
       "strata\n",
       "utrata\n",
       "szkoda\n",
       "uszczerbek -->\n",
       "<g id=\"edge3\" class=\"edge\">\n",
       "<title>1439\n",
       "krzywda\n",
       "niesprawiedliwość&#45;&gt;3675\n",
       "strata\n",
       "utrata\n",
       "szkoda\n",
       "uszczerbek</title>\n",
       "<path fill=\"none\" stroke=\"black\" d=\"M409.8,-201.18C409.17,-212.42 406.73,-224.33 400.57,-233.91 386.16,-256.33 362.63,-272.77 339.28,-284.48\"/>\n",
       "<polygon fill=\"black\" stroke=\"black\" points=\"337.53,-281.44 330.01,-288.9 340.54,-287.76 337.53,-281.44\"/>\n",
       "<text text-anchor=\"middle\" x=\"442.07\" y=\"-222.71\" font-family=\"Times,serif\" font-size=\"14.00\">hiponimia</text>\n",
       "</g>\n",
       "<!-- 5640\n",
       "nieszczęście\n",
       "niedola -->\n",
       "<g id=\"node4\" class=\"node\">\n",
       "<title>5640\n",
       "nieszczęście\n",
       "niedola</title>\n",
       "<ellipse fill=\"none\" stroke=\"black\" cx=\"406.57\" cy=\"-37.48\" rx=\"73.58\" ry=\"37.45\"/>\n",
       "<text text-anchor=\"middle\" x=\"406.57\" y=\"-48.78\" font-family=\"Times,serif\" font-size=\"14.00\">5640</text>\n",
       "<text text-anchor=\"middle\" x=\"406.57\" y=\"-33.78\" font-family=\"Times,serif\" font-size=\"14.00\">nieszczęście</text>\n",
       "<text text-anchor=\"middle\" x=\"406.57\" y=\"-18.78\" font-family=\"Times,serif\" font-size=\"14.00\">niedola</text>\n",
       "</g>\n",
       "<!-- 1439\n",
       "krzywda\n",
       "niesprawiedliwość&#45;&gt;5640\n",
       "nieszczęście\n",
       "niedola -->\n",
       "<g id=\"edge5\" class=\"edge\">\n",
       "<title>1439\n",
       "krzywda\n",
       "niesprawiedliwość&#45;&gt;5640\n",
       "nieszczęście\n",
       "niedola</title>\n",
       "<path fill=\"none\" stroke=\"black\" d=\"M364.92,-128.75C356.57,-117.98 351.67,-105.56 356.57,-92.95 358.55,-87.87 361.25,-82.97 364.38,-78.34\"/>\n",
       "<polygon fill=\"black\" stroke=\"black\" points=\"367.21,-80.4 370.41,-70.3 361.61,-76.2 367.21,-80.4\"/>\n",
       "<text text-anchor=\"middle\" x=\"392.07\" y=\"-96.75\" font-family=\"Times,serif\" font-size=\"14.00\">hiponimia</text>\n",
       "</g>\n",
       "<!-- 5640\n",
       "nieszczęście\n",
       "niedola&#45;&gt;1439\n",
       "krzywda\n",
       "niesprawiedliwość -->\n",
       "<g id=\"edge1\" class=\"edge\">\n",
       "<title>5640\n",
       "nieszczęście\n",
       "niedola&#45;&gt;1439\n",
       "krzywda\n",
       "niesprawiedliwość</title>\n",
       "<path fill=\"none\" stroke=\"black\" d=\"M425.39,-73.76C427.95,-80 430.17,-86.55 431.57,-92.95 433.28,-100.79 432.67,-108.95 430.75,-116.8\"/>\n",
       "<polygon fill=\"black\" stroke=\"black\" points=\"427.35,-115.95 427.72,-126.54 434.04,-118.03 427.35,-115.95\"/>\n",
       "<text text-anchor=\"middle\" x=\"475.57\" y=\"-96.75\" font-family=\"Times,serif\" font-size=\"14.00\">hiperonimia</text>\n",
       "</g>\n",
       "</g>\n",
       "</svg>\n"
      ],
      "text/plain": [
       "<graphviz.dot.Digraph at 0x7f6aef007cd0>"
      ]
     },
     "execution_count": 21,
     "metadata": {},
     "output_type": "execute_result"
    }
   ],
   "source": [
    "synsets, synsets_relations = get_synsets_relations_given_lexemes(A)\n",
    "synset_nodes, synset_nodes_relations = get_synsets_graph(synsets, synsets_relations)\n",
    "generate_graph(synset_nodes, synset_nodes_relations)"
   ]
  },
  {
   "cell_type": "markdown",
   "metadata": {},
   "source": [
    "## Graf relacji semantycznych pomiędzy leksemami w grupie 2"
   ]
  },
  {
   "cell_type": "code",
   "execution_count": 22,
   "metadata": {},
   "outputs": [
    {
     "data": {
      "image/svg+xml": [
       "<?xml version=\"1.0\" encoding=\"UTF-8\" standalone=\"no\"?>\n",
       "<!DOCTYPE svg PUBLIC \"-//W3C//DTD SVG 1.1//EN\"\n",
       " \"http://www.w3.org/Graphics/SVG/1.1/DTD/svg11.dtd\">\n",
       "<!-- Generated by graphviz version 2.43.0 (0)\n",
       " -->\n",
       "<!-- Title: %3 Pages: 1 -->\n",
       "<svg width=\"840pt\" height=\"314pt\"\n",
       " viewBox=\"0.00 0.00 839.60 313.65\" xmlns=\"http://www.w3.org/2000/svg\" xmlns:xlink=\"http://www.w3.org/1999/xlink\">\n",
       "<g id=\"graph0\" class=\"graph\" transform=\"scale(1 1) rotate(0) translate(4 309.65)\">\n",
       "<title>%3</title>\n",
       "<polygon fill=\"white\" stroke=\"transparent\" points=\"-4,4 -4,-309.65 835.6,-309.65 835.6,4 -4,4\"/>\n",
       "<!-- 3982\n",
       "wypadek -->\n",
       "<g id=\"node1\" class=\"node\">\n",
       "<title>3982\n",
       "wypadek</title>\n",
       "<ellipse fill=\"none\" stroke=\"black\" cx=\"272.06\" cy=\"-257.56\" rx=\"56.64\" ry=\"26.74\"/>\n",
       "<text text-anchor=\"middle\" x=\"272.06\" y=\"-261.36\" font-family=\"Times,serif\" font-size=\"14.00\">3982</text>\n",
       "<text text-anchor=\"middle\" x=\"272.06\" y=\"-246.36\" font-family=\"Times,serif\" font-size=\"14.00\">wypadek</text>\n",
       "</g>\n",
       "<!-- 410901\n",
       "wypadek komunikacyjny -->\n",
       "<g id=\"node2\" class=\"node\">\n",
       "<title>410901\n",
       "wypadek komunikacyjny</title>\n",
       "<ellipse fill=\"none\" stroke=\"black\" cx=\"135.06\" cy=\"-131.61\" rx=\"135.11\" ry=\"26.74\"/>\n",
       "<text text-anchor=\"middle\" x=\"135.06\" y=\"-135.41\" font-family=\"Times,serif\" font-size=\"14.00\">410901</text>\n",
       "<text text-anchor=\"middle\" x=\"135.06\" y=\"-120.41\" font-family=\"Times,serif\" font-size=\"14.00\">wypadek komunikacyjny</text>\n",
       "</g>\n",
       "<!-- 3982\n",
       "wypadek&#45;&gt;410901\n",
       "wypadek komunikacyjny -->\n",
       "<g id=\"edge1\" class=\"edge\">\n",
       "<title>3982\n",
       "wypadek&#45;&gt;410901\n",
       "wypadek komunikacyjny</title>\n",
       "<path fill=\"none\" stroke=\"black\" d=\"M218.21,-249.29C182.97,-241.43 139.43,-225.14 117.06,-191.48 112.34,-184.38 112.31,-175.99 114.5,-167.8\"/>\n",
       "<polygon fill=\"black\" stroke=\"black\" points=\"117.8,-168.96 117.95,-158.37 111.23,-166.55 117.8,-168.96\"/>\n",
       "<text text-anchor=\"middle\" x=\"160.06\" y=\"-180.28\" font-family=\"Times,serif\" font-size=\"14.00\">hiperonimia</text>\n",
       "</g>\n",
       "<!-- 411618\n",
       "katastrofa budowlana -->\n",
       "<g id=\"node6\" class=\"node\">\n",
       "<title>411618\n",
       "katastrofa budowlana</title>\n",
       "<ellipse fill=\"none\" stroke=\"black\" cx=\"418.06\" cy=\"-131.61\" rx=\"120.83\" ry=\"26.74\"/>\n",
       "<text text-anchor=\"middle\" x=\"418.06\" y=\"-135.41\" font-family=\"Times,serif\" font-size=\"14.00\">411618</text>\n",
       "<text text-anchor=\"middle\" x=\"418.06\" y=\"-120.41\" font-family=\"Times,serif\" font-size=\"14.00\">katastrofa budowlana</text>\n",
       "</g>\n",
       "<!-- 3982\n",
       "wypadek&#45;&gt;411618\n",
       "katastrofa budowlana -->\n",
       "<g id=\"edge4\" class=\"edge\">\n",
       "<title>3982\n",
       "wypadek&#45;&gt;411618\n",
       "katastrofa budowlana</title>\n",
       "<path fill=\"none\" stroke=\"black\" d=\"M282.41,-231.04C290.5,-213.76 303.21,-191.44 320.06,-176.48 327.48,-169.89 336.06,-164.15 344.98,-159.18\"/>\n",
       "<polygon fill=\"black\" stroke=\"black\" points=\"346.76,-162.2 354,-154.46 343.52,-156 346.76,-162.2\"/>\n",
       "<text text-anchor=\"middle\" x=\"363.06\" y=\"-180.28\" font-family=\"Times,serif\" font-size=\"14.00\">hiperonimia</text>\n",
       "</g>\n",
       "<!-- 410901\n",
       "wypadek komunikacyjny&#45;&gt;3982\n",
       "wypadek -->\n",
       "<g id=\"edge3\" class=\"edge\">\n",
       "<title>410901\n",
       "wypadek komunikacyjny&#45;&gt;3982\n",
       "wypadek</title>\n",
       "<path fill=\"none\" stroke=\"black\" d=\"M177.41,-157.25C186.23,-163.11 195.22,-169.65 203.06,-176.48 219.17,-190.51 234.91,-208.35 247.27,-223.62\"/>\n",
       "<polygon fill=\"black\" stroke=\"black\" points=\"244.81,-226.15 253.77,-231.8 250.29,-221.8 244.81,-226.15\"/>\n",
       "<text text-anchor=\"middle\" x=\"253.56\" y=\"-180.28\" font-family=\"Times,serif\" font-size=\"14.00\">hiponimia</text>\n",
       "</g>\n",
       "<!-- 410902\n",
       "wypadek drogowy -->\n",
       "<g id=\"node7\" class=\"node\">\n",
       "<title>410902\n",
       "wypadek drogowy</title>\n",
       "<ellipse fill=\"none\" stroke=\"black\" cx=\"135.06\" cy=\"-26.87\" rx=\"103.48\" ry=\"26.74\"/>\n",
       "<text text-anchor=\"middle\" x=\"135.06\" y=\"-30.67\" font-family=\"Times,serif\" font-size=\"14.00\">410902</text>\n",
       "<text text-anchor=\"middle\" x=\"135.06\" y=\"-15.67\" font-family=\"Times,serif\" font-size=\"14.00\">wypadek drogowy</text>\n",
       "</g>\n",
       "<!-- 410901\n",
       "wypadek komunikacyjny&#45;&gt;410902\n",
       "wypadek drogowy -->\n",
       "<g id=\"edge6\" class=\"edge\">\n",
       "<title>410901\n",
       "wypadek komunikacyjny&#45;&gt;410902\n",
       "wypadek drogowy</title>\n",
       "<path fill=\"none\" stroke=\"black\" d=\"M93.2,-105.95C87.08,-100.44 81.64,-94.02 78.06,-86.74 73,-76.47 76.75,-66.85 84.27,-58.47\"/>\n",
       "<polygon fill=\"black\" stroke=\"black\" points=\"86.85,-60.85 91.73,-51.45 82.05,-55.76 86.85,-60.85\"/>\n",
       "<text text-anchor=\"middle\" x=\"121.06\" y=\"-75.54\" font-family=\"Times,serif\" font-size=\"14.00\">hiperonimia</text>\n",
       "</g>\n",
       "<!-- 6486\n",
       "kolizja\n",
       "kolizja drogowa -->\n",
       "<g id=\"node3\" class=\"node\">\n",
       "<title>6486\n",
       "kolizja\n",
       "kolizja drogowa</title>\n",
       "<ellipse fill=\"none\" stroke=\"black\" cx=\"437.06\" cy=\"-257.56\" rx=\"90.52\" ry=\"37.45\"/>\n",
       "<text text-anchor=\"middle\" x=\"437.06\" y=\"-268.86\" font-family=\"Times,serif\" font-size=\"14.00\">6486</text>\n",
       "<text text-anchor=\"middle\" x=\"437.06\" y=\"-253.86\" font-family=\"Times,serif\" font-size=\"14.00\">kolizja</text>\n",
       "<text text-anchor=\"middle\" x=\"437.06\" y=\"-238.86\" font-family=\"Times,serif\" font-size=\"14.00\">kolizja drogowa</text>\n",
       "</g>\n",
       "<!-- 1284\n",
       "stłuczka\n",
       "zderzenie\n",
       "kraksa -->\n",
       "<g id=\"node4\" class=\"node\">\n",
       "<title>1284\n",
       "stłuczka\n",
       "zderzenie\n",
       "kraksa</title>\n",
       "<ellipse fill=\"none\" stroke=\"black\" cx=\"606.06\" cy=\"-257.56\" rx=\"60.62\" ry=\"48.17\"/>\n",
       "<text text-anchor=\"middle\" x=\"606.06\" y=\"-276.36\" font-family=\"Times,serif\" font-size=\"14.00\">1284</text>\n",
       "<text text-anchor=\"middle\" x=\"606.06\" y=\"-261.36\" font-family=\"Times,serif\" font-size=\"14.00\">stłuczka</text>\n",
       "<text text-anchor=\"middle\" x=\"606.06\" y=\"-246.36\" font-family=\"Times,serif\" font-size=\"14.00\">zderzenie</text>\n",
       "<text text-anchor=\"middle\" x=\"606.06\" y=\"-231.36\" font-family=\"Times,serif\" font-size=\"14.00\">kraksa</text>\n",
       "</g>\n",
       "<!-- 228740\n",
       "bezkolizyjny -->\n",
       "<g id=\"node5\" class=\"node\">\n",
       "<title>228740\n",
       "bezkolizyjny</title>\n",
       "<ellipse fill=\"none\" stroke=\"black\" cx=\"758.06\" cy=\"-257.56\" rx=\"73.58\" ry=\"26.74\"/>\n",
       "<text text-anchor=\"middle\" x=\"758.06\" y=\"-261.36\" font-family=\"Times,serif\" font-size=\"14.00\">228740</text>\n",
       "<text text-anchor=\"middle\" x=\"758.06\" y=\"-246.36\" font-family=\"Times,serif\" font-size=\"14.00\">bezkolizyjny</text>\n",
       "</g>\n",
       "<!-- 411618\n",
       "katastrofa budowlana&#45;&gt;3982\n",
       "wypadek -->\n",
       "<g id=\"edge5\" class=\"edge\">\n",
       "<title>411618\n",
       "katastrofa budowlana&#45;&gt;3982\n",
       "wypadek</title>\n",
       "<path fill=\"none\" stroke=\"black\" d=\"M418.65,-158.59C417.57,-170.01 414.31,-182.77 406.06,-191.48 384.26,-214.49 365.72,-195.95 337.06,-209.48 326.73,-214.35 316.36,-220.93 307.03,-227.62\"/>\n",
       "<polygon fill=\"black\" stroke=\"black\" points=\"304.72,-224.97 298.78,-233.75 308.9,-230.59 304.72,-224.97\"/>\n",
       "<text text-anchor=\"middle\" x=\"449.56\" y=\"-180.28\" font-family=\"Times,serif\" font-size=\"14.00\">hiponimia</text>\n",
       "</g>\n",
       "<!-- 410902\n",
       "wypadek drogowy&#45;&gt;410901\n",
       "wypadek komunikacyjny -->\n",
       "<g id=\"edge2\" class=\"edge\">\n",
       "<title>410902\n",
       "wypadek drogowy&#45;&gt;410901\n",
       "wypadek komunikacyjny</title>\n",
       "<path fill=\"none\" stroke=\"black\" d=\"M158.32,-53.19C162.32,-58.91 165.88,-65.23 168.06,-71.74 170.81,-79.97 169.21,-88.36 165.54,-96.13\"/>\n",
       "<polygon fill=\"black\" stroke=\"black\" points=\"162.43,-94.52 160.43,-104.93 168.48,-98.04 162.43,-94.52\"/>\n",
       "<text text-anchor=\"middle\" x=\"205.56\" y=\"-75.54\" font-family=\"Times,serif\" font-size=\"14.00\">hiponimia</text>\n",
       "</g>\n",
       "</g>\n",
       "</svg>\n"
      ],
      "text/plain": [
       "<graphviz.dot.Digraph at 0x7f6aeef908d0>"
      ]
     },
     "execution_count": 22,
     "metadata": {},
     "output_type": "execute_result"
    }
   ],
   "source": [
    "synsets, synsets_relations = get_synsets_relations_given_lexemes(B)\n",
    "synset_nodes, synset_nodes_relations = get_synsets_graph(synsets, synsets_relations)\n",
    "generate_graph(synset_nodes, synset_nodes_relations)"
   ]
  },
  {
   "cell_type": "markdown",
   "metadata": {},
   "source": [
    "## Graf relacji semantycznych pomiędzy leksemami z obu grup"
   ]
  },
  {
   "cell_type": "code",
   "execution_count": 23,
   "metadata": {},
   "outputs": [],
   "source": [
    "Lexemes = A\n",
    "for key, value in B.items():\n",
    "    Lexemes[key] = value"
   ]
  },
  {
   "cell_type": "code",
   "execution_count": 24,
   "metadata": {},
   "outputs": [
    {
     "data": {
      "image/svg+xml": [
       "<?xml version=\"1.0\" encoding=\"UTF-8\" standalone=\"no\"?>\n",
       "<!DOCTYPE svg PUBLIC \"-//W3C//DTD SVG 1.1//EN\"\n",
       " \"http://www.w3.org/Graphics/SVG/1.1/DTD/svg11.dtd\">\n",
       "<!-- Generated by graphviz version 2.43.0 (0)\n",
       " -->\n",
       "<!-- Title: %3 Pages: 1 -->\n",
       "<svg width=\"1398pt\" height=\"377pt\"\n",
       " viewBox=\"0.00 0.00 1398.11 377.29\" xmlns=\"http://www.w3.org/2000/svg\" xmlns:xlink=\"http://www.w3.org/1999/xlink\">\n",
       "<g id=\"graph0\" class=\"graph\" transform=\"scale(1 1) rotate(0) translate(4 373.29)\">\n",
       "<title>%3</title>\n",
       "<polygon fill=\"white\" stroke=\"transparent\" points=\"-4,4 -4,-373.29 1394.11,-373.29 1394.11,4 -4,4\"/>\n",
       "<!-- 3675\n",
       "strata\n",
       "utrata\n",
       "szkoda\n",
       "uszczerbek -->\n",
       "<g id=\"node1\" class=\"node\">\n",
       "<title>3675\n",
       "strata\n",
       "utrata\n",
       "szkoda\n",
       "uszczerbek</title>\n",
       "<ellipse fill=\"none\" stroke=\"black\" cx=\"251.57\" cy=\"-310.6\" rx=\"67.76\" ry=\"58.88\"/>\n",
       "<text text-anchor=\"middle\" x=\"251.57\" y=\"-336.9\" font-family=\"Times,serif\" font-size=\"14.00\">3675</text>\n",
       "<text text-anchor=\"middle\" x=\"251.57\" y=\"-321.9\" font-family=\"Times,serif\" font-size=\"14.00\">strata</text>\n",
       "<text text-anchor=\"middle\" x=\"251.57\" y=\"-306.9\" font-family=\"Times,serif\" font-size=\"14.00\">utrata</text>\n",
       "<text text-anchor=\"middle\" x=\"251.57\" y=\"-291.9\" font-family=\"Times,serif\" font-size=\"14.00\">szkoda</text>\n",
       "<text text-anchor=\"middle\" x=\"251.57\" y=\"-276.9\" font-family=\"Times,serif\" font-size=\"14.00\">uszczerbek</text>\n",
       "</g>\n",
       "<!-- 46769\n",
       "uszczerbek na zdrowiu -->\n",
       "<g id=\"node2\" class=\"node\">\n",
       "<title>46769\n",
       "uszczerbek na zdrowiu</title>\n",
       "<ellipse fill=\"none\" stroke=\"black\" cx=\"126.57\" cy=\"-163.43\" rx=\"126.64\" ry=\"26.74\"/>\n",
       "<text text-anchor=\"middle\" x=\"126.57\" y=\"-167.23\" font-family=\"Times,serif\" font-size=\"14.00\">46769</text>\n",
       "<text text-anchor=\"middle\" x=\"126.57\" y=\"-152.23\" font-family=\"Times,serif\" font-size=\"14.00\">uszczerbek na zdrowiu</text>\n",
       "</g>\n",
       "<!-- 3675\n",
       "strata\n",
       "utrata\n",
       "szkoda\n",
       "uszczerbek&#45;&gt;46769\n",
       "uszczerbek na zdrowiu -->\n",
       "<g id=\"edge12\" class=\"edge\">\n",
       "<title>3675\n",
       "strata\n",
       "utrata\n",
       "szkoda\n",
       "uszczerbek&#45;&gt;46769\n",
       "uszczerbek na zdrowiu</title>\n",
       "<path fill=\"none\" stroke=\"black\" d=\"M185.71,-295.93C151.67,-285.17 113.06,-266.35 92.57,-233.91 85.54,-222.78 88.88,-209.99 95.68,-198.44\"/>\n",
       "<polygon fill=\"black\" stroke=\"black\" points=\"98.75,-200.14 101.44,-189.89 92.94,-196.23 98.75,-200.14\"/>\n",
       "<text text-anchor=\"middle\" x=\"135.57\" y=\"-222.71\" font-family=\"Times,serif\" font-size=\"14.00\">hiperonimia</text>\n",
       "</g>\n",
       "<!-- 1439\n",
       "krzywda\n",
       "niesprawiedliwość -->\n",
       "<g id=\"node3\" class=\"node\">\n",
       "<title>1439\n",
       "krzywda\n",
       "niesprawiedliwość</title>\n",
       "<ellipse fill=\"none\" stroke=\"black\" cx=\"391.57\" cy=\"-163.43\" rx=\"104.8\" ry=\"37.45\"/>\n",
       "<text text-anchor=\"middle\" x=\"391.57\" y=\"-174.73\" font-family=\"Times,serif\" font-size=\"14.00\">1439</text>\n",
       "<text text-anchor=\"middle\" x=\"391.57\" y=\"-159.73\" font-family=\"Times,serif\" font-size=\"14.00\">krzywda</text>\n",
       "<text text-anchor=\"middle\" x=\"391.57\" y=\"-144.73\" font-family=\"Times,serif\" font-size=\"14.00\">niesprawiedliwość</text>\n",
       "</g>\n",
       "<!-- 3675\n",
       "strata\n",
       "utrata\n",
       "szkoda\n",
       "uszczerbek&#45;&gt;1439\n",
       "krzywda\n",
       "niesprawiedliwość -->\n",
       "<g id=\"edge3\" class=\"edge\">\n",
       "<title>3675\n",
       "strata\n",
       "utrata\n",
       "szkoda\n",
       "uszczerbek&#45;&gt;1439\n",
       "krzywda\n",
       "niesprawiedliwość</title>\n",
       "<path fill=\"none\" stroke=\"black\" d=\"M274.24,-255.04C281.15,-242.27 289.62,-229.35 299.57,-218.91 306.3,-211.85 314.13,-205.4 322.34,-199.6\"/>\n",
       "<polygon fill=\"black\" stroke=\"black\" points=\"324.3,-202.5 330.64,-194.02 320.39,-196.69 324.3,-202.5\"/>\n",
       "<text text-anchor=\"middle\" x=\"342.57\" y=\"-222.71\" font-family=\"Times,serif\" font-size=\"14.00\">hiperonimia</text>\n",
       "</g>\n",
       "<!-- 46769\n",
       "uszczerbek na zdrowiu&#45;&gt;3675\n",
       "strata\n",
       "utrata\n",
       "szkoda\n",
       "uszczerbek -->\n",
       "<g id=\"edge8\" class=\"edge\">\n",
       "<title>46769\n",
       "uszczerbek na zdrowiu&#45;&gt;3675\n",
       "strata\n",
       "utrata\n",
       "szkoda\n",
       "uszczerbek</title>\n",
       "<path fill=\"none\" stroke=\"black\" d=\"M154.16,-189.7C163.49,-198.64 173.76,-208.96 182.57,-218.91 191.75,-229.28 201.07,-240.76 209.77,-251.96\"/>\n",
       "<polygon fill=\"black\" stroke=\"black\" points=\"207.12,-254.25 215.98,-260.06 212.67,-249.99 207.12,-254.25\"/>\n",
       "<text text-anchor=\"middle\" x=\"231.07\" y=\"-222.71\" font-family=\"Times,serif\" font-size=\"14.00\">hiponimia</text>\n",
       "</g>\n",
       "<!-- 1439\n",
       "krzywda\n",
       "niesprawiedliwość&#45;&gt;3675\n",
       "strata\n",
       "utrata\n",
       "szkoda\n",
       "uszczerbek -->\n",
       "<g id=\"edge6\" class=\"edge\">\n",
       "<title>1439\n",
       "krzywda\n",
       "niesprawiedliwość&#45;&gt;3675\n",
       "strata\n",
       "utrata\n",
       "szkoda\n",
       "uszczerbek</title>\n",
       "<path fill=\"none\" stroke=\"black\" d=\"M394.8,-201.18C394.17,-212.42 391.73,-224.33 385.57,-233.91 371.16,-256.33 347.63,-272.77 324.28,-284.48\"/>\n",
       "<polygon fill=\"black\" stroke=\"black\" points=\"322.53,-281.44 315.01,-288.9 325.54,-287.76 322.53,-281.44\"/>\n",
       "<text text-anchor=\"middle\" x=\"428.07\" y=\"-222.71\" font-family=\"Times,serif\" font-size=\"14.00\">hiponimia</text>\n",
       "</g>\n",
       "<!-- 5640\n",
       "nieszczęście\n",
       "niedola -->\n",
       "<g id=\"node4\" class=\"node\">\n",
       "<title>5640\n",
       "nieszczęście\n",
       "niedola</title>\n",
       "<ellipse fill=\"none\" stroke=\"black\" cx=\"404.57\" cy=\"-37.48\" rx=\"73.58\" ry=\"37.45\"/>\n",
       "<text text-anchor=\"middle\" x=\"404.57\" y=\"-48.78\" font-family=\"Times,serif\" font-size=\"14.00\">5640</text>\n",
       "<text text-anchor=\"middle\" x=\"404.57\" y=\"-33.78\" font-family=\"Times,serif\" font-size=\"14.00\">nieszczęście</text>\n",
       "<text text-anchor=\"middle\" x=\"404.57\" y=\"-18.78\" font-family=\"Times,serif\" font-size=\"14.00\">niedola</text>\n",
       "</g>\n",
       "<!-- 1439\n",
       "krzywda\n",
       "niesprawiedliwość&#45;&gt;5640\n",
       "nieszczęście\n",
       "niedola -->\n",
       "<g id=\"edge11\" class=\"edge\">\n",
       "<title>1439\n",
       "krzywda\n",
       "niesprawiedliwość&#45;&gt;5640\n",
       "nieszczęście\n",
       "niedola</title>\n",
       "<path fill=\"none\" stroke=\"black\" d=\"M335.77,-131.35C323.46,-120.32 316.04,-107.11 323.57,-92.95 328.29,-84.09 335.17,-76.41 342.94,-69.84\"/>\n",
       "<polygon fill=\"black\" stroke=\"black\" points=\"345.2,-72.53 350.98,-63.64 340.92,-66.98 345.2,-72.53\"/>\n",
       "<text text-anchor=\"middle\" x=\"359.07\" y=\"-96.75\" font-family=\"Times,serif\" font-size=\"14.00\">hiponimia</text>\n",
       "</g>\n",
       "<!-- 5640\n",
       "nieszczęście\n",
       "niedola&#45;&gt;1439\n",
       "krzywda\n",
       "niesprawiedliwość -->\n",
       "<g id=\"edge2\" class=\"edge\">\n",
       "<title>5640\n",
       "nieszczęście\n",
       "niedola&#45;&gt;1439\n",
       "krzywda\n",
       "niesprawiedliwość</title>\n",
       "<path fill=\"none\" stroke=\"black\" d=\"M401.68,-75.28C400.77,-85.84 399.71,-97.36 398.57,-107.95 398.3,-110.48 398.01,-113.08 397.71,-115.7\"/>\n",
       "<polygon fill=\"black\" stroke=\"black\" points=\"394.21,-115.48 396.49,-125.83 401.16,-116.31 394.21,-115.48\"/>\n",
       "<text text-anchor=\"middle\" x=\"443.57\" y=\"-96.75\" font-family=\"Times,serif\" font-size=\"14.00\">hiperonimia</text>\n",
       "</g>\n",
       "<!-- 3982\n",
       "wypadek -->\n",
       "<g id=\"node5\" class=\"node\">\n",
       "<title>3982\n",
       "wypadek</title>\n",
       "<ellipse fill=\"none\" stroke=\"black\" cx=\"830.57\" cy=\"-310.6\" rx=\"56.64\" ry=\"26.74\"/>\n",
       "<text text-anchor=\"middle\" x=\"830.57\" y=\"-314.4\" font-family=\"Times,serif\" font-size=\"14.00\">3982</text>\n",
       "<text text-anchor=\"middle\" x=\"830.57\" y=\"-299.4\" font-family=\"Times,serif\" font-size=\"14.00\">wypadek</text>\n",
       "</g>\n",
       "<!-- 410901\n",
       "wypadek komunikacyjny -->\n",
       "<g id=\"node6\" class=\"node\">\n",
       "<title>410901\n",
       "wypadek komunikacyjny</title>\n",
       "<ellipse fill=\"none\" stroke=\"black\" cx=\"684.57\" cy=\"-163.43\" rx=\"135.11\" ry=\"26.74\"/>\n",
       "<text text-anchor=\"middle\" x=\"684.57\" y=\"-167.23\" font-family=\"Times,serif\" font-size=\"14.00\">410901</text>\n",
       "<text text-anchor=\"middle\" x=\"684.57\" y=\"-152.23\" font-family=\"Times,serif\" font-size=\"14.00\">wypadek komunikacyjny</text>\n",
       "</g>\n",
       "<!-- 3982\n",
       "wypadek&#45;&gt;410901\n",
       "wypadek komunikacyjny -->\n",
       "<g id=\"edge1\" class=\"edge\">\n",
       "<title>3982\n",
       "wypadek&#45;&gt;410901\n",
       "wypadek komunikacyjny</title>\n",
       "<path fill=\"none\" stroke=\"black\" d=\"M779.14,-299.39C743.32,-289.32 698.1,-269.97 675.57,-233.91 669.34,-223.93 669.1,-211.58 671.22,-200.08\"/>\n",
       "<polygon fill=\"black\" stroke=\"black\" points=\"674.64,-200.8 673.59,-190.26 667.84,-199.16 674.64,-200.8\"/>\n",
       "<text text-anchor=\"middle\" x=\"718.57\" y=\"-222.71\" font-family=\"Times,serif\" font-size=\"14.00\">hiperonimia</text>\n",
       "</g>\n",
       "<!-- 411618\n",
       "katastrofa budowlana -->\n",
       "<g id=\"node10\" class=\"node\">\n",
       "<title>411618\n",
       "katastrofa budowlana</title>\n",
       "<ellipse fill=\"none\" stroke=\"black\" cx=\"977.57\" cy=\"-163.43\" rx=\"120.83\" ry=\"26.74\"/>\n",
       "<text text-anchor=\"middle\" x=\"977.57\" y=\"-167.23\" font-family=\"Times,serif\" font-size=\"14.00\">411618</text>\n",
       "<text text-anchor=\"middle\" x=\"977.57\" y=\"-152.23\" font-family=\"Times,serif\" font-size=\"14.00\">katastrofa budowlana</text>\n",
       "</g>\n",
       "<!-- 3982\n",
       "wypadek&#45;&gt;411618\n",
       "katastrofa budowlana -->\n",
       "<g id=\"edge7\" class=\"edge\">\n",
       "<title>3982\n",
       "wypadek&#45;&gt;411618\n",
       "katastrofa budowlana</title>\n",
       "<path fill=\"none\" stroke=\"black\" d=\"M839.44,-284.02C847.28,-264.34 860.33,-237.45 878.57,-218.91 888.69,-208.62 901.16,-199.75 913.8,-192.33\"/>\n",
       "<polygon fill=\"black\" stroke=\"black\" points=\"915.54,-195.37 922.55,-187.43 912.12,-189.26 915.54,-195.37\"/>\n",
       "<text text-anchor=\"middle\" x=\"921.57\" y=\"-222.71\" font-family=\"Times,serif\" font-size=\"14.00\">hiperonimia</text>\n",
       "</g>\n",
       "<!-- 410901\n",
       "wypadek komunikacyjny&#45;&gt;3982\n",
       "wypadek -->\n",
       "<g id=\"edge5\" class=\"edge\">\n",
       "<title>410901\n",
       "wypadek komunikacyjny&#45;&gt;3982\n",
       "wypadek</title>\n",
       "<path fill=\"none\" stroke=\"black\" d=\"M724.35,-189.14C736.89,-197.81 750.38,-208.1 761.57,-218.91 779.3,-236.03 796.12,-257.97 808.71,-275.99\"/>\n",
       "<polygon fill=\"black\" stroke=\"black\" points=\"806,-278.21 814.54,-284.47 811.77,-274.25 806,-278.21\"/>\n",
       "<text text-anchor=\"middle\" x=\"810.07\" y=\"-222.71\" font-family=\"Times,serif\" font-size=\"14.00\">hiponimia</text>\n",
       "</g>\n",
       "<!-- 410902\n",
       "wypadek drogowy -->\n",
       "<g id=\"node11\" class=\"node\">\n",
       "<title>410902\n",
       "wypadek drogowy</title>\n",
       "<ellipse fill=\"none\" stroke=\"black\" cx=\"623.57\" cy=\"-37.48\" rx=\"103.48\" ry=\"26.74\"/>\n",
       "<text text-anchor=\"middle\" x=\"623.57\" y=\"-41.28\" font-family=\"Times,serif\" font-size=\"14.00\">410902</text>\n",
       "<text text-anchor=\"middle\" x=\"623.57\" y=\"-26.28\" font-family=\"Times,serif\" font-size=\"14.00\">wypadek drogowy</text>\n",
       "</g>\n",
       "<!-- 410901\n",
       "wypadek komunikacyjny&#45;&gt;410902\n",
       "wypadek drogowy -->\n",
       "<g id=\"edge10\" class=\"edge\">\n",
       "<title>410901\n",
       "wypadek komunikacyjny&#45;&gt;410902\n",
       "wypadek drogowy</title>\n",
       "<path fill=\"none\" stroke=\"black\" d=\"M621.78,-139.37C608.55,-131.49 596.29,-121.2 588.57,-107.95 581.91,-96.51 585.48,-83.65 592.42,-72.13\"/>\n",
       "<polygon fill=\"black\" stroke=\"black\" points=\"595.49,-73.85 598.28,-63.63 589.72,-69.88 595.49,-73.85\"/>\n",
       "<text text-anchor=\"middle\" x=\"631.57\" y=\"-96.75\" font-family=\"Times,serif\" font-size=\"14.00\">hiperonimia</text>\n",
       "</g>\n",
       "<!-- 6486\n",
       "kolizja\n",
       "kolizja drogowa -->\n",
       "<g id=\"node7\" class=\"node\">\n",
       "<title>6486\n",
       "kolizja\n",
       "kolizja drogowa</title>\n",
       "<ellipse fill=\"none\" stroke=\"black\" cx=\"995.57\" cy=\"-310.6\" rx=\"90.52\" ry=\"37.45\"/>\n",
       "<text text-anchor=\"middle\" x=\"995.57\" y=\"-321.9\" font-family=\"Times,serif\" font-size=\"14.00\">6486</text>\n",
       "<text text-anchor=\"middle\" x=\"995.57\" y=\"-306.9\" font-family=\"Times,serif\" font-size=\"14.00\">kolizja</text>\n",
       "<text text-anchor=\"middle\" x=\"995.57\" y=\"-291.9\" font-family=\"Times,serif\" font-size=\"14.00\">kolizja drogowa</text>\n",
       "</g>\n",
       "<!-- 1284\n",
       "stłuczka\n",
       "zderzenie\n",
       "kraksa -->\n",
       "<g id=\"node8\" class=\"node\">\n",
       "<title>1284\n",
       "stłuczka\n",
       "zderzenie\n",
       "kraksa</title>\n",
       "<ellipse fill=\"none\" stroke=\"black\" cx=\"1164.57\" cy=\"-310.6\" rx=\"60.62\" ry=\"48.17\"/>\n",
       "<text text-anchor=\"middle\" x=\"1164.57\" y=\"-329.4\" font-family=\"Times,serif\" font-size=\"14.00\">1284</text>\n",
       "<text text-anchor=\"middle\" x=\"1164.57\" y=\"-314.4\" font-family=\"Times,serif\" font-size=\"14.00\">stłuczka</text>\n",
       "<text text-anchor=\"middle\" x=\"1164.57\" y=\"-299.4\" font-family=\"Times,serif\" font-size=\"14.00\">zderzenie</text>\n",
       "<text text-anchor=\"middle\" x=\"1164.57\" y=\"-284.4\" font-family=\"Times,serif\" font-size=\"14.00\">kraksa</text>\n",
       "</g>\n",
       "<!-- 228740\n",
       "bezkolizyjny -->\n",
       "<g id=\"node9\" class=\"node\">\n",
       "<title>228740\n",
       "bezkolizyjny</title>\n",
       "<ellipse fill=\"none\" stroke=\"black\" cx=\"1316.57\" cy=\"-310.6\" rx=\"73.58\" ry=\"26.74\"/>\n",
       "<text text-anchor=\"middle\" x=\"1316.57\" y=\"-314.4\" font-family=\"Times,serif\" font-size=\"14.00\">228740</text>\n",
       "<text text-anchor=\"middle\" x=\"1316.57\" y=\"-299.4\" font-family=\"Times,serif\" font-size=\"14.00\">bezkolizyjny</text>\n",
       "</g>\n",
       "<!-- 411618\n",
       "katastrofa budowlana&#45;&gt;3982\n",
       "wypadek -->\n",
       "<g id=\"edge9\" class=\"edge\">\n",
       "<title>411618\n",
       "katastrofa budowlana&#45;&gt;3982\n",
       "wypadek</title>\n",
       "<path fill=\"none\" stroke=\"black\" d=\"M979.1,-190.55C978.53,-205.05 975.28,-222.42 964.57,-233.91 942.96,-257.09 923.53,-236.98 895.57,-251.91 882.61,-258.83 870.11,-268.83 859.59,-278.57\"/>\n",
       "<polygon fill=\"black\" stroke=\"black\" points=\"857.09,-276.11 852.3,-285.56 861.94,-281.16 857.09,-276.11\"/>\n",
       "<text text-anchor=\"middle\" x=\"1008.07\" y=\"-222.71\" font-family=\"Times,serif\" font-size=\"14.00\">hiponimia</text>\n",
       "</g>\n",
       "<!-- 410902\n",
       "wypadek drogowy&#45;&gt;410901\n",
       "wypadek komunikacyjny -->\n",
       "<g id=\"edge4\" class=\"edge\">\n",
       "<title>410902\n",
       "wypadek drogowy&#45;&gt;410901\n",
       "wypadek komunikacyjny</title>\n",
       "<path fill=\"none\" stroke=\"black\" d=\"M655.91,-63.12C664.75,-71.57 673.33,-81.76 678.57,-92.95 683.32,-103.09 685.42,-114.97 686.17,-126\"/>\n",
       "<polygon fill=\"black\" stroke=\"black\" points=\"682.68,-126.37 686.51,-136.24 689.68,-126.13 682.68,-126.37\"/>\n",
       "<text text-anchor=\"middle\" x=\"719.07\" y=\"-96.75\" font-family=\"Times,serif\" font-size=\"14.00\">hiponimia</text>\n",
       "</g>\n",
       "</g>\n",
       "</svg>\n"
      ],
      "text/plain": [
       "<graphviz.dot.Digraph at 0x7f6aeeec8ad0>"
      ]
     },
     "execution_count": 24,
     "metadata": {},
     "output_type": "execute_result"
    }
   ],
   "source": [
    "synsets, synsets_relations = get_synsets_relations_given_lexemes(Lexemes)\n",
    "synset_nodes, synset_nodes_relations = get_synsets_graph(synsets, synsets_relations)\n",
    "generate_graph(synset_nodes, synset_nodes_relations)"
   ]
  },
  {
   "cell_type": "markdown",
   "metadata": {},
   "source": [
    "# Zadanie 8\n",
    "\n",
    "Znajdywanie wartości miary podobieństwa semantycznego Leacock-Chodorow'a dla par leksemów"
   ]
  },
  {
   "cell_type": "code",
   "execution_count": 25,
   "metadata": {},
   "outputs": [],
   "source": [
    "def calculate_lc_similarity(word_1, number_1, word_2, number_2):\n",
    "    s1 = wordnet.synsets(word_1)[number_1 - 1]\n",
    "    s2 = wordnet.synsets(word_2)[number_2 - 1]\n",
    "    return wordnet.lch_similarity(s1, s2)"
   ]
  },
  {
   "cell_type": "markdown",
   "metadata": {},
   "source": [
    "szkoda 2 i wypadek 1"
   ]
  },
  {
   "cell_type": "code",
   "execution_count": 26,
   "metadata": {},
   "outputs": [
    {
     "data": {
      "text/plain": [
       "2.740840023925201"
      ]
     },
     "execution_count": 26,
     "metadata": {},
     "output_type": "execute_result"
    }
   ],
   "source": [
    "calculate_lc_similarity('szkoda', 2, 'wypadek', 1)"
   ]
  },
  {
   "cell_type": "markdown",
   "metadata": {},
   "source": [
    "kolizja 2 i szkoda majątkowa 1 (nie ma synsetów dla szkody majątkowej)"
   ]
  },
  {
   "cell_type": "code",
   "execution_count": 27,
   "metadata": {},
   "outputs": [],
   "source": [
    "# calculate_lc_similarity('kolizja', 2, 'szkoda_majątkowa', 1)"
   ]
  },
  {
   "cell_type": "markdown",
   "metadata": {},
   "source": [
    "nieszczęście 2 i katastrofa_budowlana 1 (synsety do których należą nie są powiązane, dla nieszczęście 1 są)"
   ]
  },
  {
   "cell_type": "code",
   "execution_count": 28,
   "metadata": {},
   "outputs": [],
   "source": [
    "calculate_lc_similarity('nieszczęście', 2, 'katastrofa_budowlana', 1)"
   ]
  },
  {
   "cell_type": "markdown",
   "metadata": {},
   "source": [
    "nieszczęście 1 i katastrofa_budowlana 1"
   ]
  },
  {
   "cell_type": "code",
   "execution_count": 29,
   "metadata": {},
   "outputs": [
    {
     "data": {
      "text/plain": [
       "2.740840023925201"
      ]
     },
     "execution_count": 29,
     "metadata": {},
     "output_type": "execute_result"
    }
   ],
   "source": [
    "calculate_lc_similarity('nieszczęście', 1, 'katastrofa_budowlana', 1)"
   ]
  },
  {
   "cell_type": "markdown",
   "metadata": {},
   "source": [
    "# Zadanie 9\n",
    "\n",
    "1. What is the necessary step to use the knowlege from dictionaries such as WordNet?\n",
    "\n",
    "Nauka API i nazewnictwa użytego w api, nauka znaczenia relacji semantycznych, przygotowanie funkcji pomocniczych, opracowanie czytelnych wyników na podstawie mocno zapchanych json'ów.\n",
    "\n",
    "2. Assess the value of WordNet as a resource for representing the sense of sentences (not words in isolation).\n",
    "\n",
    "WordNet nie jest przystosowany do pracy na całych zdaniach, czy korpusach. Może się okazać bardzo użytecznym narzędziem do pracy z takimi zbiorami danych, tylko w przypadku korzystania z innego narzędzia, którego zadaniem będzie wykrycie znaczeń poszczególnych słów z kontekstu. Sam wordnet nie pomoże raczej w reprezentacji znaczenia zdań.\n",
    "\n",
    "3. Discuss the problmes comming from using structured knowledge resources such as WordNet.\n",
    "\n",
    "Korzystanie z zasobów takich jak WordNet wiąże się z koniecznością nauczenia się i dopasowania się do używanych tam schematów. Mimo, że w zasadzie wszytkie zadania w powyższym notebooku wymagały poznawania id synsetu, a nie id sensów, konieczne było ręczne przejście przez cały ciąg requestów, żeby znaleźć pożądane informacje. Dodatkowo ze względu na rozbudowanie podobnych zasobów często trudno jest przegrzebać się przez ich dokumentacje / API w celu znalezienia interesujących nas funkcji, nawet jeśli są one bardzo podstawowe.\n"
   ]
  }
 ],
 "metadata": {
  "kernelspec": {
   "display_name": "Python 3",
   "language": "python",
   "name": "python3"
  },
  "language_info": {
   "codemirror_mode": {
    "name": "ipython",
    "version": 3
   },
   "file_extension": ".py",
   "mimetype": "text/x-python",
   "name": "python",
   "nbconvert_exporter": "python",
   "pygments_lexer": "ipython3",
   "version": "3.7.9"
  }
 },
 "nbformat": 4,
 "nbformat_minor": 4
}
