{
 "cells": [
  {
   "cell_type": "code",
   "execution_count": 1,
   "metadata": {},
   "outputs": [],
   "source": [
    "import glob\n",
    "import regex\n",
    "import numpy as np\n",
    "import matplotlib.pyplot as plt"
   ]
  },
  {
   "cell_type": "code",
   "execution_count": 2,
   "metadata": {},
   "outputs": [
    {
     "data": {
      "text/plain": [
       "['./ustawy/1993_599.txt',\n",
       " './ustawy/1993_602.txt',\n",
       " './ustawy/1993_645.txt',\n",
       " './ustawy/1993_646.txt',\n",
       " './ustawy/1994_150.txt']"
      ]
     },
     "execution_count": 2,
     "metadata": {},
     "output_type": "execute_result"
    }
   ],
   "source": [
    "PATH = './ustawy/'\n",
    "file_names = sorted(glob.glob(PATH + \"*\"))\n",
    "file_names[:5]"
   ]
  },
  {
   "cell_type": "code",
   "execution_count": 3,
   "metadata": {},
   "outputs": [],
   "source": [
    "class LawAct:\n",
    "    def __init__(self, file_name, content):\n",
    "        self.file_name = file_name\n",
    "        self.year = file_name.split('/')[-1].split('_')[0]\n",
    "        self.content = content\n",
    "        self.additions = 0\n",
    "        self.removals = 0\n",
    "        self.changes = 0\n",
    "        \n",
    "law_acts =[]\n",
    "for file_name in file_names:\n",
    "    with open(file_name, \"r\") as f:\n",
    "        law_acts.append(LawAct(file_name, f.read()))"
   ]
  },
  {
   "cell_type": "markdown",
   "metadata": {},
   "source": [
    "# Zadanie 1 i 2"
   ]
  },
  {
   "cell_type": "markdown",
   "metadata": {},
   "source": [
    "## Dodania jednostek"
   ]
  },
  {
   "cell_type": "markdown",
   "metadata": {},
   "source": [
    "Na początek wyznaczę liczbę dodanych jednostek dla każdej ustawy. Żeby przygotować odpowiedni regex najpierw wyświetlam przykładowe wystąpienia krótkiej frazy 'dodaje się' i jej otoczenia."
   ]
  },
  {
   "cell_type": "code",
   "execution_count": 4,
   "metadata": {},
   "outputs": [],
   "source": [
    "number_of_examples = 5\n",
    "context_length_left = 5\n",
    "context_length_right = 10"
   ]
  },
  {
   "cell_type": "code",
   "execution_count": 45,
   "metadata": {
    "scrolled": true
   },
   "outputs": [
    {
     "name": "stdout",
     "output_type": "stream",
     "text": [
      "ły wybudowane\" dodaje się wyrazy \"lub na\n",
      "--------------------------\n",
      "zenie\n",
      "ust. 1 i dodaje się ust. 2-4 w brz\n",
      "--------------------------\n",
      " 446) w art. 6 dodaje się ust. 3 \n",
      "w brzm\n",
      "--------------------------\n",
      "\n",
      "3) po art. 2a dodaje się art. 2b w brzm\n",
      "--------------------------\n",
      ". 4-6.\",\n",
      "   b) dodaje się ust. 4-7 w brz\n",
      "--------------------------\n",
      "  b) po ust. 3 dodaje się ust. 3a-3d w b\n",
      "--------------------------\n",
      "12) po art. 38 dodaje się art. 38a i 38b\n",
      "--------------------------\n",
      "68) po art. 14 dodaje się art. 14a i art\n",
      "--------------------------\n",
      "769) po\n",
      "art. 8 dodaje się art. 8a i art.\n",
      "--------------------------\n",
      "1) po art. 35a dodaje się art. 35b i art\n",
      "--------------------------\n",
      " przecinkiem i dodaje się\n",
      "  wyrazy \"z za\n",
      "--------------------------\n",
      "\n",
      "2)  po ust. 2 dodaje się ust. 2a w brzm\n",
      "--------------------------\n"
     ]
    }
   ],
   "source": [
    "reg = regex.compile(r\"dodaje się\", regex.IGNORECASE)\n",
    "law_acts_sample = np.array(law_acts)[np.random.choice(len(law_acts), number_of_examples, replace=False)]\n",
    "\n",
    "for law_act in law_acts_sample:\n",
    "    matches_iterator = reg.finditer(law_act.content)\n",
    "    for match in matches_iterator:\n",
    "        start, end = match.span()\n",
    "        print(law_act.content[start - context_length_left: end + context_length_right])\n",
    "        print('--------------------------')"
   ]
  },
  {
   "cell_type": "markdown",
   "metadata": {},
   "source": [
    "Otrzymane wyniki pozwalają zbudować intuicję odnośnie tego czego szukamy - szukamy wystąpień frazy oznaczającej dodawanie jednostki, po których nastepuje odpowiednie słowo/skrót oznaczające jednostkę (unit z treści zadania)\n",
    "\n",
    "Ponadto po dokładniejszym zbadaniu zbioru dokumentów zauważyłem, że czasem frazą oznaczającą dodanie jednostki jest samo 'dodaje' np. 'dotychczasową treść oznacza się jako § 1 i dodaje § 2 w brzmieniu\", a czasem niepoprawne 'dodaje sie'\n",
    "\n",
    "Wypiszę więc wszystkie unikatowe słowa występujące po 'dodaje się' i analogicznych frazach"
   ]
  },
  {
   "cell_type": "code",
   "execution_count": 6,
   "metadata": {},
   "outputs": [
    {
     "name": "stdout",
     "output_type": "stream",
     "text": [
      "2\n",
      "2a\n",
      "3\n",
      "38a\n",
      "4\n",
      "5a\n",
      "art\n",
      "cyfrę\n",
      "drugie\n",
      "dwukropek\n",
      "dwukrotnie\n",
      "dział\n",
      "informację\n",
      "każdorazowo\n",
      "kropkę\n",
      "kwotę\n",
      "lit\n",
      "litery\n",
      "lp\n",
      "masę\n",
      "na\n",
      "nowe\n",
      "nowy\n",
      "oddział\n",
      "odnośnik\n",
      "określenie\n",
      "ozna\n",
      "oznaczenie\n",
      "pkt\n",
      "po\n",
      "poz\n",
      "pozycję\n",
      "przecinek\n",
      "punkt\n",
      "rozdział\n",
      "rozdziały\n",
      "się\n",
      "tiret\n",
      "trzecie\n",
      "trzykrotnie\n",
      "tytuł\n",
      "ust\n",
      "usta\n",
      "użyte\n",
      "użyty\n",
      "w\n",
      "wraz\n",
      "wyraz\n",
      "wyrazy\n",
      "zadanie\n",
      "załącznik\n",
      "zdania\n",
      "zdanie\n",
      "§\n",
      "§1a\n",
      "§2\n",
      "§3\n",
      "średnik\n"
     ]
    }
   ],
   "source": [
    "reg = regex.compile(r\"dodaje\\s+(si[ęe]\\s+)?[\\w§]+\", regex.IGNORECASE)\n",
    "phrases = []\n",
    "\n",
    "for law_act in law_acts:\n",
    "    matches_iterator = reg.finditer(law_act.content)\n",
    "    for match in matches_iterator:\n",
    "        start, end = match.span()\n",
    "        phrases.append(law_act.content[start: end].split()[-1].lower())\n",
    "\n",
    "for phrase in np.unique(phrases):\n",
    "    print(phrase)"
   ]
  },
  {
   "cell_type": "markdown",
   "metadata": {},
   "source": [
    "Następnie ręcznie sprawdzam kontekst dopasowań fraz zakończonych bardziej \"podejrzanymi\" słowami, żeby sprawdzić czy na pewno powinny pojawić się w docelowym regexie i nie wymagają dodatkowych warunków"
   ]
  },
  {
   "cell_type": "code",
   "execution_count": 7,
   "metadata": {},
   "outputs": [
    {
     "name": "stdout",
     "output_type": "stream",
     "text": [
      "  d) dodaje się  4 w brzmieniu:\n",
      "      \n",
      " 239 dodaje się  4 w brzmieniu:\n",
      "      \n",
      "  b) dodaje się  3 w brzmieniu:\n",
      "      \n",
      "  b) dodaje się  2 w brzmieniu:\n",
      "      \n",
      "  b) dodaje się  2 i 3 w brzmieniu:\n",
      "  \n",
      ". 46 dodaje się  3 w brzmieniu:\n",
      "     \"\n",
      " 445 dodaje się  4 w brzmieniu:\n",
      "      \n",
      " 824 dodaje się   3 w brzmieniu:\n",
      "    \"3\n",
      " 233 dodaje się  3 w brzmieniu:\n",
      "     \"\n",
      ". 38 dodaje się 38a-38c w brzmieniu:\n",
      " \n",
      "  b) dodaje się 2a w brzmieniu:\n",
      "     \n",
      "o  5 dodaje się  5a i  5b w brzmieniu:\n",
      " 1 i dodaje  2 w brzmieniu:\n",
      "     \"\n"
     ]
    }
   ],
   "source": [
    "reg = regex.compile(r\"dodaje\\s+(si[eę]\\s+)?\\d+\", regex.IGNORECASE)\n",
    "\n",
    "for law_act in law_acts:\n",
    "    matches_iterator = reg.finditer(law_act.content)\n",
    "    for match in matches_iterator:\n",
    "        start, end = match.span()\n",
    "        print(law_act.content[start-5: end + 20])"
   ]
  },
  {
   "cell_type": "markdown",
   "metadata": {},
   "source": [
    "Analizując powyższe wyniki, po sprawdzeniu dopasowań z kontekstem, jako \"addition of a unit\" traktował będę frazy zawierające po 'dodaje się' (lub frazach analogicznych):\n",
    "- [numer]\n",
    "- art\n",
    "- dział\n",
    "- litery\n",
    "- lit\n",
    "- oddział\n",
    "- pkt\n",
    "- poz\n",
    "- pozycję\n",
    "- punkt\n",
    "- rozdziały\n",
    "- rozdział\n",
    "- tiret\n",
    "- usta\n",
    "- ust\n",
    "- załącznik\n",
    "- §\n",
    "- czasami pomiędzy 'dodaje się' a końcówką może wystąpić również słowo 'nowy' albo 'nowe'\n",
    "\n",
    "Dodatkowo ulepszony regex powinien być odporny na niestandardowe/niepoprawne znaki białe"
   ]
  },
  {
   "cell_type": "code",
   "execution_count": 8,
   "metadata": {},
   "outputs": [
    {
     "name": "stdout",
     "output_type": "stream",
     "text": [
      "Finalna wersja użytego wyrażenia regularnego:\n",
      " (dodaje\\s+(si[eę]\\s+)?(nowy\\s+|nowe\\s+)?(\\d+|art|dział|litery|lit|oddział|pkt|poz|pozycję|punkt|rozdziały|rodział|tiret|usta|ust|załącznik|§))\n"
     ]
    }
   ],
   "source": [
    "phrase_ending = r'(\\d+|art|dział|litery|lit|oddział|pkt|poz|pozycję|punkt|rozdziały|rodział|tiret|usta|ust|załącznik|§)'\n",
    "full_addition_regexp = r\"(dodaje\\s+(si[eę]\\s+)?(nowy\\s+|nowe\\s+)?ENDING)\".replace('ENDING', phrase_ending)\n",
    "\n",
    "reg = regex.compile(full_addition_regexp, regex.IGNORECASE)\n",
    "\n",
    "for law_act in law_acts:\n",
    "    matches_iterator = reg.finditer(law_act.content)\n",
    "    for match in matches_iterator:\n",
    "        law_act.additions = law_act.additions + 1\n",
    "        \n",
    "print(\"Finalna wersja użytego wyrażenia regularnego:\\n\", full_addition_regexp)"
   ]
  },
  {
   "cell_type": "code",
   "execution_count": 9,
   "metadata": {},
   "outputs": [
    {
     "data": {
      "text/plain": [
       "[10, 1, 0, 23, 0, 2, 1, 0, 1, 0]"
      ]
     },
     "execution_count": 9,
     "metadata": {},
     "output_type": "execute_result"
    }
   ],
   "source": [
    "[law_act.additions for law_act in law_acts][:10]"
   ]
  },
  {
   "cell_type": "markdown",
   "metadata": {},
   "source": [
    "## Usunięcia jednostek"
   ]
  },
  {
   "cell_type": "markdown",
   "metadata": {},
   "source": [
    "W analogiczny sposób wyznaczę liczbę usunięć jednostek. Żeby przygotować odpowiedni regex najpierw wyświetlam przykładowe wystąpienia krótkiej frazy 'skreśla się' i jej otoczenia."
   ]
  },
  {
   "cell_type": "code",
   "execution_count": 10,
   "metadata": {},
   "outputs": [],
   "source": [
    "number_of_examples = 5\n",
    "context_length_left = 15\n",
    "context_length_right = 15"
   ]
  },
  {
   "cell_type": "code",
   "execution_count": 50,
   "metadata": {
    "scrolled": true
   },
   "outputs": [
    {
     "name": "stdout",
     "output_type": "stream",
     "text": [
      "t. 4:\n",
      "       - skreśla się wyrazy \"przez \n",
      "--------------------------\n",
      "\n",
      "11) w art. 17 skreśla się ust. 3;\n",
      "12) w \n",
      "--------------------------\n",
      "   a) w ust. 1 skreśla się wyrazy \"(wykup\n",
      "--------------------------\n",
      "ostek.\",\n",
      "   c) skreśla się ust. 3 i 4;\n",
      "3)\n",
      "--------------------------\n",
      "     - w pkt 4 skreśla się wyrazy \"oraz s\n",
      "--------------------------\n",
      "ania,\",\n",
      "     - skreśla się pkt 8,\n",
      "     - \n",
      "--------------------------\n",
      "    - w pkt 10 skreśla się wyrazy \"oraz d\n",
      "--------------------------\n",
      "igacji\",\n",
      "   b) skreśla się ust. 2 i 3;\n",
      "4)\n",
      "--------------------------\n",
      "\n",
      "   b) w pkt 3 skreśla się wyraz \"serie,\"\n",
      "--------------------------\n",
      " wypłat.\";\n",
      "12) skreśla się art. 17;\n",
      "13) a\n",
      "--------------------------\n",
      "owego.\",\n",
      "   e) skreśla się ust. 8;\n",
      "15) ar\n",
      "--------------------------\n",
      "ligacji.\";\n",
      "20) skreśla się art. 27;\n",
      "21) a\n",
      "--------------------------\n",
      "łącznie.\";\n",
      "29) skreśla się art. 42;\n",
      "30) p\n",
      "--------------------------\n",
      "t. 99 w ust. 2 skreśla się wyrazy \"towarz\n",
      "--------------------------\n",
      " dźwięku.”;\n",
      "4) uchyla się art.\n",
      "159;\n",
      "5) w\n",
      "--------------------------\n"
     ]
    }
   ],
   "source": [
    "reg = regex.compile(r\"(skreśla się|uchyla się)\", regex.IGNORECASE)\n",
    "law_acts_sample = np.array(law_acts)[np.random.choice(len(law_acts), number_of_examples, replace=False)]\n",
    "\n",
    "for law_act in law_acts_sample:\n",
    "    matches_iterator = reg.finditer(law_act.content)\n",
    "    for match in matches_iterator:\n",
    "        start, end = match.span()\n",
    "        print(law_act.content[start - context_length_left: end + context_length_right])\n",
    "        print('--------------------------')"
   ]
  },
  {
   "cell_type": "markdown",
   "metadata": {},
   "source": [
    "Szukamy więc takich wystąpień fraz oznaczających usuwanie jednostek, po których wystąpią skróty/słowa oznaczające jednostki (unit z treści zadania)\n",
    "\n",
    "Ponadto po zbadaniu zbioru dokumentów wykryłem, że oprócz wyrażenia 'skreśla się' używane jest w niektórych przypadkach wyrażenie 'uchyla się'. Tym razem nigdzie nie występują błędnie napisane frazy z e zamiast ę na końcu. Zdarza się jednak, że podobnie jak w przypadku dodawania po frazie 'skreśla' nie występuje się.\n",
    "\n",
    "Teraz wypiszę wszystkie słowa występujące po 'skreśla się' i analogicznych frazach"
   ]
  },
  {
   "cell_type": "code",
   "execution_count": 12,
   "metadata": {
    "scrolled": false
   },
   "outputs": [
    {
     "name": "stdout",
     "output_type": "stream",
     "text": [
      "1\n",
      "11\n",
      "aplikanta\n",
      "art\n",
      "biegłego\n",
      "decyzje\n",
      "decyzję\n",
      "diagnostę\n",
      "drugie\n",
      "dział\n",
      "go\n",
      "i\n",
      "je\n",
      "jeden\n",
      "jego\n",
      "ją\n",
      "karę\n",
      "kropkę\n",
      "lekarza\n",
      "lit\n",
      "lub\n",
      "na\n",
      "nakaz\n",
      "niezwłocznie\n",
      "od\n",
      "oddział\n",
      "odnośnik\n",
      "odpowiednio\n",
      "odpowiedzialności\n",
      "oraz\n",
      "orzeczenie\n",
      "ostatnie\n",
      "oznaczenie\n",
      "pilota\n",
      "pkt\n",
      "poprzednią\n",
      "postanowienia\n",
      "postanowienie\n",
      "powołanie\n",
      "poz\n",
      "pozostałe\n",
      "pozostałą\n",
      "prawomocnego\n",
      "preambułę\n",
      "przecinek\n",
      "przepisy\n",
      "przyimek\n",
      "psychologa\n",
      "pytania\n",
      "rozdział\n",
      "rozdziały\n",
      "rozporządzenie\n",
      "rzeczoznawcę\n",
      "się\n",
      "skutków\n",
      "sprzeczną\n",
      "ten\n",
      "tiret\n",
      "to\n",
      "tytuł\n",
      "uchwały\n",
      "uchwałę\n",
      "ust\n",
      "ustawę\n",
      "użyte\n",
      "użyty\n",
      "w\n",
      "ważność\n",
      "wszystkie\n",
      "wydane\n",
      "wyraz\n",
      "wyrazy\n",
      "wyrok\n",
      "z\n",
      "zabezpieczenie\n",
      "zajęcie\n",
      "zakaz\n",
      "zakład\n",
      "zarządzenie\n",
      "zaskarżone\n",
      "zaskarżony\n",
      "zaskarżoną\n",
      "zastrzeżenie\n",
      "załącznik\n",
      "zdania\n",
      "zdanie\n",
      "zezwolenie\n",
      "§\n"
     ]
    }
   ],
   "source": [
    "reg = regex.compile(r\"(skreśla|uchyla)(\\s+się)?\\s+[\\w§]+\", regex.IGNORECASE)\n",
    "phrases = []\n",
    "\n",
    "for law_act in law_acts:\n",
    "    matches_iterator = reg.finditer(law_act.content)\n",
    "    for match in matches_iterator:\n",
    "        start, end = match.span()\n",
    "        phrases.append(law_act.content[start: end].split()[-1].lower())\n",
    "\n",
    "for phrase in np.unique(phrases):\n",
    "    print(phrase)"
   ]
  },
  {
   "cell_type": "markdown",
   "metadata": {},
   "source": [
    "Ręcznie sprawdzam kontekst dopasowań fraz zakończonych bardziej \"podejrzanymi\" słowami, żeby sprawdzić czy na pewno powinny pojawić się w docelowym regexie i nie wymagają dodatkowych warunków"
   ]
  },
  {
   "cell_type": "code",
   "execution_count": 13,
   "metadata": {},
   "outputs": [
    {
     "name": "stdout",
     "output_type": "stream",
     "text": [
      "skreśla się w ust. 1 pkt 5,\n",
      "       b) skreśla się ust. 3;\n",
      "    2) w art. 57 w ust. 1 pkt 14 otr\n",
      "uchyla się w okresie próby od wykonania obowiązku\n",
      "            zapłacenia uszczuplonej należno\n",
      "skreśla się w dziale pierwszym{ }rozdział III;\n",
      "22) w art. 22:\n",
      "       a) § 1 otrzymuje brzmieni\n",
      "skreśla się w powołaniu wyrazy \"i 477{3}-477{5}\";\n",
      "63) art. 477{8} otrzymuje brzmienie:\n",
      "       \n",
      "skreśla się w pkt 13 lit. b w pkt 1.\n",
      "                                Art. 4.\n",
      "Ustawa wchodzi w \n",
      "uchyla w całości lub w części. \n",
      " § 2. Uchylając zaskarżone orzeczenie Sąd Najwyższy przek\n",
      "Uchyla się w szczególności ustawę z dnia 19 kwietnia 1969 r. - Kodeks \n",
      "     postępowania karn\n",
      "uchyla w całości lub w części i w tym\n",
      "                    zakresie wniosek oddala bądź od\n",
      "uchyla w całości lub w części decyzję dotychczasową, gdy stwierdzi istnienie\n",
      "     przesła\n"
     ]
    }
   ],
   "source": [
    "reg = regex.compile(r\"(skreśla|uchyla)(\\s+się)?\\s+w \", regex.IGNORECASE)\n",
    "\n",
    "for law_act in law_acts:\n",
    "    matches_iterator = reg.finditer(law_act.content)\n",
    "    for match in matches_iterator:\n",
    "        start, end = match.span()\n",
    "        print(law_act.content[start: end+80])"
   ]
  },
  {
   "cell_type": "markdown",
   "metadata": {},
   "source": [
    "Analizując powyższe wyniki jako \"removal of a unit\" traktował będę frazy zawierające po 'skreśla się' (lub frazie analogicznej):\n",
    "- [numer]\n",
    "- art\n",
    "- dział\n",
    "- lit\n",
    "- oddział\n",
    "- pkt\n",
    "- poz (ale nie pozostałą - wystarczy zmatchować poz\\.)\n",
    "- preambułę\n",
    "- rozdziały\n",
    "- rozdział\n",
    "- ust\n",
    "- 'w ust', 'w dziale', 'w pkt'\n",
    "- załącznik\n",
    "- §\n",
    "\n",
    "Dodatkowo ulepszony regex powinien być odporny na niestandardowe/niepoprawne znaki białe"
   ]
  },
  {
   "cell_type": "code",
   "execution_count": 14,
   "metadata": {},
   "outputs": [
    {
     "name": "stdout",
     "output_type": "stream",
     "text": [
      "Finalna wersja użytego wyrażenia regularnego:\n",
      " ((skreśla|uchyla)(\\s+się)?\\s+(\\d+|art|dział|lit|oddział|pkt|poz\\.|preambułę|rodziały|rozdział|ust|w ust|w dziale|w pkt|załącznik|§))\n"
     ]
    }
   ],
   "source": [
    "phrase_ending = r'(\\d+|art|dział|lit|oddział|pkt|poz\\.|preambułę|rodziały|rozdział|ust|w ust|w dziale|w pkt|załącznik|§)'\n",
    "full_removal_regexp = r\"((skreśla|uchyla)(\\s+się)?\\s+ENDING)\".replace('ENDING', phrase_ending)\n",
    "\n",
    "reg = regex.compile(full_removal_regexp, regex.IGNORECASE)\n",
    "\n",
    "for law_act in law_acts:\n",
    "    matches_iterator = reg.finditer(law_act.content)\n",
    "    for match in matches_iterator:\n",
    "        law_act.removals = law_act.removals + 1\n",
    "print(\"Finalna wersja użytego wyrażenia regularnego:\\n\", full_removal_regexp)"
   ]
  },
  {
   "cell_type": "code",
   "execution_count": 15,
   "metadata": {
    "scrolled": true
   },
   "outputs": [
    {
     "data": {
      "text/plain": [
       "[1, 0, 0, 4, 1, 1, 0, 0, 0, 0]"
      ]
     },
     "execution_count": 15,
     "metadata": {},
     "output_type": "execute_result"
    }
   ],
   "source": [
    "[law_act.removals for law_act in law_acts][:10]"
   ]
  },
  {
   "cell_type": "markdown",
   "metadata": {},
   "source": [
    "## Zmiany jednostek"
   ]
  },
  {
   "cell_type": "markdown",
   "metadata": {},
   "source": [
    "W analogiczny sposób wyznaczę liczbę zmian jednostek. Żeby przygotować odpowiedni regex najpierw wyświetlam przykładowe wystąpienia krótkiej frazy 'otrzymuje brzmienie' i jej otoczenia."
   ]
  },
  {
   "cell_type": "code",
   "execution_count": 16,
   "metadata": {},
   "outputs": [],
   "source": [
    "number_of_examples = 5\n",
    "context_length_left = 15\n",
    "context_length_right = 15"
   ]
  },
  {
   "cell_type": "code",
   "execution_count": 52,
   "metadata": {
    "scrolled": true
   },
   "outputs": [
    {
     "name": "stdout",
     "output_type": "stream",
     "text": [
      ") tytuł ustawy otrzymuje brzmienie:\n",
      "    \"o utworz\n",
      "--------------------------\n",
      ":\n",
      "   a) ust. 1 otrzymuje brzmienie:\n",
      "     \"1. Twor\n",
      "--------------------------\n",
      ",\n",
      "   c) ust. 4 otrzymuje brzmienie:\n",
      "     \"4. Prez\n",
      "--------------------------\n",
      "u.\";\n",
      "3) art. 2 otrzymuje brzmienie:\n",
      "     \"Art. 2.\n",
      "--------------------------\n",
      "tu\";\n",
      "5) art. 4 otrzymuje brzmienie:\n",
      "     \"Art. 4.\n",
      "--------------------------\n",
      "w.\";\n",
      "6) art. 6 otrzymuje brzmienie:\n",
      "       \"Art. \n",
      "--------------------------\n",
      ".\";\n",
      "2) art. 25 otrzymuje brzmienie:\n",
      "      \"Art. 2\n",
      "--------------------------\n",
      "\";\n",
      "3) art. 26b otrzymuje brzmienie:\n",
      "     \"Art. 26\n",
      "--------------------------\n",
      "ny:\n",
      " 1) art. 7 otrzymuje brzmienie:\n",
      "    \"Art. 7. \n",
      "--------------------------\n",
      "\";\n",
      " 2) art. 60 otrzymuje brzmienie:\n",
      "   \"Art. 60. \n",
      "--------------------------\n"
     ]
    }
   ],
   "source": [
    "reg = regex.compile(r\"otrzymuje brzmienie\", regex.IGNORECASE)\n",
    "law_acts_sample = np.array(law_acts)[np.random.choice(len(law_acts), number_of_examples, replace=False)]\n",
    "\n",
    "for law_act in law_acts_sample:\n",
    "    matches_iterator = reg.finditer(law_act.content)\n",
    "    for match in matches_iterator:\n",
    "        start, end = match.span()\n",
    "        print(law_act.content[start - context_length_left: end + context_length_right])\n",
    "        print('--------------------------')"
   ]
  },
  {
   "cell_type": "markdown",
   "metadata": {},
   "source": [
    "Szukamy więc takich wystąpień frazy 'otrzymuje brzmienie', które poprzedzone są słowami zawierającymi oznaczenie jednostki (unit z treści zadania) która jest zmieniana. Oznaczenie to występuje w jednym z 2 słów poprzedzających wystąpienie frazy.\n",
    "\n",
    "Ponadto inne znalezione frazy oznaczające zmiany jednostek to 'nadać brzmienie' oraz 'otrzymują brzmienie'.\n",
    "\n",
    "Wyszukajmy więc unikatowe dwójki słów występujących przed 'otrzymuje brzmienie' i frazami analogicznymi"
   ]
  },
  {
   "cell_type": "code",
   "execution_count": 56,
   "metadata": {
    "scrolled": true
   },
   "outputs": [
    {
     "name": "stdout",
     "output_type": "stream",
     "text": [
      "12 załącznika\n",
      "120 §6\n",
      "123 2\n",
      "14 ust.2\n",
      "2 ust.1\n",
      "22 tiret\n",
      "22 ust.3\n",
      "24 ust.5\n",
      "26 2\n",
      "30 c\n"
     ]
    }
   ],
   "source": [
    "reg = regex.compile(r\"[\\w§1-9\\.]+\\s+[\\w§1-9\\.]+\\s+(otrzymuj[eą]|nadać)\\s+brzmienie\", regex.IGNORECASE)\n",
    "phrases = []\n",
    "\n",
    "for law_act in law_acts:\n",
    "    matches_iterator = reg.finditer(law_act.content)\n",
    "    for match in matches_iterator:\n",
    "        start, end = match.span()\n",
    "        phrases.append(\" \".join(law_act.content[start: end].split()[:2]).lower())\n",
    "\n",
    "for phrase in np.unique(phrases)[:10]:\n",
    "    print(phrase)\n",
    "# w sprawozdaniu nie wrzycam wszstkich wyników tej komórki, tylko pierwsze 10"
   ]
  },
  {
   "cell_type": "markdown",
   "metadata": {},
   "source": [
    "Ręcznie sprawdzam kontekst dopasowań fraz poprzedzonych bardziej \"podejrzanymi\" słowami, żeby sprawdzić czy na pewno powinny pojawić się w docelowym regexie i nie wymagają dodatkowych warunków. Tym razem dodatkowo sprawdzam słowa występujące bezpośrednio przed frazą kluczową i drugie słowa przed frazą kluczową."
   ]
  },
  {
   "cell_type": "code",
   "execution_count": 53,
   "metadata": {},
   "outputs": [
    {
     "name": "stdout",
     "output_type": "stream",
     "text": [
      " 11) w art. 18 ust 1 otrzymuje brzmienie\n",
      "art. 28:\n",
      "   a) ust 3 otrzymuje brzmienie\n",
      "art. 19:\n",
      "   a) ust 1 otrzymuje brzmienie\n",
      " 136) w art. 3 ust 1a otrzymuje brzmienie\n",
      ";\n",
      "2) w art. 45 ust 3 otrzymuje brzmienie\n",
      "art. 12:\n",
      "   a) ust 2 otrzymuje brzmienie\n",
      "\n",
      "19) w art. 49 ust 1 otrzymuje brzmienie\n",
      ";\n",
      "14) art. 39. ust 3 otrzymuje brzmienie\n",
      "art. 37:\n",
      "   a) ust 3 otrzymuje brzmienie\n"
     ]
    }
   ],
   "source": [
    "# reg = regex.compile(r\"\\btiret\\s+(otrzymuj[eą]|nadać)\\s+brzmienie\", regex.IGNORECASE)\n",
    "reg = regex.compile(r\"\\bust\\s+[\\w§1-9\\.]+\\s+(otrzymuj[eą]|nadać)\\s+brzmienie\", regex.IGNORECASE)\n",
    "phrases = []\n",
    "\n",
    "for law_act in law_acts:\n",
    "    matches_iterator = reg.finditer(law_act.content)\n",
    "    for match in matches_iterator:\n",
    "        start, end = match.span()\n",
    "        print(law_act.content[start-15: end])"
   ]
  },
  {
   "cell_type": "markdown",
   "metadata": {},
   "source": [
    "Analizując powyższe wyniki jako \"change of a unit\" traktował będę:\n",
    "- frazy zawierające jako 1. \"słowo\" przed frazą \"otrzymuje brzmienie\" (lub analogiczną) jedno z poniższych:\n",
    "    - tiret\n",
    "    - ust.[numer]\n",
    "    - §[numer]\n",
    "\n",
    "- frazy zawierające jako 2. \"słowo\" przed frazą \"otrzymuje brzmienie\" (lub analogiczną) jedno z poniższych:\n",
    "    - art \n",
    "    - art. \n",
    "    - art.[numer]\n",
    "    - dział\n",
    "    - i\n",
    "    - lit.\n",
    "    - oddział\n",
    "    - pkt\n",
    "    - poz.\n",
    "    - rozdział\n",
    "    - tiret\n",
    "    - ust\n",
    "    - ust.\n",
    "    - §\n",
    "\n",
    "Dodatkowo ulepszony regex powinien być odporny na niestandardowe/niepoprawne znaki białe"
   ]
  },
  {
   "cell_type": "code",
   "execution_count": 20,
   "metadata": {},
   "outputs": [
    {
     "name": "stdout",
     "output_type": "stream",
     "text": [
      "Finalna wersja użytego wyrażenia regularnego:\n",
      " \\s+((tiret|ust\\.\\d+|§\\d+)|(art|art\\.|art\\.\\d+|dział|i|lit\\.|oddział|pkt|poz\\.|rozdział|tiret|ust|ust\\.|§)\\s+[\\w§1-9\\.]+)\\s+(otrzymuj[eą]|nadać)\\s+brzmienie\n"
     ]
    }
   ],
   "source": [
    "previous_word = r\"(tiret|ust\\.\\d+|§\\d+)\"\n",
    "second_previous_word = r\"(art|art\\.|art\\.\\d+|dział|i|lit\\.|oddział|pkt|poz\\.|rozdział|tiret|ust|ust\\.|§)\\s+[\\w§1-9\\.]+\"\n",
    "final_change_regex = r\"\\s+(PREV|SECOND)\\s+(otrzymuj[eą]|nadać)\\s+brzmienie\".replace('PREV', previous_word).replace('SECOND', second_previous_word)\n",
    "\n",
    "reg = regex.compile(final_change_regex, regex.IGNORECASE)\n",
    "\n",
    "for law_act in law_acts:\n",
    "    matches_iterator = reg.finditer(law_act.content)\n",
    "    for match in matches_iterator:\n",
    "        law_act.changes = law_act.changes + 1\n",
    "print(\"Finalna wersja użytego wyrażenia regularnego:\\n\", final_change_regex)"
   ]
  },
  {
   "cell_type": "code",
   "execution_count": 21,
   "metadata": {
    "scrolled": true
   },
   "outputs": [
    {
     "data": {
      "text/plain": [
       "[19, 9, 0, 35, 1, 1, 0, 0, 2, 0]"
      ]
     },
     "execution_count": 21,
     "metadata": {},
     "output_type": "execute_result"
    }
   ],
   "source": [
    "[law_act.changes for law_act in law_acts][:10]"
   ]
  },
  {
   "cell_type": "markdown",
   "metadata": {},
   "source": [
    "# Zadanie 3"
   ]
  },
  {
   "cell_type": "code",
   "execution_count": 22,
   "metadata": {},
   "outputs": [
    {
     "data": {
      "text/plain": [
       "array([100., 100., 100., 100., 100., 100., 100., 100., 100., 100., 100.,\n",
       "       100.])"
      ]
     },
     "execution_count": 22,
     "metadata": {},
     "output_type": "execute_result"
    }
   ],
   "source": [
    "years = np.unique([law_act.year for law_act in law_acts])\n",
    "additions = {year: 0 for year in years}\n",
    "removals = {year: 0 for year in years}\n",
    "changes = {year: 0 for year in years}\n",
    "combined_amendments = {year: 0 for year in years}\n",
    "\n",
    "for law_act in law_acts:\n",
    "    additions[law_act.year] += law_act.additions\n",
    "    removals[law_act.year] += law_act.removals\n",
    "    changes[law_act.year] += law_act.changes\n",
    "    combined_amendments[law_act.year] += law_act.additions + law_act.removals + law_act.changes\n",
    "    \n",
    "additions_percentage = 100 * np.array(list(additions.values())) / np.array(list(combined_amendments.values()))\n",
    "removals_percentage = 100 * np.array(list(removals.values())) / np.array(list(combined_amendments.values()))\n",
    "changes_percentage = 100 * np.array(list(changes.values())) / np.array(list(combined_amendments.values()))\n",
    "additions_percentage + removals_percentage + changes_percentage"
   ]
  },
  {
   "cell_type": "code",
   "execution_count": 23,
   "metadata": {},
   "outputs": [
    {
     "data": {
      "image/png": "[encoded data removed]",
      "text/plain": [
       "<Figure size 576x360 with 1 Axes>"
      ]
     },
     "metadata": {
      "needs_background": "light"
     },
     "output_type": "display_data"
    }
   ],
   "source": [
    "plt.figure(figsize=(8, 5))\n",
    "plt.bar(years, additions_percentage, label='additions')\n",
    "plt.bar(years, removals_percentage, bottom=additions_percentage, label='removals')\n",
    "plt.bar(years, changes_percentage, bottom=additions_percentage + removals_percentage, label='changes')\n",
    "plt.legend()\n",
    "plt.title('Percentage of amendments of each type in consecutive years')\n",
    "plt.xlabel('year')\n",
    "plt.ylabel('percentage [%]')\n",
    "plt.show()"
   ]
  },
  {
   "cell_type": "markdown",
   "metadata": {},
   "source": [
    "# Zadanie 4"
   ]
  },
  {
   "cell_type": "code",
   "execution_count": 24,
   "metadata": {},
   "outputs": [],
   "source": [
    "declination = r\"\\bustaw(ami|ach|om|y|o|ą|ę|ie|a)?\\b\""
   ]
  },
  {
   "cell_type": "code",
   "execution_count": 25,
   "metadata": {},
   "outputs": [
    {
     "name": "stdout",
     "output_type": "stream",
     "text": [
      "['USTAWA' 'USTAWY' 'USTAWa' 'Ustaw' 'Ustawa' 'Ustawie' 'Ustawy' 'Ustawę'\n",
      " 'ustaw' 'ustawA' 'ustawa' 'ustawach' 'ustawami' 'ustawie' 'ustawom'\n",
      " 'ustawy' 'ustawą' 'ustawę']\n",
      "Number of occurences of the word 'ustawa' in any form 25092\n"
     ]
    }
   ],
   "source": [
    "reg = regex.compile(declination, regex.IGNORECASE)\n",
    "\n",
    "occurences = 0\n",
    "matches = []\n",
    "for law_act in law_acts:\n",
    "    matches_iterator = reg.finditer(law_act.content)\n",
    "    for match in matches_iterator:\n",
    "        occurences += 1\n",
    "        start, end = match.span()\n",
    "        matches.append(law_act.content[start: end])\n",
    "        \n",
    "print(np.unique(matches))\n",
    "print('Number of occurences of the word \\'ustawa\\' in any form', occurences)"
   ]
  },
  {
   "cell_type": "markdown",
   "metadata": {},
   "source": [
    "# Zadanie 5"
   ]
  },
  {
   "cell_type": "markdown",
   "metadata": {},
   "source": [
    "W poniższych regexach używam positive/negative lookahead"
   ]
  },
  {
   "cell_type": "code",
   "execution_count": 26,
   "metadata": {},
   "outputs": [
    {
     "name": "stdout",
     "output_type": "stream",
     "text": [
      "['USTAWA' 'USTAWa' 'Ustawa' 'Ustawy' 'ustawA' 'ustawa' 'ustawach'\n",
      " 'ustawie' 'ustawy' 'ustawą' 'ustawę']\n",
      "Number of occurences of the word 'ustawa' in any form followed by 'z dnia' expression 8638\n"
     ]
    }
   ],
   "source": [
    "reg = regex.compile(r\"DEC(?=\\s+z\\s+dnia\\b)\".replace('DEC', declination), regex.IGNORECASE)\n",
    "\n",
    "followed_occurences = 0\n",
    "followed_matches = []\n",
    "for law_act in law_acts:\n",
    "    matches_iterator = reg.finditer(law_act.content)\n",
    "    for match in matches_iterator:\n",
    "        followed_occurences += 1\n",
    "        start, end = match.span()\n",
    "        followed_matches.append(law_act.content[start: end])\n",
    "        \n",
    "print(np.unique(followed_matches))\n",
    "print('Number of occurences of the word \\'ustawa\\' in any form followed by \\'z dnia\\' expression', followed_occurences)"
   ]
  },
  {
   "cell_type": "markdown",
   "metadata": {},
   "source": [
    "# Zadanie 6"
   ]
  },
  {
   "cell_type": "code",
   "execution_count": 27,
   "metadata": {},
   "outputs": [
    {
     "name": "stdout",
     "output_type": "stream",
     "text": [
      "['USTAWA' 'USTAWY' 'Ustaw' 'Ustawa' 'Ustawie' 'Ustawy' 'Ustawę' 'ustaw'\n",
      " 'ustawa' 'ustawach' 'ustawami' 'ustawie' 'ustawom' 'ustawy' 'ustawą'\n",
      " 'ustawę']\n",
      "Number of occurences of the word 'ustawa' in any form NOT followed by 'z dnia' expression 16454\n"
     ]
    }
   ],
   "source": [
    "reg = regex.compile(r\"DEC(?!\\s+z\\s+dnia\\b)\".replace('DEC', declination), regex.IGNORECASE)\n",
    "\n",
    "not_followed_occurences = 0\n",
    "not_followed_matches = []\n",
    "for law_act in law_acts:\n",
    "    matches_iterator = reg.finditer(law_act.content)\n",
    "    for match in matches_iterator:\n",
    "        not_followed_occurences += 1\n",
    "        start, end = match.span()\n",
    "        not_followed_matches.append(\" \".join(law_act.content[start: end].split()))\n",
    "        \n",
    "print(np.unique(not_followed_matches))\n",
    "print('Number of occurences of the word \\'ustawa\\' in any form NOT followed by \\'z dnia\\' expression', not_followed_occurences)"
   ]
  },
  {
   "cell_type": "markdown",
   "metadata": {},
   "source": [
    "Sprawdźmy, czy liczba matchów się zgadza, czyli:\n",
    "\n",
    "(wynik zadania 5) + (wynik zadania 6) = (wynik zadania 4)"
   ]
  },
  {
   "cell_type": "code",
   "execution_count": 28,
   "metadata": {},
   "outputs": [
    {
     "data": {
      "text/plain": [
       "25092"
      ]
     },
     "execution_count": 28,
     "metadata": {},
     "output_type": "execute_result"
    }
   ],
   "source": [
    "occurences"
   ]
  },
  {
   "cell_type": "code",
   "execution_count": 29,
   "metadata": {},
   "outputs": [
    {
     "data": {
      "text/plain": [
       "25092"
      ]
     },
     "execution_count": 29,
     "metadata": {},
     "output_type": "execute_result"
    }
   ],
   "source": [
    "followed_occurences + not_followed_occurences"
   ]
  },
  {
   "cell_type": "code",
   "execution_count": 30,
   "metadata": {},
   "outputs": [
    {
     "data": {
      "text/plain": [
       "True"
      ]
     },
     "execution_count": 30,
     "metadata": {},
     "output_type": "execute_result"
    }
   ],
   "source": [
    "followed_occurences + not_followed_occurences == occurences"
   ]
  },
  {
   "cell_type": "markdown",
   "metadata": {},
   "source": [
    "# Zadanie 7"
   ]
  },
  {
   "cell_type": "markdown",
   "metadata": {},
   "source": [
    "W poniższych regexach używam positive/negative lookbehind"
   ]
  },
  {
   "cell_type": "code",
   "execution_count": 31,
   "metadata": {},
   "outputs": [
    {
     "name": "stdout",
     "output_type": "stream",
     "text": [
      "['USTAWA' 'USTAWY' 'USTAWa' 'Ustaw' 'Ustawa' 'Ustawie' 'Ustawy' 'Ustawę'\n",
      " 'ustaw' 'ustawA' 'ustawa' 'ustawach' 'ustawami' 'ustawie' 'ustawom'\n",
      " 'ustawy' 'ustawą' 'ustawę']\n",
      "Number of occurences of the word 'ustawa' in any form NOT preceded by 'o zmianie' expression 24226\n"
     ]
    }
   ],
   "source": [
    "reg = regex.compile(r\"(?<!\\bo\\s+zmianie\\s+)DEC\".replace('DEC', declination), regex.IGNORECASE)\n",
    "\n",
    "not_preceded_occurences = 0\n",
    "not_preceded__matches = []\n",
    "for law_act in law_acts:\n",
    "    matches_iterator = reg.finditer(law_act.content)\n",
    "    for match in matches_iterator:\n",
    "        not_preceded_occurences += 1\n",
    "        start, end = match.span()\n",
    "        not_preceded__matches.append(\" \".join(law_act.content[start: end].split()))\n",
    "        \n",
    "print(np.unique(not_preceded__matches))\n",
    "print('Number of occurences of the word \\'ustawa\\' in any form NOT preceded by \\'o zmianie\\' expression', not_preceded_occurences)"
   ]
  },
  {
   "cell_type": "code",
   "execution_count": 32,
   "metadata": {},
   "outputs": [
    {
     "name": "stdout",
     "output_type": "stream",
     "text": [
      "['Ustawy' 'ustaw' 'ustawy']\n",
      "Number of occurences of the word 'ustawa' in any form preceded by 'o zmianie' expression 866\n"
     ]
    }
   ],
   "source": [
    "reg = regex.compile(r\"(?<=\\bo\\s+zmianie\\s+)DEC\".replace('DEC', declination), regex.IGNORECASE)\n",
    "\n",
    "preceded_occurences = 0\n",
    "preceded__matches = []\n",
    "for law_act in law_acts:\n",
    "    matches_iterator = reg.finditer(law_act.content)\n",
    "    for match in matches_iterator:\n",
    "        preceded_occurences += 1\n",
    "        start, end = match.span()\n",
    "        preceded__matches.append(\" \".join(law_act.content[start: end].split()))\n",
    "        \n",
    "print(np.unique(preceded__matches))\n",
    "print('Number of occurences of the word \\'ustawa\\' in any form preceded by \\'o zmianie\\' expression', preceded_occurences)"
   ]
  },
  {
   "cell_type": "markdown",
   "metadata": {},
   "source": [
    "Sprawdźmy, czy liczba matchów się zgadza, czyli liczba wystąpień nie poprzedzonych wyrażeniem o zmianie zsumowana z liczbą wystąpień poprzedzonych tym wyrażeniem daje nam sumaryczną liczbę wystąpień słowa ustawa w dodowlnej formie"
   ]
  },
  {
   "cell_type": "code",
   "execution_count": 33,
   "metadata": {},
   "outputs": [
    {
     "data": {
      "text/plain": [
       "25092"
      ]
     },
     "execution_count": 33,
     "metadata": {},
     "output_type": "execute_result"
    }
   ],
   "source": [
    "occurences"
   ]
  },
  {
   "cell_type": "code",
   "execution_count": 34,
   "metadata": {},
   "outputs": [
    {
     "data": {
      "text/plain": [
       "25092"
      ]
     },
     "execution_count": 34,
     "metadata": {},
     "output_type": "execute_result"
    }
   ],
   "source": [
    "preceded_occurences + not_preceded_occurences"
   ]
  },
  {
   "cell_type": "code",
   "execution_count": 35,
   "metadata": {},
   "outputs": [
    {
     "data": {
      "text/plain": [
       "True"
      ]
     },
     "execution_count": 35,
     "metadata": {},
     "output_type": "execute_result"
    }
   ],
   "source": [
    "preceded_occurences + not_preceded_occurences == occurences"
   ]
  },
  {
   "cell_type": "markdown",
   "metadata": {},
   "source": [
    "# Zadanie 8"
   ]
  },
  {
   "cell_type": "code",
   "execution_count": 36,
   "metadata": {},
   "outputs": [
    {
     "data": {
      "image/png": "[encoded data removed]",
      "text/plain": [
       "<Figure size 720x576 with 1 Axes>"
      ]
     },
     "metadata": {
      "needs_background": "light"
     },
     "output_type": "display_data"
    }
   ],
   "source": [
    "plt.figure(figsize=(10, 8))\n",
    "plt.bar(\"any occurences\", occurences, label=\"occurences of the word 'ustawa' in any form\")\n",
    "\n",
    "plt.bar(\"z dnia\", followed_occurences, label=\"occurences followed by 'z dnia' expression\")\n",
    "plt.bar(\"z dnia\", not_followed_occurences, bottom=followed_occurences, label=\"occurences not followed by 'z dnia' expression\")\n",
    "\n",
    "plt.bar(\"o zmianie\", preceded_occurences, label=\"occurences preceded by 'o zmianie' expression\")\n",
    "plt.bar(\"o zmianie\", not_preceded_occurences, bottom=preceded_occurences, label=\"occurences not preceded by 'o zmianie' expression\")\n",
    "\n",
    "plt.legend(loc=3)\n",
    "plt.title(\"Occurences of the word 'ustawa' in any inflectional form\")\n",
    "plt.xlabel('Category')\n",
    "plt.ylabel('Number of occurences')\n",
    "plt.show()"
   ]
  },
  {
   "cell_type": "code",
   "execution_count": null,
   "metadata": {},
   "outputs": [],
   "source": []
  }
 ],
 "metadata": {
  "kernelspec": {
   "display_name": "Python 3",
   "language": "python",
   "name": "python3"
  },
  "language_info": {
   "codemirror_mode": {
    "name": "ipython",
    "version": 3
   },
   "file_extension": ".py",
   "mimetype": "text/x-python",
   "name": "python",
   "nbconvert_exporter": "python",
   "pygments_lexer": "ipython3",
   "version": "3.7.9"
  }
 },
 "nbformat": 4,
 "nbformat_minor": 4
}
