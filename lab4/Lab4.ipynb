{
 "cells": [
  {
   "cell_type": "code",
   "execution_count": 49,
   "metadata": {},
   "outputs": [],
   "source": [
    "import glob\n",
    "import numpy as np\n",
    "import pandas as pd\n",
    "from spacy.tokenizer import Tokenizer\n",
    "from spacy.lang.pl import Polish\n",
    "from collections import Counter"
   ]
  },
  {
   "cell_type": "code",
   "execution_count": 2,
   "metadata": {},
   "outputs": [
    {
     "data": {
      "text/plain": [
       "['../lab1/ustawy/1993_599.txt',\n",
       " '../lab1/ustawy/1993_602.txt',\n",
       " '../lab1/ustawy/1993_645.txt',\n",
       " '../lab1/ustawy/1993_646.txt',\n",
       " '../lab1/ustawy/1994_150.txt']"
      ]
     },
     "execution_count": 2,
     "metadata": {},
     "output_type": "execute_result"
    }
   ],
   "source": [
    "PATH = '../lab1/ustawy/'\n",
    "file_names = sorted(glob.glob(PATH + \"*\"))\n",
    "file_names[:5]"
   ]
  },
  {
   "cell_type": "code",
   "execution_count": 3,
   "metadata": {},
   "outputs": [],
   "source": [
    "law_acts =[]\n",
    "for file_name in file_names:\n",
    "    with open(file_name, \"r\", encoding=\"utf-8\") as f:\n",
    "        law_acts.append(f.read().lower())"
   ]
  },
  {
   "cell_type": "markdown",
   "metadata": {},
   "source": [
    "# Zadanie 1\n",
    "\n",
    "Tokenizacja każdego projektu ustawy przy użyciu tokenizera spacy"
   ]
  },
  {
   "cell_type": "code",
   "execution_count": 4,
   "metadata": {},
   "outputs": [],
   "source": [
    "lang = Polish()\n",
    "tokenizer = Tokenizer(lang.vocab)"
   ]
  },
  {
   "cell_type": "code",
   "execution_count": 5,
   "metadata": {},
   "outputs": [
    {
     "name": "stdout",
     "output_type": "stream",
     "text": [
      "CPU times: user 37.1 s, sys: 560 ms, total: 37.6 s\n",
      "Wall time: 38 s\n"
     ]
    }
   ],
   "source": [
    "%%time\n",
    "tokens_per_act = []\n",
    "\n",
    "for law_act in law_acts:\n",
    "    tokens_per_act.append(tokenizer(law_act))"
   ]
  },
  {
   "cell_type": "markdown",
   "metadata": {},
   "source": [
    "# Zadanie 2\n",
    "\n",
    "Obliczenie liczby wystąpień bigramów"
   ]
  },
  {
   "cell_type": "code",
   "execution_count": 7,
   "metadata": {},
   "outputs": [
    {
     "name": "stdout",
     "output_type": "stream",
     "text": [
      "CPU times: user 12.8 s, sys: 200 ms, total: 13 s\n",
      "Wall time: 13.1 s\n"
     ]
    }
   ],
   "source": [
    "%%time\n",
    "bigrams_counter = {}\n",
    "for tokens in tokens_per_act:\n",
    "    token_strings = [token.string.strip().lower() for token in tokens]\n",
    "    bigrams = zip(token_strings[:-1], token_strings[1:])\n",
    "    for bigram in bigrams:\n",
    "        bigrams_counter[bigram] = bigrams_counter.get(bigram, 0) + 1"
   ]
  },
  {
   "cell_type": "code",
   "execution_count": 14,
   "metadata": {},
   "outputs": [
    {
     "data": {
      "text/plain": [
       "[(('', 'dz.u.'), 950),\n",
       " (('dz.u.', 'z'), 1212),\n",
       " (('z', '1993'), 512),\n",
       " (('1993', 'r.'), 763),\n",
       " (('r.', 'nr'), 17006),\n",
       " (('nr', '129,'), 121),\n",
       " (('129,', 'poz.'), 114),\n",
       " (('poz.', '599'), 1),\n",
       " (('599', ''), 1),\n",
       " (('', 'ustawa'), 2383)]"
      ]
     },
     "execution_count": 14,
     "metadata": {},
     "output_type": "execute_result"
    }
   ],
   "source": [
    "list(bigrams_counter.items())[:10]"
   ]
  },
  {
   "cell_type": "markdown",
   "metadata": {},
   "source": [
    "# Zadanie 3\n",
    "\n",
    "Odfiltrowanie bigramów zawierających nie litery"
   ]
  },
  {
   "cell_type": "code",
   "execution_count": 18,
   "metadata": {},
   "outputs": [
    {
     "name": "stdout",
     "output_type": "stream",
     "text": [
      "CPU times: user 484 ms, sys: 15.9 ms, total: 500 ms\n",
      "Wall time: 500 ms\n"
     ]
    }
   ],
   "source": [
    "%%time\n",
    "new_bigrams_counter = {}\n",
    "for bigram, count in bigrams_counter.items():\n",
    "    if bigram[0].isalpha() and bigram[1].isalpha():\n",
    "        new_bigrams_counter[bigram] = count\n",
    "bigrams_counter = new_bigrams_counter"
   ]
  },
  {
   "cell_type": "code",
   "execution_count": 152,
   "metadata": {},
   "outputs": [
    {
     "data": {
      "text/plain": [
       "[(('z', 'dnia'), 9023),\n",
       " (('o', 'zmianie'), 1175),\n",
       " (('zmianie', 'ustawy'), 829),\n",
       " (('ustawy', 'o'), 1412),\n",
       " (('o', 'podatku'), 496),\n",
       " (('podatku', 'od'), 362),\n",
       " (('od', 'towarów'), 248),\n",
       " (('towarów', 'i'), 505),\n",
       " (('i', 'usług'), 359),\n",
       " (('oraz', 'o'), 897)]"
      ]
     },
     "execution_count": 152,
     "metadata": {},
     "output_type": "execute_result"
    }
   ],
   "source": [
    "list(bigrams_counter.items())[:10]"
   ]
  },
  {
   "cell_type": "markdown",
   "metadata": {},
   "source": [
    "# Zadanie 4\n",
    "\n",
    "Obliczenie PMI dla każdego bigramu. W tym celu potrzebuje obliczyć prawdopodobieństwa związane z pojedynczymi słowami i bigramami, stąd wyliczanie licznika tokenów i całkowitych liczb tokenów i bigramów"
   ]
  },
  {
   "cell_type": "code",
   "execution_count": 26,
   "metadata": {},
   "outputs": [
    {
     "name": "stdout",
     "output_type": "stream",
     "text": [
      "CPU times: user 11.7 s, sys: 11.5 ms, total: 11.7 s\n",
      "Wall time: 11.8 s\n"
     ]
    }
   ],
   "source": [
    "%%time\n",
    "# obliczenie słownika częstotliwości występowania tokenów\n",
    "tokens_counter = {}\n",
    "for tokens in tokens_per_act:\n",
    "    for token in tokens:\n",
    "        token_string = token.string.strip().lower()\n",
    "        tokens_counter[token_string] = tokens_counter.get(token_string, 0) + 1\n",
    "# usuniecie tokenow zawierajacych nie litery\n",
    "new_tokens_counter = {}\n",
    "for token, count in tokens_counter.items():\n",
    "    if token.isalpha():\n",
    "        new_tokens_counter[token] = count\n",
    "tokens_counter = new_tokens_counter\n",
    "# obliczenie całkowitej liczby tokenow\n",
    "total_number_of_tokens = sum(list(tokens_counter.values()))"
   ]
  },
  {
   "cell_type": "code",
   "execution_count": 27,
   "metadata": {},
   "outputs": [
    {
     "name": "stdout",
     "output_type": "stream",
     "text": [
      "[('z', 82177), ('nr', 45125), ('ustawa', 3185), ('dnia', 17711), ('grudnia', 2107), ('o', 64702), ('zmianie', 1471), ('ustawy', 9677), ('podatku', 1813), ('od', 16690)]\n"
     ]
    },
    {
     "data": {
      "text/plain": [
       "2950389"
      ]
     },
     "execution_count": 27,
     "metadata": {},
     "output_type": "execute_result"
    }
   ],
   "source": [
    "print(list(tokens_frequency_list.items())[:10])\n",
    "total_number_of_tokens"
   ]
  },
  {
   "cell_type": "code",
   "execution_count": 29,
   "metadata": {},
   "outputs": [
    {
     "data": {
      "text/plain": [
       "2110524"
      ]
     },
     "execution_count": 29,
     "metadata": {},
     "output_type": "execute_result"
    }
   ],
   "source": [
    "# obliczenie całkowitej liczby bigramow\n",
    "total_number_of_bigrams = sum(list(bigrams_counter.values()))\n",
    "total_number_of_bigrams"
   ]
  },
  {
   "cell_type": "code",
   "execution_count": 34,
   "metadata": {},
   "outputs": [
    {
     "name": "stdout",
     "output_type": "stream",
     "text": [
      "CPU times: user 1.57 s, sys: 24.1 ms, total: 1.59 s\n",
      "Wall time: 1.6 s\n"
     ]
    }
   ],
   "source": [
    "%%time\n",
    "# obliczenie PMI\n",
    "bigrams_pmi = {}\n",
    "for bigram, count in bigrams_counter.items():\n",
    "    p_bigram = count / total_number_of_bigrams\n",
    "    p_x = tokens_counter[bigram[0]] / total_number_of_tokens\n",
    "    p_y = tokens_counter[bigram[1]] / total_number_of_tokens\n",
    "    pmi = np.log(p_bigram / (p_x * p_y))\n",
    "    bigrams_pmi[bigram] = pmi"
   ]
  },
  {
   "cell_type": "code",
   "execution_count": 36,
   "metadata": {},
   "outputs": [
    {
     "data": {
      "text/plain": [
       "[(('z', 'dnia'), 3.2414085732051903),\n",
       " (('o', 'zmianie'), 3.930226666270485),\n",
       " (('zmianie', 'ustawy'), 5.481463571858889),\n",
       " (('ustawy', 'o'), 2.230156163465908),\n",
       " (('o', 'podatku'), 2.8587386762637395),\n",
       " (('podatku', 'od'), 3.898789336621013),\n",
       " (('od', 'towarów'), 3.6876780997878735),\n",
       " (('towarów', 'i'), 2.7211122402413706),\n",
       " (('i', 'usług'), 2.6121881188553786),\n",
       " (('oraz', 'o'), 0.5441337113232051)]"
      ]
     },
     "execution_count": 36,
     "metadata": {},
     "output_type": "execute_result"
    }
   ],
   "source": [
    "list(bigrams_pmi.items())[:10]"
   ]
  },
  {
   "cell_type": "markdown",
   "metadata": {},
   "source": [
    "# Zadanie 5\n",
    "\n",
    "Wyświetlenie 10 bigramów z największym PMI"
   ]
  },
  {
   "cell_type": "code",
   "execution_count": 39,
   "metadata": {},
   "outputs": [
    {
     "data": {
      "text/plain": [
       "[(('administracjami', 'drogowymi'), 15.232448352205974),\n",
       " (('aegroti', 'suprema'), 15.232448352205974),\n",
       " (('aerodynamicznej', 'szorstkości'), 15.232448352205974),\n",
       " (('agregatach', 'pralniczych'), 15.232448352205974),\n",
       " (('agricoltura', 'biologica'), 15.232448352205974),\n",
       " (('agriculture', 'biologique'), 15.232448352205974),\n",
       " (('agrotechniki', 'nienaruszającej'), 15.232448352205974),\n",
       " (('aktowi', 'normatywnemu'), 15.232448352205974),\n",
       " (('aleksander', 'małachowski'), 15.232448352205974),\n",
       " (('aleksandrów', 'kujawski'), 15.232448352205974)]"
      ]
     },
     "execution_count": 39,
     "metadata": {},
     "output_type": "execute_result"
    }
   ],
   "source": [
    "top_pmi_bigrams = sorted(list(bigrams_pmi.items()), key=(lambda x: (-x[1], x[0])))[:10]\n",
    "top_pmi_bigrams"
   ]
  },
  {
   "cell_type": "markdown",
   "metadata": {},
   "source": [
    "# Zadanie 6\n",
    "\n",
    "Wyświetlenie 10 bigramów z największym PMI, które występują przynajmniej 5 razy"
   ]
  },
  {
   "cell_type": "code",
   "execution_count": 44,
   "metadata": {},
   "outputs": [
    {
     "name": "stdout",
     "output_type": "stream",
     "text": [
      "CPU times: user 316 ms, sys: 0 ns, total: 316 ms\n",
      "Wall time: 319 ms\n"
     ]
    }
   ],
   "source": [
    "%%time\n",
    "# obliczenie PMI dla bigramów występujących przynajmniej 5 razy\n",
    "common_bigrams_pmi = {}\n",
    "for bigram, count in bigrams_counter.items():\n",
    "    if count < 5:\n",
    "        continue\n",
    "    p_bigram = count / total_number_of_bigrams\n",
    "    p_x = tokens_counter[bigram[0]] / total_number_of_tokens\n",
    "    p_y = tokens_counter[bigram[1]] / total_number_of_tokens\n",
    "    pmi = np.log(p_bigram / (p_x * p_y))\n",
    "    common_bigrams_pmi[bigram] = pmi"
   ]
  },
  {
   "cell_type": "code",
   "execution_count": 45,
   "metadata": {},
   "outputs": [
    {
     "data": {
      "text/plain": [
       "[(('grzegorz', 'schetyna'), 13.623010439771873),\n",
       " (('młyny', 'kulowe'), 13.623010439771873),\n",
       " (('ręcznego', 'miotacza'), 13.623010439771873),\n",
       " (('zaszkodzić', 'wynikom'), 13.623010439771873),\n",
       " (('świeckie', 'przygotowujące'), 13.623010439771873),\n",
       " (('adama', 'mickiewicza'), 13.440688882977918),\n",
       " (('mleczka', 'makowego'), 13.440688882977918),\n",
       " (('przeponowe', 'rurowe'), 13.440688882977918),\n",
       " (('chwytów', 'obezwładniających'), 13.286538203150661),\n",
       " (('lambrekiny', 'okienne'), 13.286538203150661)]"
      ]
     },
     "execution_count": 45,
     "metadata": {},
     "output_type": "execute_result"
    }
   ],
   "source": [
    "top_common_pmi_bigrams = sorted(list(common_bigrams_pmi.items()), key=(lambda x: (-x[1], x[0])))[:10]\n",
    "top_common_pmi_bigrams"
   ]
  },
  {
   "cell_type": "markdown",
   "metadata": {},
   "source": [
    "# Zadanie 7\n",
    "\n",
    "Obliczenie LLR dla bigramów. W tym celu będę potrzebował obliczyć liczby bigramów zaczynających się na a i nie kończących na b i kończących się na b i nie zaczynających na a, stąd obliczenia liczb bigramów zaczynających się na a i bigramów kończących się na b"
   ]
  },
  {
   "cell_type": "code",
   "execution_count": 68,
   "metadata": {},
   "outputs": [],
   "source": [
    "# compute counter of bigrams starting with a\n",
    "bigrams_starting_with_a_counter = {}\n",
    "for bigram, count in bigrams_counter.items():\n",
    "    a = bigram[0]\n",
    "    bigrams_starting_with_a_counter[a] = bigrams_starting_with_a_counter.get(a, 0) + count\n",
    "    \n",
    "# compute counter of bigrams ending with b\n",
    "bigrams_ending_with_b_counter = {}\n",
    "for bigram, count in bigrams_counter.items():\n",
    "    b = bigram[1]\n",
    "    bigrams_ending_with_b_counter[b] = bigrams_ending_with_b_counter.get(b, 0) + count"
   ]
  },
  {
   "cell_type": "code",
   "execution_count": 79,
   "metadata": {},
   "outputs": [],
   "source": [
    "def H(k):\n",
    "    N = np.sum(k)\n",
    "    return np.sum(k/N * np.log(k/N + (k==0)))"
   ]
  },
  {
   "cell_type": "markdown",
   "metadata": {},
   "source": [
    "przy obliczeniu neither_a_nor_b poniżej, dodaje a_and_b, bo odjąłem je dwukrotnie odejmując bigramy zaczynające się na a i bigramy kończące się na b"
   ]
  },
  {
   "cell_type": "code",
   "execution_count": 87,
   "metadata": {},
   "outputs": [
    {
     "name": "stdout",
     "output_type": "stream",
     "text": [
      "CPU times: user 1min 2s, sys: 111 ms, total: 1min 3s\n",
      "Wall time: 1min 3s\n"
     ]
    }
   ],
   "source": [
    "%%time\n",
    "bigrams_llr = {}\n",
    "for bigram, count in bigrams_counter.items():\n",
    "    a, b = bigram\n",
    "    a_and_b = count\n",
    "    a_without_b = bigrams_starting_with_a_counter[a] - a_and_b\n",
    "    b_but_not_a = bigrams_ending_with_b_counter[b] - a_and_b\n",
    "    neither_a_nor_b = total_number_of_bigrams - bigrams_starting_with_a_counter[a] \\\n",
    "        - bigrams_ending_with_b_counter[b] + a_and_b\n",
    "    \n",
    "    k = np.array([[a_and_b, b_but_not_a], [a_without_b, neither_a_nor_b]])\n",
    "    row_sums = np.array([a_and_b + b_but_not_a, a_without_b + neither_a_nor_b])\n",
    "    col_sums = np.array([a_and_b + a_without_b, b_but_not_a + neither_a_nor_b])\n",
    "    llr = 2 * np.sum(k) * (H(k) - H(row_sums) - H(col_sums))\n",
    "    bigrams_llr[bigram] = llr"
   ]
  },
  {
   "cell_type": "code",
   "execution_count": 88,
   "metadata": {},
   "outputs": [
    {
     "data": {
      "text/plain": [
       "[(('z', 'dnia'), 47165.490621818884),\n",
       " (('o', 'zmianie'), 7695.115800574815),\n",
       " (('zmianie', 'ustawy'), 8025.075607216169),\n",
       " (('ustawy', 'o'), 5188.066217788072),\n",
       " (('o', 'podatku'), 1676.5302203803762),\n",
       " (('podatku', 'od'), 2048.566391893052),\n",
       " (('od', 'towarów'), 1243.962431029594),\n",
       " (('towarów', 'i'), 1897.375241420914),\n",
       " (('i', 'usług'), 1248.9969723116897),\n",
       " (('oraz', 'o'), 716.9105188653832)]"
      ]
     },
     "execution_count": 88,
     "metadata": {},
     "output_type": "execute_result"
    }
   ],
   "source": [
    "list(bigrams_llr.items())[:10]"
   ]
  },
  {
   "cell_type": "markdown",
   "metadata": {},
   "source": [
    "# Zadanie 8\n",
    "\n",
    "Wyświetlenie 10 bigramów z największym llr"
   ]
  },
  {
   "cell_type": "code",
   "execution_count": 89,
   "metadata": {},
   "outputs": [
    {
     "data": {
      "text/plain": [
       "[(('mowa', 'w'), 162056.18578064922),\n",
       " (('których', 'mowa'), 103860.96812895118),\n",
       " (('o', 'których'), 81588.75159791514),\n",
       " (('którym', 'mowa'), 67847.08382895816),\n",
       " (('dodaje', 'się'), 62515.89447212826),\n",
       " (('do', 'spraw'), 57437.50713390384),\n",
       " (('o', 'którym'), 53202.37664633561),\n",
       " (('i', 'nr'), 51618.5219313482),\n",
       " (('z', 'dnia'), 47165.490621818884),\n",
       " (('na', 'podstawie'), 45750.29767443445)]"
      ]
     },
     "execution_count": 89,
     "metadata": {},
     "output_type": "execute_result"
    }
   ],
   "source": [
    "top_llr_bigrams = sorted(list(bigrams_llr.items()), key=(lambda x: (-x[1], x[0])))[:10]\n",
    "top_llr_bigrams"
   ]
  },
  {
   "cell_type": "markdown",
   "metadata": {},
   "source": [
    "# Zadanie 9\n",
    "\n",
    "Obliczenie liczb wystąpień trigramów i odfiltrowanie tych, które zawierają nie litery"
   ]
  },
  {
   "cell_type": "code",
   "execution_count": 92,
   "metadata": {},
   "outputs": [
    {
     "name": "stdout",
     "output_type": "stream",
     "text": [
      "CPU times: user 13.4 s, sys: 216 ms, total: 13.6 s\n",
      "Wall time: 13.7 s\n"
     ]
    },
    {
     "data": {
      "text/plain": [
       "[(('o', 'zmianie', 'ustawy'), 750),\n",
       " (('zmianie', 'ustawy', 'o'), 614),\n",
       " (('ustawy', 'o', 'podatku'), 123),\n",
       " (('o', 'podatku', 'od'), 106),\n",
       " (('podatku', 'od', 'towarów'), 194),\n",
       " (('od', 'towarów', 'i'), 223),\n",
       " (('towarów', 'i', 'usług'), 277),\n",
       " (('oraz', 'o', 'podatku'), 46),\n",
       " (('o', 'podatku', 'akcyzowym'), 34),\n",
       " (('w', 'ustawie', 'z'), 3359)]"
      ]
     },
     "execution_count": 92,
     "metadata": {},
     "output_type": "execute_result"
    }
   ],
   "source": [
    "%%time\n",
    "trigrams_counter = {}\n",
    "for tokens in tokens_per_act:\n",
    "    token_strings = [token.string.strip().lower() for token in tokens]\n",
    "    trigrams = zip(token_strings[:-2], token_strings[1:-1], token_strings[2:])\n",
    "    for trigram in trigrams:\n",
    "        trigrams_counter[trigram] = trigrams_counter.get(trigram, 0) + 1\n",
    "        \n",
    "new_trigrams_counter = {}\n",
    "for trigram, count in trigrams_counter.items():\n",
    "    if trigram[0].isalpha() and trigram[1].isalpha() and trigram[2].isalpha():\n",
    "        new_trigrams_counter[trigram] = count\n",
    "trigrams_counter = new_trigrams_counter\n",
    "\n",
    "list(trigrams_counter.items())[:10]"
   ]
  },
  {
   "cell_type": "markdown",
   "metadata": {},
   "source": [
    "# Zadanie 10\n",
    "\n",
    "Obliczenie PMI i LLR dra trigramów (a przynajmniej tego co wydaje mi się, że powinno być analogiczną miarą)"
   ]
  },
  {
   "cell_type": "markdown",
   "metadata": {},
   "source": [
    "## PMI\n",
    "\n",
    "Obliczam je analogicznie do PMI dla bigramów, tylko w mianowniku dodaje prawdopodobieństwo wystąpienia trzeciego słowa. Po drodze muszę zliczyć łączną liczbę trigramów, wartości do obliczenia prawdopodobieństw związanych z pojedynczymi słowami już mam policzone wcześniej."
   ]
  },
  {
   "cell_type": "code",
   "execution_count": 94,
   "metadata": {},
   "outputs": [
    {
     "data": {
      "text/plain": [
       "1534380"
      ]
     },
     "execution_count": 94,
     "metadata": {},
     "output_type": "execute_result"
    }
   ],
   "source": [
    "# obliczenie całkowitej liczby trigramów\n",
    "total_number_of_trigrams = sum(list(trigrams_counter.values()))\n",
    "total_number_of_trigrams"
   ]
  },
  {
   "cell_type": "code",
   "execution_count": 95,
   "metadata": {},
   "outputs": [
    {
     "name": "stdout",
     "output_type": "stream",
     "text": [
      "CPU times: user 304 ms, sys: 0 ns, total: 304 ms\n",
      "Wall time: 321 ms\n"
     ]
    }
   ],
   "source": [
    "%%time\n",
    "# obliczenie PMI dla trigramów występujących przynajmniej 5 razy\n",
    "common_trigrams_pmi = {}\n",
    "for trigram, count in trigrams_counter.items():\n",
    "    if count < 5:\n",
    "        continue\n",
    "    p_trigram = count / total_number_of_trigrams\n",
    "    p_x = tokens_counter[trigram[0]] / total_number_of_tokens\n",
    "    p_y = tokens_counter[trigram[1]] / total_number_of_tokens\n",
    "    p_z = tokens_counter[trigram[2]] / total_number_of_tokens\n",
    "    pmi = np.log(p_trigram / (p_x * p_y * p_z))\n",
    "    common_trigrams_pmi[trigram] = pmi"
   ]
  },
  {
   "cell_type": "markdown",
   "metadata": {},
   "source": [
    "### Wyświetlenie 10 trigramów z największym PMI"
   ]
  },
  {
   "cell_type": "code",
   "execution_count": 97,
   "metadata": {},
   "outputs": [
    {
     "data": {
      "text/plain": [
       "[(('piłce', 'nożnej', 'uefa'), 25.219381308411705),\n",
       " (('profilem', 'zaufanym', 'epuap'), 25.20102405289333),\n",
       " (('religijne', 'uroczystości', 'pogrzebowe'), 25.160438772778253),\n",
       " (('finałowego', 'turnieju', 'mistrzostw'), 25.142089634110057),\n",
       " (('potwierdzonym', 'profilem', 'zaufanym'), 24.883489017291872),\n",
       " (('turnieju', 'mistrzostw', 'europy'), 24.879725369642568),\n",
       " (('grożącą', 'jemu', 'samemu'), 24.27742282978897),\n",
       " (('bankowemu', 'funduszowi', 'gwarancyjnemu'), 24.21038117843328),\n",
       " (('komunalne', 'osady', 'ściekowe'), 24.179609519766526),\n",
       " (('konfesyjne', 'nauczanie', 'religii'), 24.157136663914468)]"
      ]
     },
     "execution_count": 97,
     "metadata": {},
     "output_type": "execute_result"
    }
   ],
   "source": [
    "top_common_pmi_trigrams = sorted(list(common_trigrams_pmi.items()), key=(lambda x: (-x[1], x[0])))[:10]\n",
    "top_common_pmi_trigrams"
   ]
  },
  {
   "cell_type": "markdown",
   "metadata": {},
   "source": [
    "## LLR\n",
    "\n",
    "Obliczam je w miarę analogicznie do LLR dla bigramów, tylko aby policzyć macierz k analogiczną do confusion matrix dla bigramów, potrzebuję obliczyć 8 wartości pokrywających wszystkie kombinacje wystąpień i braków wystąpień kolejnych słów w trigramach. Ostatecznie dostanę więc tablicę 2x2x2 i przy obliczaniu uwzględnię sumy tej tablicy w każdej z 3 osi (analogicznie jak wcześniej 2). Żeby to wszystko policzyć muszę przygotować liczby trigramów zawierających konkretne słowo na konretnej pozycji oraz liczby trigramów zawierających konkretne pary słów na konkretnych pozycjach."
   ]
  },
  {
   "cell_type": "code",
   "execution_count": 103,
   "metadata": {},
   "outputs": [],
   "source": [
    "# compute counter of trigrams starting with a\n",
    "trigrams_with_a_counter = {}\n",
    "for trigram, count in trigrams_counter.items():\n",
    "    a = trigram[0]\n",
    "    trigrams_with_a_counter[a] = trigrams_with_a_counter.get(a, 0) + count\n",
    "    \n",
    "# compute counter of trigrams with b on 2nd position\n",
    "trigrams_with_b_counter = {}\n",
    "for trigram, count in trigrams_counter.items():\n",
    "    b = trigram[1]\n",
    "    trigrams_with_b_counter[b] = trigrams_with_b_counter.get(b, 0) + count\n",
    "    \n",
    "# compute counter of trigrams ending with c\n",
    "trigrams_with_c_counter = {}\n",
    "for trigram, count in trigrams_counter.items():\n",
    "    c = trigram[2]\n",
    "    trigrams_with_c_counter[c] = trigrams_with_c_counter.get(c, 0) + count"
   ]
  },
  {
   "cell_type": "code",
   "execution_count": 101,
   "metadata": {},
   "outputs": [],
   "source": [
    "# compute counter of trigrams starting with a and b\n",
    "trigrams_with_a_b_counter = {}\n",
    "for trigram, count in trigrams_counter.items():\n",
    "    ab = (trigram[0], trigram[1])\n",
    "    trigrams_with_a_b_counter[ab] = trigrams_with_a_b_counter.get(ab, 0) + count\n",
    "    \n",
    "# compute counter of trigrams starting with a and ending with c\n",
    "trigrams_with_a_c_counter = {}\n",
    "for trigram, count in trigrams_counter.items():\n",
    "    ac = (trigram[0], trigram[2])\n",
    "    trigrams_with_a_c_counter[ac] = trigrams_with_a_c_counter.get(ac, 0) + count\n",
    "    \n",
    "# compute counter of trigrams with b in the middle and ending with c\n",
    "trigrams_with_b_c_counter = {}\n",
    "for trigram, count in trigrams_counter.items():\n",
    "    bc = (trigram[1], trigram[2])\n",
    "    trigrams_with_b_c_counter[bc] = trigrams_with_b_c_counter.get(bc, 0) + count"
   ]
  },
  {
   "cell_type": "code",
   "execution_count": 102,
   "metadata": {},
   "outputs": [],
   "source": [
    "def H(k):\n",
    "    N = np.sum(k)\n",
    "    return np.sum(k/N * np.log(k/N + (k==0)))"
   ]
  },
  {
   "cell_type": "code",
   "execution_count": 116,
   "metadata": {},
   "outputs": [
    {
     "name": "stdout",
     "output_type": "stream",
     "text": [
      "CPU times: user 2min 50s, sys: 485 ms, total: 2min 51s\n",
      "Wall time: 2min 51s\n"
     ]
    }
   ],
   "source": [
    "%%time\n",
    "trigrams_llr = {}\n",
    "for trigram, count in trigrams_counter.items():\n",
    "    a, b, c = trigram\n",
    "    a1_b1_c1 = count\n",
    "    a1_b1_c0 = trigrams_with_a_b_counter[(a, b)] - a1_b1_c1\n",
    "    a0_b1_c1 = trigrams_with_b_c_counter[(b, c)] - a1_b1_c1\n",
    "    a1_b0_c1 = trigrams_with_a_c_counter[(a, c)] - a1_b1_c1\n",
    "    # poniżej muszę dodać a1_b1_c1 bo odejmuję je dwukrotnie\n",
    "    a1_b0_c0 = trigrams_with_a_counter[a] - trigrams_with_a_b_counter[(a, b)] - trigrams_with_a_c_counter[(a, c)] + a1_b1_c1\n",
    "    a0_b1_c0 = trigrams_with_b_counter[b] - trigrams_with_a_b_counter[(a, b)] - trigrams_with_b_c_counter[(b, c)] + a1_b1_c1\n",
    "    a0_b0_c1 = trigrams_with_c_counter[c] - trigrams_with_a_c_counter[(a, c)] - trigrams_with_b_c_counter[(b, c)] + a1_b1_c1\n",
    "    # poniżej muszę pododawać liczby wystąpień par, bo odejmuję je dwukrotnie i odjąć a1_b1_c1 bo odejmuje je i dodaje tyle samo razy\n",
    "    a0_b0_c0 = total_number_of_trigrams - trigrams_with_a_counter[a] - trigrams_with_b_counter[b] - trigrams_with_c_counter[c] \\\n",
    "        + trigrams_with_a_b_counter[(a, b)] + trigrams_with_b_c_counter[(b, c)] + trigrams_with_a_c_counter[(a, c)] \\\n",
    "        - a1_b1_c1\n",
    "    \n",
    "    k = np.array([[[a1_b1_c1, a1_b1_c0], \n",
    "                   [a1_b0_c1, a1_b0_c0]],\n",
    "                  [[a0_b1_c1, a0_b1_c0],\n",
    "                   [a0_b0_c1, a0_b0_c0]]])\n",
    "    \n",
    "    llr = 2 * np.sum(k) * (H(k) - H(k.sum(axis=0)) - H(k.sum(axis=1)) - H(k.sum(axis=2)))\n",
    "    trigrams_llr[trigram] = llr"
   ]
  },
  {
   "cell_type": "code",
   "execution_count": 119,
   "metadata": {},
   "outputs": [
    {
     "data": {
      "text/plain": [
       "[(('w', 'których', 'w'), 1483096.226500892),\n",
       " (('w', 'którym', 'w'), 1444367.400738985),\n",
       " (('w', 'której', 'w'), 1401846.6412625448),\n",
       " (('w', 'i', 'i'), 1401717.2295618653),\n",
       " (('w', 'ustawie', 'w'), 1383349.626962069),\n",
       " (('w', 'tym', 'w'), 1382262.0407949397),\n",
       " (('w', 'zakresie', 'w'), 1380645.0902347357),\n",
       " (('w', 'pracy', 'w'), 1377009.420790753),\n",
       " (('w', 'określonych', 'w'), 1375598.9852127223),\n",
       " (('w', 'życie', 'w'), 1370346.52857257)]"
      ]
     },
     "execution_count": 119,
     "metadata": {},
     "output_type": "execute_result"
    }
   ],
   "source": [
    "top_llr_trigrams = sorted(list(trigrams_llr.items()), key=(lambda x: (-x[1], x[0])))[:10]\n",
    "top_llr_trigrams"
   ]
  },
  {
   "cell_type": "markdown",
   "metadata": {},
   "source": [
    "# Zadanie 11\n",
    "\n",
    "Utworzenie tabel porównujących otrzymane wyniki. Ze względu na to, że wartości poszczególnych miar mogą w ogóle nie mieć ze sobą nic wspólnego tworzę dataframe'y pokazujące indeks na którym znalazły się konkretne bigramy w listach posortowanych po malejącej wartości danych metryk. Czasami dla wystąpień w liście bigramów posortowanych po PMI, które występują co najmniej 5 razy jest inf, jeśli bigramy nie występują 5 razy. Analogicznie przygotowałem dataframe dla trigramów."
   ]
  },
  {
   "cell_type": "markdown",
   "metadata": {},
   "source": [
    "## Bigrams"
   ]
  },
  {
   "cell_type": "code",
   "execution_count": 131,
   "metadata": {},
   "outputs": [],
   "source": [
    "# będę badał bigramy, które były najwyżej oceniany przez każdą z miar\n",
    "top_bigrams = []\n",
    "for bigram, score in top_llr_bigrams + top_pmi_bigrams + top_common_pmi_bigrams:\n",
    "    top_bigrams.append(bigram)"
   ]
  },
  {
   "cell_type": "code",
   "execution_count": 133,
   "metadata": {},
   "outputs": [],
   "source": [
    "# tworzę posortowane listy bigramów zgodnie z różnymi miarami\n",
    "s_bigrams_llr = [b for b, _ in sorted(list(bigrams_llr.items()), key=(lambda x: (-x[1], x[0])))]\n",
    "s_common_bigrams_pmi = [b for b, _ in sorted(list(common_bigrams_pmi.items()), key=(lambda x: (-x[1], x[0])))]\n",
    "s_bigrams_pmi = [b for b, _ in sorted(list(bigrams_pmi.items()), key=(lambda x: (-x[1], x[0])))]"
   ]
  },
  {
   "cell_type": "code",
   "execution_count": 146,
   "metadata": {},
   "outputs": [],
   "source": [
    "# wyliczam indeksy bigramów w każdej z list\n",
    "llr_place = []\n",
    "common_pmi_place = []\n",
    "pmi_place = []\n",
    "for bigram in top_bigrams:\n",
    "    llr_place.append(s_bigrams_llr.index(bigram) + 1)\n",
    "    try:\n",
    "        common_pmi_place.append(s_common_bigrams_pmi.index(bigram) + 1)\n",
    "    except:\n",
    "        common_pmi_place.append(np.inf)\n",
    "    pmi_place.append(s_bigrams_pmi.index(bigram) + 1)"
   ]
  },
  {
   "cell_type": "code",
   "execution_count": 147,
   "metadata": {},
   "outputs": [
    {
     "data": {
      "text/html": [
       "<div>\n",
       "<style scoped>\n",
       "    .dataframe tbody tr th:only-of-type {\n",
       "        vertical-align: middle;\n",
       "    }\n",
       "\n",
       "    .dataframe tbody tr th {\n",
       "        vertical-align: top;\n",
       "    }\n",
       "\n",
       "    .dataframe thead th {\n",
       "        text-align: right;\n",
       "    }\n",
       "</style>\n",
       "<table border=\"1\" class=\"dataframe\">\n",
       "  <thead>\n",
       "    <tr style=\"text-align: right;\">\n",
       "      <th></th>\n",
       "      <th>llr_index</th>\n",
       "      <th>common_pmi_index</th>\n",
       "      <th>pmi_index</th>\n",
       "    </tr>\n",
       "  </thead>\n",
       "  <tbody>\n",
       "    <tr>\n",
       "      <th>(mowa, w)</th>\n",
       "      <td>1</td>\n",
       "      <td>37678.0</td>\n",
       "      <td>290211</td>\n",
       "    </tr>\n",
       "    <tr>\n",
       "      <th>(których, mowa)</th>\n",
       "      <td>2</td>\n",
       "      <td>23857.0</td>\n",
       "      <td>191197</td>\n",
       "    </tr>\n",
       "    <tr>\n",
       "      <th>(o, których)</th>\n",
       "      <td>3</td>\n",
       "      <td>30495.0</td>\n",
       "      <td>242352</td>\n",
       "    </tr>\n",
       "    <tr>\n",
       "      <th>(którym, mowa)</th>\n",
       "      <td>4</td>\n",
       "      <td>23742.0</td>\n",
       "      <td>190139</td>\n",
       "    </tr>\n",
       "    <tr>\n",
       "      <th>(dodaje, się)</th>\n",
       "      <td>5</td>\n",
       "      <td>24963.0</td>\n",
       "      <td>201473</td>\n",
       "    </tr>\n",
       "    <tr>\n",
       "      <th>(do, spraw)</th>\n",
       "      <td>6</td>\n",
       "      <td>28454.0</td>\n",
       "      <td>226311</td>\n",
       "    </tr>\n",
       "    <tr>\n",
       "      <th>(o, którym)</th>\n",
       "      <td>7</td>\n",
       "      <td>30237.0</td>\n",
       "      <td>239934</td>\n",
       "    </tr>\n",
       "    <tr>\n",
       "      <th>(i, nr)</th>\n",
       "      <td>8</td>\n",
       "      <td>45712.0</td>\n",
       "      <td>338681</td>\n",
       "    </tr>\n",
       "    <tr>\n",
       "      <th>(z, dnia)</th>\n",
       "      <td>9</td>\n",
       "      <td>35439.0</td>\n",
       "      <td>273479</td>\n",
       "    </tr>\n",
       "    <tr>\n",
       "      <th>(na, podstawie)</th>\n",
       "      <td>10</td>\n",
       "      <td>26625.0</td>\n",
       "      <td>213367</td>\n",
       "    </tr>\n",
       "    <tr>\n",
       "      <th>(administracjami, drogowymi)</th>\n",
       "      <td>63087</td>\n",
       "      <td>inf</td>\n",
       "      <td>1</td>\n",
       "    </tr>\n",
       "    <tr>\n",
       "      <th>(aegroti, suprema)</th>\n",
       "      <td>63088</td>\n",
       "      <td>inf</td>\n",
       "      <td>2</td>\n",
       "    </tr>\n",
       "    <tr>\n",
       "      <th>(aerodynamicznej, szorstkości)</th>\n",
       "      <td>63089</td>\n",
       "      <td>inf</td>\n",
       "      <td>3</td>\n",
       "    </tr>\n",
       "    <tr>\n",
       "      <th>(agregatach, pralniczych)</th>\n",
       "      <td>63090</td>\n",
       "      <td>inf</td>\n",
       "      <td>4</td>\n",
       "    </tr>\n",
       "    <tr>\n",
       "      <th>(agricoltura, biologica)</th>\n",
       "      <td>63091</td>\n",
       "      <td>inf</td>\n",
       "      <td>5</td>\n",
       "    </tr>\n",
       "    <tr>\n",
       "      <th>(agriculture, biologique)</th>\n",
       "      <td>63092</td>\n",
       "      <td>inf</td>\n",
       "      <td>6</td>\n",
       "    </tr>\n",
       "    <tr>\n",
       "      <th>(agrotechniki, nienaruszającej)</th>\n",
       "      <td>63093</td>\n",
       "      <td>inf</td>\n",
       "      <td>7</td>\n",
       "    </tr>\n",
       "    <tr>\n",
       "      <th>(aktowi, normatywnemu)</th>\n",
       "      <td>63095</td>\n",
       "      <td>inf</td>\n",
       "      <td>8</td>\n",
       "    </tr>\n",
       "    <tr>\n",
       "      <th>(aleksander, małachowski)</th>\n",
       "      <td>63098</td>\n",
       "      <td>inf</td>\n",
       "      <td>9</td>\n",
       "    </tr>\n",
       "    <tr>\n",
       "      <th>(aleksandrów, kujawski)</th>\n",
       "      <td>63099</td>\n",
       "      <td>inf</td>\n",
       "      <td>10</td>\n",
       "    </tr>\n",
       "    <tr>\n",
       "      <th>(grzegorz, schetyna)</th>\n",
       "      <td>12102</td>\n",
       "      <td>1.0</td>\n",
       "      <td>1367</td>\n",
       "    </tr>\n",
       "    <tr>\n",
       "      <th>(młyny, kulowe)</th>\n",
       "      <td>12104</td>\n",
       "      <td>2.0</td>\n",
       "      <td>1400</td>\n",
       "    </tr>\n",
       "    <tr>\n",
       "      <th>(ręcznego, miotacza)</th>\n",
       "      <td>12106</td>\n",
       "      <td>3.0</td>\n",
       "      <td>1459</td>\n",
       "    </tr>\n",
       "    <tr>\n",
       "      <th>(zaszkodzić, wynikom)</th>\n",
       "      <td>12109</td>\n",
       "      <td>4.0</td>\n",
       "      <td>1534</td>\n",
       "    </tr>\n",
       "    <tr>\n",
       "      <th>(świeckie, przygotowujące)</th>\n",
       "      <td>12110</td>\n",
       "      <td>5.0</td>\n",
       "      <td>1544</td>\n",
       "    </tr>\n",
       "    <tr>\n",
       "      <th>(adama, mickiewicza)</th>\n",
       "      <td>10045</td>\n",
       "      <td>6.0</td>\n",
       "      <td>1551</td>\n",
       "    </tr>\n",
       "    <tr>\n",
       "      <th>(mleczka, makowego)</th>\n",
       "      <td>12683</td>\n",
       "      <td>7.0</td>\n",
       "      <td>1645</td>\n",
       "    </tr>\n",
       "    <tr>\n",
       "      <th>(przeponowe, rurowe)</th>\n",
       "      <td>12685</td>\n",
       "      <td>8.0</td>\n",
       "      <td>1717</td>\n",
       "    </tr>\n",
       "    <tr>\n",
       "      <th>(chwytów, obezwładniających)</th>\n",
       "      <td>13029</td>\n",
       "      <td>9.0</td>\n",
       "      <td>1889</td>\n",
       "    </tr>\n",
       "    <tr>\n",
       "      <th>(lambrekiny, okienne)</th>\n",
       "      <td>10415</td>\n",
       "      <td>10.0</td>\n",
       "      <td>1918</td>\n",
       "    </tr>\n",
       "  </tbody>\n",
       "</table>\n",
       "</div>"
      ],
      "text/plain": [
       "                                 llr_index  common_pmi_index  pmi_index\n",
       "(mowa, w)                                1           37678.0     290211\n",
       "(których, mowa)                          2           23857.0     191197\n",
       "(o, których)                             3           30495.0     242352\n",
       "(którym, mowa)                           4           23742.0     190139\n",
       "(dodaje, się)                            5           24963.0     201473\n",
       "(do, spraw)                              6           28454.0     226311\n",
       "(o, którym)                              7           30237.0     239934\n",
       "(i, nr)                                  8           45712.0     338681\n",
       "(z, dnia)                                9           35439.0     273479\n",
       "(na, podstawie)                         10           26625.0     213367\n",
       "(administracjami, drogowymi)         63087               inf          1\n",
       "(aegroti, suprema)                   63088               inf          2\n",
       "(aerodynamicznej, szorstkości)       63089               inf          3\n",
       "(agregatach, pralniczych)            63090               inf          4\n",
       "(agricoltura, biologica)             63091               inf          5\n",
       "(agriculture, biologique)            63092               inf          6\n",
       "(agrotechniki, nienaruszającej)      63093               inf          7\n",
       "(aktowi, normatywnemu)               63095               inf          8\n",
       "(aleksander, małachowski)            63098               inf          9\n",
       "(aleksandrów, kujawski)              63099               inf         10\n",
       "(grzegorz, schetyna)                 12102               1.0       1367\n",
       "(młyny, kulowe)                      12104               2.0       1400\n",
       "(ręcznego, miotacza)                 12106               3.0       1459\n",
       "(zaszkodzić, wynikom)                12109               4.0       1534\n",
       "(świeckie, przygotowujące)           12110               5.0       1544\n",
       "(adama, mickiewicza)                 10045               6.0       1551\n",
       "(mleczka, makowego)                  12683               7.0       1645\n",
       "(przeponowe, rurowe)                 12685               8.0       1717\n",
       "(chwytów, obezwładniających)         13029               9.0       1889\n",
       "(lambrekiny, okienne)                10415              10.0       1918"
      ]
     },
     "execution_count": 147,
     "metadata": {},
     "output_type": "execute_result"
    }
   ],
   "source": [
    "pd.DataFrame({'llr_index': llr_place, \n",
    "              'common_pmi_index': common_pmi_place, \n",
    "              'pmi_index': pmi_place}, \n",
    "             index=top_bigrams)"
   ]
  },
  {
   "cell_type": "markdown",
   "metadata": {},
   "source": [
    "## Trigrams\n",
    "\n",
    "analogicznie jak dla bigramów"
   ]
  },
  {
   "cell_type": "code",
   "execution_count": 148,
   "metadata": {},
   "outputs": [],
   "source": [
    "top_trigrams = []\n",
    "for trigram, score in top_llr_trigrams + top_common_pmi_trigrams:\n",
    "    top_trigrams.append(trigram)"
   ]
  },
  {
   "cell_type": "code",
   "execution_count": 149,
   "metadata": {},
   "outputs": [],
   "source": [
    "s_trigrams_llr = [b for b, _ in sorted(list(trigrams_llr.items()), key=(lambda x: (-x[1], x[0])))]\n",
    "s_common_trigrams_pmi = [b for b, _ in sorted(list(common_trigrams_pmi.items()), key=(lambda x: (-x[1], x[0])))]"
   ]
  },
  {
   "cell_type": "code",
   "execution_count": 150,
   "metadata": {},
   "outputs": [],
   "source": [
    "llr_place = []\n",
    "common_pmi_place = []\n",
    "for trigram in top_trigrams:\n",
    "    llr_place.append(s_trigrams_llr.index(trigram) + 1)\n",
    "    try:\n",
    "        common_pmi_place.append(s_common_trigrams_pmi.index(trigram) + 1)\n",
    "    except:\n",
    "        common_pmi_place.append(np.inf)"
   ]
  },
  {
   "cell_type": "code",
   "execution_count": 151,
   "metadata": {},
   "outputs": [
    {
     "data": {
      "text/html": [
       "<div>\n",
       "<style scoped>\n",
       "    .dataframe tbody tr th:only-of-type {\n",
       "        vertical-align: middle;\n",
       "    }\n",
       "\n",
       "    .dataframe tbody tr th {\n",
       "        vertical-align: top;\n",
       "    }\n",
       "\n",
       "    .dataframe thead th {\n",
       "        text-align: right;\n",
       "    }\n",
       "</style>\n",
       "<table border=\"1\" class=\"dataframe\">\n",
       "  <thead>\n",
       "    <tr style=\"text-align: right;\">\n",
       "      <th></th>\n",
       "      <th>llr_index</th>\n",
       "      <th>common_pmi_index</th>\n",
       "    </tr>\n",
       "  </thead>\n",
       "  <tbody>\n",
       "    <tr>\n",
       "      <th>(w, których, w)</th>\n",
       "      <td>1</td>\n",
       "      <td>38783.0</td>\n",
       "    </tr>\n",
       "    <tr>\n",
       "      <th>(w, którym, w)</th>\n",
       "      <td>2</td>\n",
       "      <td>38784.0</td>\n",
       "    </tr>\n",
       "    <tr>\n",
       "      <th>(w, której, w)</th>\n",
       "      <td>3</td>\n",
       "      <td>38779.0</td>\n",
       "    </tr>\n",
       "    <tr>\n",
       "      <th>(w, i, i)</th>\n",
       "      <td>4</td>\n",
       "      <td>inf</td>\n",
       "    </tr>\n",
       "    <tr>\n",
       "      <th>(w, ustawie, w)</th>\n",
       "      <td>5</td>\n",
       "      <td>38731.0</td>\n",
       "    </tr>\n",
       "    <tr>\n",
       "      <th>(w, tym, w)</th>\n",
       "      <td>6</td>\n",
       "      <td>38480.0</td>\n",
       "    </tr>\n",
       "    <tr>\n",
       "      <th>(w, zakresie, w)</th>\n",
       "      <td>7</td>\n",
       "      <td>38762.0</td>\n",
       "    </tr>\n",
       "    <tr>\n",
       "      <th>(w, pracy, w)</th>\n",
       "      <td>8</td>\n",
       "      <td>inf</td>\n",
       "    </tr>\n",
       "    <tr>\n",
       "      <th>(w, określonych, w)</th>\n",
       "      <td>9</td>\n",
       "      <td>inf</td>\n",
       "    </tr>\n",
       "    <tr>\n",
       "      <th>(w, życie, w)</th>\n",
       "      <td>10</td>\n",
       "      <td>38694.0</td>\n",
       "    </tr>\n",
       "    <tr>\n",
       "      <th>(piłce, nożnej, uefa)</th>\n",
       "      <td>723068</td>\n",
       "      <td>1.0</td>\n",
       "    </tr>\n",
       "    <tr>\n",
       "      <th>(profilem, zaufanym, epuap)</th>\n",
       "      <td>723518</td>\n",
       "      <td>2.0</td>\n",
       "    </tr>\n",
       "    <tr>\n",
       "      <th>(religijne, uroczystości, pogrzebowe)</th>\n",
       "      <td>722936</td>\n",
       "      <td>3.0</td>\n",
       "    </tr>\n",
       "    <tr>\n",
       "      <th>(finałowego, turnieju, mistrzostw)</th>\n",
       "      <td>723616</td>\n",
       "      <td>4.0</td>\n",
       "    </tr>\n",
       "    <tr>\n",
       "      <th>(potwierdzonym, profilem, zaufanym)</th>\n",
       "      <td>722899</td>\n",
       "      <td>5.0</td>\n",
       "    </tr>\n",
       "    <tr>\n",
       "      <th>(turnieju, mistrzostw, europy)</th>\n",
       "      <td>723409</td>\n",
       "      <td>6.0</td>\n",
       "    </tr>\n",
       "    <tr>\n",
       "      <th>(grożącą, jemu, samemu)</th>\n",
       "      <td>722154</td>\n",
       "      <td>7.0</td>\n",
       "    </tr>\n",
       "    <tr>\n",
       "      <th>(bankowemu, funduszowi, gwarancyjnemu)</th>\n",
       "      <td>720649</td>\n",
       "      <td>8.0</td>\n",
       "    </tr>\n",
       "    <tr>\n",
       "      <th>(komunalne, osady, ściekowe)</th>\n",
       "      <td>722304</td>\n",
       "      <td>9.0</td>\n",
       "    </tr>\n",
       "    <tr>\n",
       "      <th>(konfesyjne, nauczanie, religii)</th>\n",
       "      <td>722167</td>\n",
       "      <td>10.0</td>\n",
       "    </tr>\n",
       "  </tbody>\n",
       "</table>\n",
       "</div>"
      ],
      "text/plain": [
       "                                        llr_index  common_pmi_index\n",
       "(w, których, w)                                 1           38783.0\n",
       "(w, którym, w)                                  2           38784.0\n",
       "(w, której, w)                                  3           38779.0\n",
       "(w, i, i)                                       4               inf\n",
       "(w, ustawie, w)                                 5           38731.0\n",
       "(w, tym, w)                                     6           38480.0\n",
       "(w, zakresie, w)                                7           38762.0\n",
       "(w, pracy, w)                                   8               inf\n",
       "(w, określonych, w)                             9               inf\n",
       "(w, życie, w)                                  10           38694.0\n",
       "(piłce, nożnej, uefa)                      723068               1.0\n",
       "(profilem, zaufanym, epuap)                723518               2.0\n",
       "(religijne, uroczystości, pogrzebowe)      722936               3.0\n",
       "(finałowego, turnieju, mistrzostw)         723616               4.0\n",
       "(potwierdzonym, profilem, zaufanym)        722899               5.0\n",
       "(turnieju, mistrzostw, europy)             723409               6.0\n",
       "(grożącą, jemu, samemu)                    722154               7.0\n",
       "(bankowemu, funduszowi, gwarancyjnemu)     720649               8.0\n",
       "(komunalne, osady, ściekowe)               722304               9.0\n",
       "(konfesyjne, nauczanie, religii)           722167              10.0"
      ]
     },
     "execution_count": 151,
     "metadata": {},
     "output_type": "execute_result"
    }
   ],
   "source": [
    "pd.DataFrame({'llr_index': llr_place, \n",
    "              'common_pmi_index': common_pmi_place}, \n",
    "             index=top_trigrams)"
   ]
  },
  {
   "cell_type": "markdown",
   "metadata": {},
   "source": [
    "# Zadanie 12 Wnioski\n",
    "\n",
    "1. Why do we have to filter the bigrams, rather than the token sequence?\n",
    "\n",
    "Odfiltrowanie błędnych tokenów i potem tworzenie z nich bigramów / trigramów doprowadziło by do uzyskiwania sztucznych multiwordów nie występujących na prawdę w tekscie. Przykładowo z fragmentu zdania 'z art. 5a skreśla się' otrzymalibyśmy błędny bigram (z, skreśla).\n",
    "\n",
    "2. Which measure (PMI, PMI with filtering, LLR) works better for the bigrams and which for the trigrams?\n",
    "\n",
    "Dla trigramów wyraźnie lepiej poradziła sobie miara PMI (po odfiltrowaniu trigramów występujących 5 razy), od miary LLR. Ponadto dobre frazy zwrócone przez PMI są bardzo nisko na liście fraz posortowanych po LLR.\n",
    "\n",
    "Dla bigramów najgorzej poradziła sobie miara PMI bez odfiltrowania bigramów występujących często, bo pozwoliła uzyskać frazy występujące jednokrotnie, więc mało istotne. LLR i PMI po odfiltrowaniu zwróciły bardzo różne wyniki, ale ciężko stwierdzić, które z nich były lepsze. PMI zwróciło frazy rzeczywiście łączące sie często ze sobą jak 'adama mickiewicza' czy 'chwytów obezwładniających', ale nie występujące za często, a LLR frazy o wiele częściej łączące się ze sobą ('o których', 'z dnia'), ale mało ciekawe, związane z typowymi konstrukcjami językowymi.\n",
    "\n",
    "3. What types of expressions are discovered by the methods.\n",
    "\n",
    "LLR znajduje często występujące frazy łączące się ze sobą, ale będące zwykle utartymi konstrukcjami językowymi ('dodaje się', 'o których', 'w tym w'), czyli frazy które często się ze sobą łączą i występują często.\n",
    "PMI, bez filtrowania fraz występujących często, zwraca frazy występujące bardzo rzadko i zawierające słowa występujące bardzo rzadko ('aerodynamicznej szorstkości', 'agregatach pralniczych').\n",
    "PMI, z filtrowaniem fraz występujących często, zwraca frazy rzeczywiście łączące się często ze sobą, ale nie wsytępujące najczęściej w naszym zbiorze dokumentów. W związku z tym nie są to raczej konstrukcje językowe, tylko frazy, których pojedyczne słowa jak już wystąpią, to zazwyczaj wchodzą właśnie w skład tej frazy ('profilem zaufanym epuap', 'komunalne osady ściekowe', 'grzegorz schetyna')\n",
    "\n",
    "\n",
    "4. Can you devise a different type of filtering that would yield better results?\n",
    "\n",
    "Można pokombinować ze zwiększeniem warunku liczby wystąpień, aby uznać multiword za występujący często, przed liczeniem PMI. Można też pomyśleć o ważeniu miar LLR i PMI.\n"
   ]
  }
 ],
 "metadata": {
  "kernelspec": {
   "display_name": "Python 3",
   "language": "python",
   "name": "python3"
  },
  "language_info": {
   "codemirror_mode": {
    "name": "ipython",
    "version": 3
   },
   "file_extension": ".py",
   "mimetype": "text/x-python",
   "name": "python",
   "nbconvert_exporter": "python",
   "pygments_lexer": "ipython3",
   "version": "3.7.9"
  }
 },
 "nbformat": 4,
 "nbformat_minor": 4
}
